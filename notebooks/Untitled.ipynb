{
 "cells": [
  {
   "cell_type": "code",
   "execution_count": 4,
   "metadata": {
    "collapsed": false
   },
   "outputs": [],
   "source": [
    "%matplotlib inline\n",
    "import urllib\n",
    "from bs4 import BeautifulSoup\n",
    "import matplotlib\n",
    "import shapefile\n",
    "import pandas as pd\n",
    "import re\n",
    "from shapely import geometry,ops,speedups\n",
    "import os\n",
    "import seaborn\n",
    "from collections import defaultdict\n",
    "import pickle\n",
    "import matplotlib.pyplot  as plt\n",
    "import numpy as np\n",
    "import pandas as pd\n",
    "import numpy as np\n",
    "import math\n",
    "import shapefile\n",
    "import os\n",
    "import scipy as sp\n",
    "import matplotlib as mpl \n",
    "import matplotlib.cm as cm \n",
    "import matplotlib.pyplot as plt \n",
    "import datetime\n",
    "import seaborn as sns\n",
    "from matplotlib.patches import Circle\n",
    "import glob\n",
    "import shapefile\n",
    "from sklearn import cluster\n",
    "from collections import defaultdict\n",
    "import dill\n",
    "import json\n",
    "import utm\n",
    "from collections import defaultdict\n",
    "from numpy import linalg\n",
    "from itertools import combinations\n",
    "from shapefile_read import get_records, grid_and_bur\n",
    "from taxi_manipulations import taxi_data\n"
   ]
  },
  {
   "cell_type": "code",
   "execution_count": 5,
   "metadata": {
    "collapsed": false
   },
   "outputs": [],
   "source": [
    "with open(\"agg_data.dill\",\"r\") as f:\n",
    "    agg_data = dill.load(f)"
   ]
  },
  {
   "cell_type": "code",
   "execution_count": 6,
   "metadata": {
    "collapsed": false
   },
   "outputs": [
    {
     "data": {
      "text/plain": [
       "{}"
      ]
     },
     "execution_count": 6,
     "metadata": {},
     "output_type": "execute_result"
    }
   ],
   "source": [
    "agg_data.cluster"
   ]
  },
  {
   "cell_type": "code",
   "execution_count": 7,
   "metadata": {
    "collapsed": true
   },
   "outputs": [],
   "source": [
    "speedups.enable()\n",
    "\n",
    "\n",
    "SPACING = 0.005/4\n",
    "\n",
    "COLUMNS = [u'VendorID', u'tpep_pickup_datetime', u'tpep_dropoff_datetime',\n",
    "       u'passenger_count', u'trip_distance', u'pickup_longitude',\n",
    "       u'pickup_latitude', u'RateCodeID', u'store_and_fwd_flag',\n",
    "       u'dropoff_longitude', u'dropoff_latitude', u'payment_type',\n",
    "       u'fare_amount', u'extra', u'mta_tax', u'tip_amount', u'tolls_amount',\n",
    "       u'improvement_surcharge', u'total_amount', u'Pickup_Borough',\n",
    "       u'Pickup_Neighbourhood', u'Pickup_Zip_code', u'Dropoff_Borough',\n",
    "       u'Dropoff_Neighbourhood', u'Dropoff_Zip_code']\n",
    "TO_USE = [u'tpep_pickup_datetime', u'tpep_dropoff_datetime', u'trip_distance', u'pickup_longitude',\n",
    "       u'pickup_latitude', u'dropoff_longitude', u'dropoff_latitude', u'payment_type',\n",
    "       u'fare_amount',u'tip_amount', u'total_amount', u'Pickup_Borough',\n",
    "       u'Pickup_Neighbourhood', u'Pickup_Zip_code', u'Dropoff_Borough',\n",
    "       u'Dropoff_Neighbourhood', u'Dropoff_Zip_code']\n",
    "\n",
    "\n",
    "INDEX_TO_USE = [COLUMNS.index(item) for item in TO_USE]"
   ]
  },
  {
   "cell_type": "code",
   "execution_count": 8,
   "metadata": {
    "collapsed": false
   },
   "outputs": [
    {
     "name": "stderr",
     "output_type": "stream",
     "text": [
      "Self-intersection at or near point -74.039740173399863 40.699024314884056\n"
     ]
    },
    {
     "name": "stdout",
     "output_type": "stream",
     "text": [
      "Building Grid\n"
     ]
    }
   ],
   "source": [
    "sf = shapefile.Reader(\"new-york_new-york.imposm-shapefiles/new-york_new-york_osm_admin.shp\")\n",
    "\n",
    "names = {\"Kings County\":\"Brooklyn\",\"Queens County\":\"Queens\",\"Richmond County\":\"Statten Island\",\n",
    "         \"New York County\":\"Manhattan\",\"Bronx County\":\"Bronx\"}\n",
    "ny_records = get_records(sf, names)\n",
    "\n",
    "print \"Building Grid\"\n",
    "\n",
    "nyGrid = grid_and_bur(SPACING,ny_records)\n",
    "\n",
    "nyGrid.set_params()"
   ]
  },
  {
   "cell_type": "code",
   "execution_count": 9,
   "metadata": {
    "collapsed": false
   },
   "outputs": [],
   "source": [
    "class agg_data(object):\n",
    "    def __init__(self):\n",
    "        self.rest = pd.read_csv(\"All_Rest.csv\")\n",
    "        self.cluster = {}\n",
    "        self.heat_map = {} \n",
    "        self.rest[\"counts\"] = 0\n",
    "        self.MAX_VAL = 0\n",
    "\n",
    "\n",
    "    def get_rest_boxes(self,grid):\n",
    "        coords = self.rest[[\"Lat\",\"Long\"]].values\n",
    "        self.rest = pd.concat([self.rest,pd.DataFrame({\"grid\":map(lambda x:grid.get_index(*x),coords)})],axis = 1)\n",
    "\n",
    "    def initialize_heat_map(self):\n",
    "        for t in np.arange(0,24,0.5):\n",
    "            self.heat_map[t] = np.zeros(shape = nyGrid.relevant.shape)\n",
    "\n",
    "    def normalize_cmap(self):\n",
    "        for key in self.heat_map:\n",
    "            self.heat_map[key] = np.log(np.log(self.heat_map[key]+1)+1)/self.MAX_VAL\n",
    "\n",
    "\n",
    "TOTAL_DATA = agg_data()\n",
    "TOTAL_DATA.initialize_heat_map()\n",
    "TOTAL_DATA.get_rest_boxes(nyGrid)"
   ]
  },
  {
   "cell_type": "code",
   "execution_count": 10,
   "metadata": {
    "collapsed": false
   },
   "outputs": [
    {
     "name": "stderr",
     "output_type": "stream",
     "text": [
      "/opt/conda/lib/python2.7/site-packages/IPython/core/interactiveshell.py:2723: DtypeWarning: Columns (21,24) have mixed types. Specify dtype option on import or set low_memory=False.\n",
      "  interactivity=interactivity, compiler=compiler, result=result)\n"
     ]
    }
   ],
   "source": [
    "df = pd.read_csv(\"https://storage.googleapis.com/taxi_ben/yellow_2015_01.csv\", usecols=INDEX_TO_USE)"
   ]
  },
  {
   "cell_type": "code",
   "execution_count": 11,
   "metadata": {
    "collapsed": false
   },
   "outputs": [],
   "source": [
    " df.columns = [\"pickup_datetime\", \"dropoff_datetime\", \"trip_distance\",\\\n",
    "\"pickup_long\",\"pickup_lat\",\"dropoff_long\",\"dropoff_lat\", \\\n",
    "\"payment_type\",\"fare_amount\",\"tip_amount\",\"total_amount\",u'Pickup_Borough',\n",
    "       u'Pickup_Neighbourhood', u'Pickup_Zip_code', u'Dropoff_Borough',\n",
    "       u'Dropoff_Neighbourhood', u'Dropoff_Zip_code']"
   ]
  },
  {
   "cell_type": "code",
   "execution_count": 13,
   "metadata": {
    "collapsed": true
   },
   "outputs": [],
   "source": [
    "data = taxi_data(df, nyGrid,\"01\")"
   ]
  },
  {
   "cell_type": "code",
   "execution_count": 14,
   "metadata": {
    "collapsed": false
   },
   "outputs": [
    {
     "name": "stdout",
     "output_type": "stream",
     "text": [
      "Converting datetime\n"
     ]
    }
   ],
   "source": [
    "print \"Converting datetime\"\n",
    "data.convert_datetime()"
   ]
  },
  {
   "cell_type": "code",
   "execution_count": 15,
   "metadata": {
    "collapsed": false
   },
   "outputs": [
    {
     "name": "stdout",
     "output_type": "stream",
     "text": [
      "Adding Details\n"
     ]
    }
   ],
   "source": [
    "print \"Adding Details\"\n",
    "data.add_details()"
   ]
  },
  {
   "cell_type": "code",
   "execution_count": 16,
   "metadata": {
    "collapsed": false
   },
   "outputs": [
    {
     "name": "stdout",
     "output_type": "stream",
     "text": [
      "Cleaning Data\n"
     ]
    }
   ],
   "source": [
    "print \"Cleaning Data\"\n",
    "data.clean_data()"
   ]
  },
  {
   "cell_type": "code",
   "execution_count": 17,
   "metadata": {
    "collapsed": false
   },
   "outputs": [
    {
     "name": "stdout",
     "output_type": "stream",
     "text": [
      "Setting Boxes\n"
     ]
    }
   ],
   "source": [
    "print \"Setting Boxes\"\n",
    "data.set_boxes()"
   ]
  },
  {
   "cell_type": "code",
   "execution_count": 27,
   "metadata": {
    "collapsed": false
   },
   "outputs": [],
   "source": [
    "for name,g in data.df.groupby(\"half_hour\"):\n",
    "    g2 = g.groupby(\"drop_grid\").agg('size')\n",
    "    g2.index"
   ]
  },
  {
   "cell_type": "code",
   "execution_count": 15,
   "metadata": {
    "collapsed": false
   },
   "outputs": [
    {
     "name": "stdout",
     "output_type": "stream",
     "text": [
      "Updataing Heatmap\n"
     ]
    }
   ],
   "source": [
    "print \"Updataing Heatmap\"\n",
    "data.update_heat_map(TOTAL_DATA)"
   ]
  },
  {
   "cell_type": "code",
   "execution_count": 18,
   "metadata": {
    "collapsed": false
   },
   "outputs": [
    {
     "name": "stdout",
     "output_type": "stream",
     "text": [
      "Clustering\n"
     ]
    }
   ],
   "source": [
    "print \"Clustering\"\n",
    "data.perform_clustering(TOTAL_DATA)"
   ]
  },
  {
   "cell_type": "code",
   "execution_count": 20,
   "metadata": {
    "collapsed": false
   },
   "outputs": [
    {
     "data": {
      "text/plain": [
       "{}"
      ]
     },
     "execution_count": 20,
     "metadata": {},
     "output_type": "execute_result"
    }
   ],
   "source": [
    "TOTAL_DATA.cluster"
   ]
  },
  {
   "cell_type": "code",
   "execution_count": 30,
   "metadata": {
    "collapsed": false
   },
   "outputs": [
    {
     "name": "stderr",
     "output_type": "stream",
     "text": [
      "/opt/conda/lib/python2.7/site-packages/ipykernel/__main__.py:19: SettingWithCopyWarning: \n",
      "A value is trying to be set on a copy of a slice from a DataFrame.\n",
      "Try using .loc[row_indexer,col_indexer] = value instead\n",
      "\n",
      "See the caveats in the documentation: http://pandas.pydata.org/pandas-docs/stable/indexing.html#indexing-view-versus-copy\n"
     ]
    }
   ],
   "source": [
    "perform_clustering(data.df,TOTAL_DATA)"
   ]
  },
  {
   "cell_type": "code",
   "execution_count": 29,
   "metadata": {
    "collapsed": false
   },
   "outputs": [],
   "source": [
    "def perform_clustering(df, agg_data):\n",
    "    groups_to_use = [\"Pickup_Borough\",\"pickup_month\",\"pickup_day\",\"time_category_pick\"]\n",
    "\n",
    "    for name,group in df.groupby(by = groups_to_use):\n",
    "        if name[0] == \"Manhattan\":\n",
    "            eps = 80\n",
    "            throttle = 0.0025\n",
    "        else:\n",
    "            eps = 150\n",
    "            throttle = 0.005\n",
    "\n",
    "\n",
    "\n",
    "\n",
    "        coords_pick = map(lambda x: utm.from_latlon(*x)[:2],zip(group.pickup_lat.values, group.pickup_long.values))\n",
    "        min_samples = max(4,len(coords_pick)*throttle)\n",
    "        dbScan = cluster.DBSCAN(eps = eps, min_samples= min_samples, metric = \"euclidean\")\n",
    "        result = dbScan.fit_predict(coords_pick)\n",
    "        group[\"result\"] = result\n",
    "        g2 = group[[\"pickup_lat\",\"pickup_long\",\"fare_amount\",\"payment_type\",\"duration\",\"result\"]].groupby(\"result\")\n",
    "        temp = []\n",
    "        for name2,group2 in g2:\n",
    "            if name2 != -1: \n",
    "                poly = geometry.MultiPoint(group2[[\"pickup_long\",\"pickup_lat\"]].values).convex_hull\n",
    "                count_vals = len(group2[\"pickup_lat\"])\n",
    "                g2card = group2[group2[\"payment_type\"] ==1]\n",
    "                if g2card.size > 0:\n",
    "                    mean_tip = g2card[\"fare_amount\"].sum()/float(g2card[\"duration\"].sum().seconds/60.0)\n",
    "                else:\n",
    "                    mean_tip = 0\n",
    "                temp.append([poly,count_vals,mean_tip])\n",
    "        if temp:#yield temp\n",
    "\n",
    "            dfTemp = pd.DataFrame(temp, columns = [\"poly\",\"counts\",\"percent\"])\n",
    "            dfTemp[\"normalized\"] = dfTemp[\"percent\"]*(dfTemp[\"counts\"]/dfTemp[\"counts\"].sum())\n",
    "            dfTemp[\"normalized\"] = dfTemp[\"normalized\"]/(dfTemp[\"normalized\"].max()+0.0000001)\n",
    "            name_of_group = tuple([\"01\"] + list(name))\n",
    "            agg_data.cluster[name_of_group] = dfTemp\n",
    "            del dfTemp\n"
   ]
  },
  {
   "cell_type": "code",
   "execution_count": null,
   "metadata": {
    "collapsed": false
   },
   "outputs": [
    {
     "name": "stderr",
     "output_type": "stream",
     "text": [
      "/opt/conda/lib/python2.7/site-packages/ipykernel/__main__.py:18: SettingWithCopyWarning: \n",
      "A value is trying to be set on a copy of a slice from a DataFrame.\n",
      "Try using .loc[row_indexer,col_indexer] = value instead\n",
      "\n",
      "See the caveats in the documentation: http://pandas.pydata.org/pandas-docs/stable/indexing.html#indexing-view-versus-copy\n",
      "Exception KeyboardInterrupt in <bound method Polygon.__del__ of <shapely.geometry.polygon.Polygon object at 0x7f750db432d0>> ignored\n",
      "Exception KeyboardInterrupt in <bound method Polygon.__del__ of <shapely.geometry.polygon.Polygon object at 0x7f750db06790>> ignored\n",
      "Exception KeyboardInterrupt in <bound method Polygon.__del__ of <shapely.geometry.polygon.Polygon object at 0x7f750db06d50>> ignored\n",
      "Exception KeyboardInterrupt in <bound method Polygon.__del__ of <shapely.geometry.polygon.Polygon object at 0x7f750db06e90>> ignored\n",
      "Exception KeyboardInterrupt in <bound method Polygon.__del__ of <shapely.geometry.polygon.Polygon object at 0x7f750dae7a10>> ignored\n",
      "Exception KeyboardInterrupt in <bound method Polygon.__del__ of <shapely.geometry.polygon.Polygon object at 0x7f750dae7250>> ignored\n",
      "Exception KeyboardInterrupt in <bound method Point.__del__ of <shapely.geometry.point.Point object at 0x7f750dae7510>> ignored\n",
      "Exception KeyboardInterrupt in <bound method Polygon.__del__ of <shapely.geometry.polygon.Polygon object at 0x7f750dae7ed0>> ignored\n",
      "Exception KeyboardInterrupt in <bound method Polygon.__del__ of <shapely.geometry.polygon.Polygon object at 0x7f750dae7e50>> ignored\n",
      "Exception KeyboardInterrupt in <bound method Polygon.__del__ of <shapely.geometry.polygon.Polygon object at 0x7f750dae7410>> ignored\n",
      "Exception KeyboardInterrupt in <bound method Polygon.__del__ of <shapely.geometry.polygon.Polygon object at 0x7f750da6b8d0>> ignored\n"
     ]
    },
    {
     "ename": "KeyboardInterrupt",
     "evalue": "",
     "output_type": "error",
     "traceback": [
      "\u001b[1;31m---------------------------------------------------------------------------\u001b[0m",
      "\u001b[1;31mKeyboardInterrupt\u001b[0m                         Traceback (most recent call last)",
      "\u001b[1;32m<ipython-input-40-e08a985881d5>\u001b[0m in \u001b[0;36m<module>\u001b[1;34m()\u001b[0m\n\u001b[0;32m     19\u001b[0m     \u001b[0mg2\u001b[0m \u001b[1;33m=\u001b[0m \u001b[0mgroup\u001b[0m\u001b[1;33m[\u001b[0m\u001b[1;33m[\u001b[0m\u001b[1;34m\"pickup_lat\"\u001b[0m\u001b[1;33m,\u001b[0m\u001b[1;34m\"pickup_long\"\u001b[0m\u001b[1;33m,\u001b[0m\u001b[1;34m\"payment_type\"\u001b[0m\u001b[1;33m,\u001b[0m\u001b[1;34m\"fare_amount\"\u001b[0m\u001b[1;33m,\u001b[0m\u001b[1;34m\"duration\"\u001b[0m\u001b[1;33m,\u001b[0m\u001b[1;34m\"result\"\u001b[0m\u001b[1;33m]\u001b[0m\u001b[1;33m]\u001b[0m\u001b[1;33m.\u001b[0m\u001b[0mgroupby\u001b[0m\u001b[1;33m(\u001b[0m\u001b[1;34m\"result\"\u001b[0m\u001b[1;33m)\u001b[0m\u001b[1;33m\u001b[0m\u001b[0m\n\u001b[0;32m     20\u001b[0m     \u001b[0mtemp\u001b[0m \u001b[1;33m=\u001b[0m \u001b[1;33m[\u001b[0m\u001b[1;33m]\u001b[0m\u001b[1;33m\u001b[0m\u001b[0m\n\u001b[1;32m---> 21\u001b[1;33m     \u001b[1;32mfor\u001b[0m \u001b[0mname2\u001b[0m\u001b[1;33m,\u001b[0m\u001b[0mgroup2\u001b[0m \u001b[1;32min\u001b[0m \u001b[0mg2\u001b[0m\u001b[1;33m:\u001b[0m\u001b[1;33m\u001b[0m\u001b[0m\n\u001b[0m\u001b[0;32m     22\u001b[0m         \u001b[1;32mif\u001b[0m \u001b[0mname2\u001b[0m \u001b[1;33m!=\u001b[0m \u001b[1;33m-\u001b[0m\u001b[1;36m1\u001b[0m\u001b[1;33m:\u001b[0m\u001b[1;33m\u001b[0m\u001b[0m\n\u001b[0;32m     23\u001b[0m             \u001b[0mpoly\u001b[0m \u001b[1;33m=\u001b[0m \u001b[0mgeometry\u001b[0m\u001b[1;33m.\u001b[0m\u001b[0mMultiPoint\u001b[0m\u001b[1;33m(\u001b[0m\u001b[0mgroup2\u001b[0m\u001b[1;33m[\u001b[0m\u001b[1;33m[\u001b[0m\u001b[1;34m\"pickup_long\"\u001b[0m\u001b[1;33m,\u001b[0m\u001b[1;34m\"pickup_lat\"\u001b[0m\u001b[1;33m]\u001b[0m\u001b[1;33m]\u001b[0m\u001b[1;33m.\u001b[0m\u001b[0mvalues\u001b[0m\u001b[1;33m)\u001b[0m\u001b[1;33m.\u001b[0m\u001b[0mconvex_hull\u001b[0m\u001b[1;33m\u001b[0m\u001b[0m\n",
      "\u001b[1;32m/opt/conda/lib/python2.7/site-packages/pandas/core/groupby.pyc\u001b[0m in \u001b[0;36mget_iterator\u001b[1;34m(self, data, axis)\u001b[0m\n\u001b[0;32m   1483\u001b[0m         \u001b[0msplitter\u001b[0m \u001b[1;33m=\u001b[0m \u001b[0mself\u001b[0m\u001b[1;33m.\u001b[0m\u001b[0m_get_splitter\u001b[0m\u001b[1;33m(\u001b[0m\u001b[0mdata\u001b[0m\u001b[1;33m,\u001b[0m \u001b[0maxis\u001b[0m\u001b[1;33m=\u001b[0m\u001b[0maxis\u001b[0m\u001b[1;33m)\u001b[0m\u001b[1;33m\u001b[0m\u001b[0m\n\u001b[0;32m   1484\u001b[0m         \u001b[0mkeys\u001b[0m \u001b[1;33m=\u001b[0m \u001b[0mself\u001b[0m\u001b[1;33m.\u001b[0m\u001b[0m_get_group_keys\u001b[0m\u001b[1;33m(\u001b[0m\u001b[1;33m)\u001b[0m\u001b[1;33m\u001b[0m\u001b[0m\n\u001b[1;32m-> 1485\u001b[1;33m         \u001b[1;32mfor\u001b[0m \u001b[0mkey\u001b[0m\u001b[1;33m,\u001b[0m \u001b[1;33m(\u001b[0m\u001b[0mi\u001b[0m\u001b[1;33m,\u001b[0m \u001b[0mgroup\u001b[0m\u001b[1;33m)\u001b[0m \u001b[1;32min\u001b[0m \u001b[0mzip\u001b[0m\u001b[1;33m(\u001b[0m\u001b[0mkeys\u001b[0m\u001b[1;33m,\u001b[0m \u001b[0msplitter\u001b[0m\u001b[1;33m)\u001b[0m\u001b[1;33m:\u001b[0m\u001b[1;33m\u001b[0m\u001b[0m\n\u001b[0m\u001b[0;32m   1486\u001b[0m             \u001b[1;32myield\u001b[0m \u001b[0mkey\u001b[0m\u001b[1;33m,\u001b[0m \u001b[0mgroup\u001b[0m\u001b[1;33m\u001b[0m\u001b[0m\n\u001b[0;32m   1487\u001b[0m \u001b[1;33m\u001b[0m\u001b[0m\n",
      "\u001b[1;32m/opt/conda/lib/python2.7/site-packages/pandas/core/groupby.pyc\u001b[0m in \u001b[0;36m__iter__\u001b[1;34m(self)\u001b[0m\n\u001b[0;32m   3893\u001b[0m             \u001b[1;31m#     raise AssertionError('Start %s must be less than end %s'\u001b[0m\u001b[1;33m\u001b[0m\u001b[1;33m\u001b[0m\u001b[0m\n\u001b[0;32m   3894\u001b[0m             \u001b[1;31m#                          % (str(start), str(end)))\u001b[0m\u001b[1;33m\u001b[0m\u001b[1;33m\u001b[0m\u001b[0m\n\u001b[1;32m-> 3895\u001b[1;33m             \u001b[1;32myield\u001b[0m \u001b[0mi\u001b[0m\u001b[1;33m,\u001b[0m \u001b[0mself\u001b[0m\u001b[1;33m.\u001b[0m\u001b[0m_chop\u001b[0m\u001b[1;33m(\u001b[0m\u001b[0msdata\u001b[0m\u001b[1;33m,\u001b[0m \u001b[0mslice\u001b[0m\u001b[1;33m(\u001b[0m\u001b[0mstart\u001b[0m\u001b[1;33m,\u001b[0m \u001b[0mend\u001b[0m\u001b[1;33m)\u001b[0m\u001b[1;33m)\u001b[0m\u001b[1;33m\u001b[0m\u001b[0m\n\u001b[0m\u001b[0;32m   3896\u001b[0m \u001b[1;33m\u001b[0m\u001b[0m\n\u001b[0;32m   3897\u001b[0m     \u001b[1;32mdef\u001b[0m \u001b[0m_get_sorted_data\u001b[0m\u001b[1;33m(\u001b[0m\u001b[0mself\u001b[0m\u001b[1;33m)\u001b[0m\u001b[1;33m:\u001b[0m\u001b[1;33m\u001b[0m\u001b[0m\n",
      "\u001b[1;32m/opt/conda/lib/python2.7/site-packages/pandas/core/groupby.pyc\u001b[0m in \u001b[0;36m_chop\u001b[1;34m(self, sdata, slice_obj)\u001b[0m\n\u001b[0;32m   3935\u001b[0m     \u001b[1;32mdef\u001b[0m \u001b[0m_chop\u001b[0m\u001b[1;33m(\u001b[0m\u001b[0mself\u001b[0m\u001b[1;33m,\u001b[0m \u001b[0msdata\u001b[0m\u001b[1;33m,\u001b[0m \u001b[0mslice_obj\u001b[0m\u001b[1;33m)\u001b[0m\u001b[1;33m:\u001b[0m\u001b[1;33m\u001b[0m\u001b[0m\n\u001b[0;32m   3936\u001b[0m         \u001b[1;32mif\u001b[0m \u001b[0mself\u001b[0m\u001b[1;33m.\u001b[0m\u001b[0maxis\u001b[0m \u001b[1;33m==\u001b[0m \u001b[1;36m0\u001b[0m\u001b[1;33m:\u001b[0m\u001b[1;33m\u001b[0m\u001b[0m\n\u001b[1;32m-> 3937\u001b[1;33m             \u001b[1;32mreturn\u001b[0m \u001b[0msdata\u001b[0m\u001b[1;33m.\u001b[0m\u001b[0miloc\u001b[0m\u001b[1;33m[\u001b[0m\u001b[0mslice_obj\u001b[0m\u001b[1;33m]\u001b[0m\u001b[1;33m\u001b[0m\u001b[0m\n\u001b[0m\u001b[0;32m   3938\u001b[0m         \u001b[1;32melse\u001b[0m\u001b[1;33m:\u001b[0m\u001b[1;33m\u001b[0m\u001b[0m\n\u001b[0;32m   3939\u001b[0m             \u001b[1;32mreturn\u001b[0m \u001b[0msdata\u001b[0m\u001b[1;33m.\u001b[0m\u001b[0m_slice\u001b[0m\u001b[1;33m(\u001b[0m\u001b[0mslice_obj\u001b[0m\u001b[1;33m,\u001b[0m \u001b[0maxis\u001b[0m\u001b[1;33m=\u001b[0m\u001b[1;36m1\u001b[0m\u001b[1;33m)\u001b[0m  \u001b[1;31m# ix[:, slice_obj]\u001b[0m\u001b[1;33m\u001b[0m\u001b[0m\n",
      "\u001b[1;32m/opt/conda/lib/python2.7/site-packages/pandas/core/indexing.pyc\u001b[0m in \u001b[0;36m__getitem__\u001b[1;34m(self, key)\u001b[0m\n\u001b[0;32m   1294\u001b[0m             \u001b[1;32mreturn\u001b[0m \u001b[0mself\u001b[0m\u001b[1;33m.\u001b[0m\u001b[0m_getitem_tuple\u001b[0m\u001b[1;33m(\u001b[0m\u001b[0mkey\u001b[0m\u001b[1;33m)\u001b[0m\u001b[1;33m\u001b[0m\u001b[0m\n\u001b[0;32m   1295\u001b[0m         \u001b[1;32melse\u001b[0m\u001b[1;33m:\u001b[0m\u001b[1;33m\u001b[0m\u001b[0m\n\u001b[1;32m-> 1296\u001b[1;33m             \u001b[1;32mreturn\u001b[0m \u001b[0mself\u001b[0m\u001b[1;33m.\u001b[0m\u001b[0m_getitem_axis\u001b[0m\u001b[1;33m(\u001b[0m\u001b[0mkey\u001b[0m\u001b[1;33m,\u001b[0m \u001b[0maxis\u001b[0m\u001b[1;33m=\u001b[0m\u001b[1;36m0\u001b[0m\u001b[1;33m)\u001b[0m\u001b[1;33m\u001b[0m\u001b[0m\n\u001b[0m\u001b[0;32m   1297\u001b[0m \u001b[1;33m\u001b[0m\u001b[0m\n\u001b[0;32m   1298\u001b[0m     \u001b[1;32mdef\u001b[0m \u001b[0m_getitem_axis\u001b[0m\u001b[1;33m(\u001b[0m\u001b[0mself\u001b[0m\u001b[1;33m,\u001b[0m \u001b[0mkey\u001b[0m\u001b[1;33m,\u001b[0m \u001b[0maxis\u001b[0m\u001b[1;33m=\u001b[0m\u001b[1;36m0\u001b[0m\u001b[1;33m)\u001b[0m\u001b[1;33m:\u001b[0m\u001b[1;33m\u001b[0m\u001b[0m\n",
      "\u001b[1;32m/opt/conda/lib/python2.7/site-packages/pandas/core/indexing.pyc\u001b[0m in \u001b[0;36m_getitem_axis\u001b[1;34m(self, key, axis)\u001b[0m\n\u001b[0;32m   1585\u001b[0m         \u001b[1;32mif\u001b[0m \u001b[0misinstance\u001b[0m\u001b[1;33m(\u001b[0m\u001b[0mkey\u001b[0m\u001b[1;33m,\u001b[0m \u001b[0mslice\u001b[0m\u001b[1;33m)\u001b[0m\u001b[1;33m:\u001b[0m\u001b[1;33m\u001b[0m\u001b[0m\n\u001b[0;32m   1586\u001b[0m             \u001b[0mself\u001b[0m\u001b[1;33m.\u001b[0m\u001b[0m_has_valid_type\u001b[0m\u001b[1;33m(\u001b[0m\u001b[0mkey\u001b[0m\u001b[1;33m,\u001b[0m \u001b[0maxis\u001b[0m\u001b[1;33m)\u001b[0m\u001b[1;33m\u001b[0m\u001b[0m\n\u001b[1;32m-> 1587\u001b[1;33m             \u001b[1;32mreturn\u001b[0m \u001b[0mself\u001b[0m\u001b[1;33m.\u001b[0m\u001b[0m_get_slice_axis\u001b[0m\u001b[1;33m(\u001b[0m\u001b[0mkey\u001b[0m\u001b[1;33m,\u001b[0m \u001b[0maxis\u001b[0m\u001b[1;33m=\u001b[0m\u001b[0maxis\u001b[0m\u001b[1;33m)\u001b[0m\u001b[1;33m\u001b[0m\u001b[0m\n\u001b[0m\u001b[0;32m   1588\u001b[0m \u001b[1;33m\u001b[0m\u001b[0m\n\u001b[0;32m   1589\u001b[0m         \u001b[1;32melif\u001b[0m \u001b[0mis_bool_indexer\u001b[0m\u001b[1;33m(\u001b[0m\u001b[0mkey\u001b[0m\u001b[1;33m)\u001b[0m\u001b[1;33m:\u001b[0m\u001b[1;33m\u001b[0m\u001b[0m\n",
      "\u001b[1;32m/opt/conda/lib/python2.7/site-packages/pandas/core/indexing.pyc\u001b[0m in \u001b[0;36m_get_slice_axis\u001b[1;34m(self, slice_obj, axis)\u001b[0m\n\u001b[0;32m   1577\u001b[0m         \u001b[0mslice_obj\u001b[0m \u001b[1;33m=\u001b[0m \u001b[0mself\u001b[0m\u001b[1;33m.\u001b[0m\u001b[0m_convert_slice_indexer\u001b[0m\u001b[1;33m(\u001b[0m\u001b[0mslice_obj\u001b[0m\u001b[1;33m,\u001b[0m \u001b[0maxis\u001b[0m\u001b[1;33m)\u001b[0m\u001b[1;33m\u001b[0m\u001b[0m\n\u001b[0;32m   1578\u001b[0m         \u001b[1;32mif\u001b[0m \u001b[0misinstance\u001b[0m\u001b[1;33m(\u001b[0m\u001b[0mslice_obj\u001b[0m\u001b[1;33m,\u001b[0m \u001b[0mslice\u001b[0m\u001b[1;33m)\u001b[0m\u001b[1;33m:\u001b[0m\u001b[1;33m\u001b[0m\u001b[0m\n\u001b[1;32m-> 1579\u001b[1;33m             \u001b[1;32mreturn\u001b[0m \u001b[0mself\u001b[0m\u001b[1;33m.\u001b[0m\u001b[0m_slice\u001b[0m\u001b[1;33m(\u001b[0m\u001b[0mslice_obj\u001b[0m\u001b[1;33m,\u001b[0m \u001b[0maxis\u001b[0m\u001b[1;33m=\u001b[0m\u001b[0maxis\u001b[0m\u001b[1;33m,\u001b[0m \u001b[0mkind\u001b[0m\u001b[1;33m=\u001b[0m\u001b[1;34m'iloc'\u001b[0m\u001b[1;33m)\u001b[0m\u001b[1;33m\u001b[0m\u001b[0m\n\u001b[0m\u001b[0;32m   1580\u001b[0m         \u001b[1;32melse\u001b[0m\u001b[1;33m:\u001b[0m\u001b[1;33m\u001b[0m\u001b[0m\n\u001b[0;32m   1581\u001b[0m             \u001b[1;32mreturn\u001b[0m \u001b[0mself\u001b[0m\u001b[1;33m.\u001b[0m\u001b[0mobj\u001b[0m\u001b[1;33m.\u001b[0m\u001b[0mtake\u001b[0m\u001b[1;33m(\u001b[0m\u001b[0mslice_obj\u001b[0m\u001b[1;33m,\u001b[0m \u001b[0maxis\u001b[0m\u001b[1;33m=\u001b[0m\u001b[0maxis\u001b[0m\u001b[1;33m,\u001b[0m \u001b[0mconvert\u001b[0m\u001b[1;33m=\u001b[0m\u001b[0mFalse\u001b[0m\u001b[1;33m)\u001b[0m\u001b[1;33m\u001b[0m\u001b[0m\n",
      "\u001b[1;32m/opt/conda/lib/python2.7/site-packages/pandas/core/indexing.pyc\u001b[0m in \u001b[0;36m_slice\u001b[1;34m(self, obj, axis, kind)\u001b[0m\n\u001b[0;32m     97\u001b[0m \u001b[1;33m\u001b[0m\u001b[0m\n\u001b[0;32m     98\u001b[0m     \u001b[1;32mdef\u001b[0m \u001b[0m_slice\u001b[0m\u001b[1;33m(\u001b[0m\u001b[0mself\u001b[0m\u001b[1;33m,\u001b[0m \u001b[0mobj\u001b[0m\u001b[1;33m,\u001b[0m \u001b[0maxis\u001b[0m\u001b[1;33m=\u001b[0m\u001b[1;36m0\u001b[0m\u001b[1;33m,\u001b[0m \u001b[0mkind\u001b[0m\u001b[1;33m=\u001b[0m\u001b[0mNone\u001b[0m\u001b[1;33m)\u001b[0m\u001b[1;33m:\u001b[0m\u001b[1;33m\u001b[0m\u001b[0m\n\u001b[1;32m---> 99\u001b[1;33m         \u001b[1;32mreturn\u001b[0m \u001b[0mself\u001b[0m\u001b[1;33m.\u001b[0m\u001b[0mobj\u001b[0m\u001b[1;33m.\u001b[0m\u001b[0m_slice\u001b[0m\u001b[1;33m(\u001b[0m\u001b[0mobj\u001b[0m\u001b[1;33m,\u001b[0m \u001b[0maxis\u001b[0m\u001b[1;33m=\u001b[0m\u001b[0maxis\u001b[0m\u001b[1;33m,\u001b[0m \u001b[0mkind\u001b[0m\u001b[1;33m=\u001b[0m\u001b[0mkind\u001b[0m\u001b[1;33m)\u001b[0m\u001b[1;33m\u001b[0m\u001b[0m\n\u001b[0m\u001b[0;32m    100\u001b[0m \u001b[1;33m\u001b[0m\u001b[0m\n\u001b[0;32m    101\u001b[0m     \u001b[1;32mdef\u001b[0m \u001b[0m_get_setitem_indexer\u001b[0m\u001b[1;33m(\u001b[0m\u001b[0mself\u001b[0m\u001b[1;33m,\u001b[0m \u001b[0mkey\u001b[0m\u001b[1;33m)\u001b[0m\u001b[1;33m:\u001b[0m\u001b[1;33m\u001b[0m\u001b[0m\n",
      "\u001b[1;32m/opt/conda/lib/python2.7/site-packages/pandas/core/generic.pyc\u001b[0m in \u001b[0;36m_slice\u001b[1;34m(self, slobj, axis, kind)\u001b[0m\n\u001b[0;32m   1452\u001b[0m         \"\"\"\n\u001b[0;32m   1453\u001b[0m         \u001b[0maxis\u001b[0m \u001b[1;33m=\u001b[0m \u001b[0mself\u001b[0m\u001b[1;33m.\u001b[0m\u001b[0m_get_block_manager_axis\u001b[0m\u001b[1;33m(\u001b[0m\u001b[0maxis\u001b[0m\u001b[1;33m)\u001b[0m\u001b[1;33m\u001b[0m\u001b[0m\n\u001b[1;32m-> 1454\u001b[1;33m         \u001b[0mresult\u001b[0m \u001b[1;33m=\u001b[0m \u001b[0mself\u001b[0m\u001b[1;33m.\u001b[0m\u001b[0m_constructor\u001b[0m\u001b[1;33m(\u001b[0m\u001b[0mself\u001b[0m\u001b[1;33m.\u001b[0m\u001b[0m_data\u001b[0m\u001b[1;33m.\u001b[0m\u001b[0mget_slice\u001b[0m\u001b[1;33m(\u001b[0m\u001b[0mslobj\u001b[0m\u001b[1;33m,\u001b[0m \u001b[0maxis\u001b[0m\u001b[1;33m=\u001b[0m\u001b[0maxis\u001b[0m\u001b[1;33m)\u001b[0m\u001b[1;33m)\u001b[0m\u001b[1;33m\u001b[0m\u001b[0m\n\u001b[0m\u001b[0;32m   1455\u001b[0m         \u001b[0mresult\u001b[0m \u001b[1;33m=\u001b[0m \u001b[0mresult\u001b[0m\u001b[1;33m.\u001b[0m\u001b[0m__finalize__\u001b[0m\u001b[1;33m(\u001b[0m\u001b[0mself\u001b[0m\u001b[1;33m)\u001b[0m\u001b[1;33m\u001b[0m\u001b[0m\n\u001b[0;32m   1456\u001b[0m \u001b[1;33m\u001b[0m\u001b[0m\n",
      "\u001b[1;32m/opt/conda/lib/python2.7/site-packages/pandas/core/frame.pyc\u001b[0m in \u001b[0;36m_constructor\u001b[1;34m(self)\u001b[0m\n\u001b[0;32m    197\u001b[0m     \"\"\"\n\u001b[0;32m    198\u001b[0m \u001b[1;33m\u001b[0m\u001b[0m\n\u001b[1;32m--> 199\u001b[1;33m     \u001b[1;33m@\u001b[0m\u001b[0mproperty\u001b[0m\u001b[1;33m\u001b[0m\u001b[0m\n\u001b[0m\u001b[0;32m    200\u001b[0m     \u001b[1;32mdef\u001b[0m \u001b[0m_constructor\u001b[0m\u001b[1;33m(\u001b[0m\u001b[0mself\u001b[0m\u001b[1;33m)\u001b[0m\u001b[1;33m:\u001b[0m\u001b[1;33m\u001b[0m\u001b[0m\n\u001b[0;32m    201\u001b[0m         \u001b[1;32mreturn\u001b[0m \u001b[0mDataFrame\u001b[0m\u001b[1;33m\u001b[0m\u001b[0m\n",
      "\u001b[1;31mKeyboardInterrupt\u001b[0m: "
     ]
    }
   ],
   "source": [
    "groups_to_use = [\"Pickup_Borough\",\"pickup_month\",\"pickup_day\",\"time_category_pick\"]\n",
    "\n",
    "for name,group in data.df.groupby(by = groups_to_use):\n",
    "    if name[0] == \"Manhattan\":\n",
    "        eps = 80\n",
    "        throttle = 0.0025\n",
    "    else:\n",
    "        eps = 150\n",
    "        throttle = 0.005\n",
    "\n",
    "\n",
    "\n",
    "\n",
    "    coords_pick = map(lambda x: utm.from_latlon(*x)[:2],zip(group.pickup_lat.values, group.pickup_long.values))\n",
    "    min_samples = max(4,len(coords_pick)*throttle)\n",
    "    dbScan = cluster.DBSCAN(eps = eps, min_samples= min_samples, metric = \"euclidean\")\n",
    "    result = dbScan.fit_predict(coords_pick)\n",
    "    group[\"result\"] = result\n",
    "    g2 = group[[\"pickup_lat\",\"pickup_long\",\"payment_type\",\"fare_amount\",\"duration\",\"result\"]].groupby(\"result\")\n",
    "    temp = []\n",
    "    for name2,group2 in g2:\n",
    "        if name2 != -1: \n",
    "            poly = geometry.MultiPoint(group2[[\"pickup_long\",\"pickup_lat\"]].values).convex_hull\n",
    "            count_vals = len(group2[\"pickup_lat\"])\n",
    "            g2card = group2[group2[\"payment_type\"] ==1]\n",
    "            if g2card.size > 0:\n",
    "                mean_tip = g2card[\"fare_amount\"].sum()/float(g2card[\"duration\"].sum().seconds/60.0)\n",
    "            else:\n",
    "                mean_tip = 0\n",
    "            temp.append([poly,count_vals,mean_tip])\n",
    "    if temp:#yield temp\n",
    "\n",
    "        dfTemp = pd.DataFrame(temp, columns = [\"poly\",\"counts\",\"percent\"])\n",
    "        dfTemp[\"normalized\"] = dfTemp[\"percent\"]*(dfTemp[\"counts\"]/dfTemp[\"counts\"].sum())\n",
    "        dfTemp[\"normalized\"] = dfTemp[\"normalized\"]/(dfTemp[\"normalized\"].max()+0.0000001)\n",
    "        name_of_group = tuple([data.name] + list(name))\n",
    "        TOTAL_DATA.cluster[name_of_group] = dfTemp\n",
    "        del dfTemp"
   ]
  },
  {
   "cell_type": "code",
   "execution_count": 14,
   "metadata": {
    "collapsed": true
   },
   "outputs": [],
   "source": [
    "data.df[\"bur\"] = 0"
   ]
  },
  {
   "cell_type": "code",
   "execution_count": 232,
   "metadata": {
    "collapsed": true
   },
   "outputs": [],
   "source": [
    "burs = data.df.bur.iloc[:,1]"
   ]
  },
  {
   "cell_type": "code",
   "execution_count": 233,
   "metadata": {
    "collapsed": true
   },
   "outputs": [],
   "source": [
    "data.df[\"burs\"] = burs"
   ]
  },
  {
   "cell_type": "code",
   "execution_count": 234,
   "metadata": {
    "collapsed": false
   },
   "outputs": [
    {
     "data": {
      "text/html": [
       "<div>\n",
       "<table border=\"1\" class=\"dataframe\">\n",
       "  <thead>\n",
       "    <tr style=\"text-align: right;\">\n",
       "      <th></th>\n",
       "      <th>pickup_datetime</th>\n",
       "      <th>dropoff_datetime</th>\n",
       "      <th>trip_distance</th>\n",
       "      <th>pickup_long</th>\n",
       "      <th>pickup_lat</th>\n",
       "      <th>dropoff_long</th>\n",
       "      <th>dropoff_lat</th>\n",
       "      <th>payment_type</th>\n",
       "      <th>fare_amount</th>\n",
       "      <th>tip_amount</th>\n",
       "      <th>total_amount</th>\n",
       "      <th>pickup_month</th>\n",
       "      <th>pickup_day</th>\n",
       "      <th>duration</th>\n",
       "      <th>time_category_pick</th>\n",
       "      <th>nearest_pick</th>\n",
       "      <th>half_hour</th>\n",
       "      <th>bur</th>\n",
       "      <th>bur</th>\n",
       "      <th>burs</th>\n",
       "    </tr>\n",
       "  </thead>\n",
       "  <tbody>\n",
       "    <tr>\n",
       "      <th>0</th>\n",
       "      <td>2015-01-15 19:05:39</td>\n",
       "      <td>2015-01-15 19:23:42</td>\n",
       "      <td>1.59</td>\n",
       "      <td>-73.993896</td>\n",
       "      <td>40.750111</td>\n",
       "      <td>-73.974785</td>\n",
       "      <td>40.750618</td>\n",
       "      <td>1.0</td>\n",
       "      <td>12.0</td>\n",
       "      <td>3.25</td>\n",
       "      <td>17.05</td>\n",
       "      <td>1.0</td>\n",
       "      <td>3.0</td>\n",
       "      <td>00:18:03</td>\n",
       "      <td>19.0</td>\n",
       "      <td>5.0</td>\n",
       "      <td>19.0</td>\n",
       "      <td>0.0</td>\n",
       "      <td>Manhattan</td>\n",
       "      <td>Manhattan</td>\n",
       "    </tr>\n",
       "    <tr>\n",
       "      <th>1</th>\n",
       "      <td>2015-01-10 20:33:38</td>\n",
       "      <td>2015-01-10 20:53:28</td>\n",
       "      <td>3.30</td>\n",
       "      <td>-74.001648</td>\n",
       "      <td>40.724243</td>\n",
       "      <td>-73.994415</td>\n",
       "      <td>40.759109</td>\n",
       "      <td>1.0</td>\n",
       "      <td>14.5</td>\n",
       "      <td>2.00</td>\n",
       "      <td>17.80</td>\n",
       "      <td>1.0</td>\n",
       "      <td>5.0</td>\n",
       "      <td>00:19:50</td>\n",
       "      <td>20.0</td>\n",
       "      <td>35.0</td>\n",
       "      <td>20.5</td>\n",
       "      <td>0.0</td>\n",
       "      <td>Manhattan</td>\n",
       "      <td>Manhattan</td>\n",
       "    </tr>\n",
       "    <tr>\n",
       "      <th>2</th>\n",
       "      <td>2015-01-10 20:33:38</td>\n",
       "      <td>2015-01-10 20:43:41</td>\n",
       "      <td>1.80</td>\n",
       "      <td>-73.963341</td>\n",
       "      <td>40.802788</td>\n",
       "      <td>-73.951820</td>\n",
       "      <td>40.824413</td>\n",
       "      <td>2.0</td>\n",
       "      <td>9.5</td>\n",
       "      <td>0.00</td>\n",
       "      <td>10.80</td>\n",
       "      <td>1.0</td>\n",
       "      <td>5.0</td>\n",
       "      <td>00:10:03</td>\n",
       "      <td>20.0</td>\n",
       "      <td>35.0</td>\n",
       "      <td>20.5</td>\n",
       "      <td>0.0</td>\n",
       "      <td>Manhattan</td>\n",
       "      <td>Manhattan</td>\n",
       "    </tr>\n",
       "    <tr>\n",
       "      <th>3</th>\n",
       "      <td>2015-01-10 20:33:39</td>\n",
       "      <td>2015-01-10 20:35:31</td>\n",
       "      <td>0.50</td>\n",
       "      <td>-74.009087</td>\n",
       "      <td>40.713818</td>\n",
       "      <td>-74.004326</td>\n",
       "      <td>40.719986</td>\n",
       "      <td>2.0</td>\n",
       "      <td>3.5</td>\n",
       "      <td>0.00</td>\n",
       "      <td>4.80</td>\n",
       "      <td>1.0</td>\n",
       "      <td>5.0</td>\n",
       "      <td>00:01:52</td>\n",
       "      <td>20.0</td>\n",
       "      <td>35.0</td>\n",
       "      <td>20.5</td>\n",
       "      <td>0.0</td>\n",
       "      <td>Manhattan</td>\n",
       "      <td>Manhattan</td>\n",
       "    </tr>\n",
       "    <tr>\n",
       "      <th>4</th>\n",
       "      <td>2015-01-10 20:33:39</td>\n",
       "      <td>2015-01-10 20:52:58</td>\n",
       "      <td>3.00</td>\n",
       "      <td>-73.971176</td>\n",
       "      <td>40.762428</td>\n",
       "      <td>-74.004181</td>\n",
       "      <td>40.742653</td>\n",
       "      <td>2.0</td>\n",
       "      <td>15.0</td>\n",
       "      <td>0.00</td>\n",
       "      <td>16.30</td>\n",
       "      <td>1.0</td>\n",
       "      <td>5.0</td>\n",
       "      <td>00:19:19</td>\n",
       "      <td>20.0</td>\n",
       "      <td>35.0</td>\n",
       "      <td>20.5</td>\n",
       "      <td>0.0</td>\n",
       "      <td>Manhattan</td>\n",
       "      <td>Manhattan</td>\n",
       "    </tr>\n",
       "  </tbody>\n",
       "</table>\n",
       "</div>"
      ],
      "text/plain": [
       "      pickup_datetime    dropoff_datetime  trip_distance  pickup_long  \\\n",
       "0 2015-01-15 19:05:39 2015-01-15 19:23:42           1.59   -73.993896   \n",
       "1 2015-01-10 20:33:38 2015-01-10 20:53:28           3.30   -74.001648   \n",
       "2 2015-01-10 20:33:38 2015-01-10 20:43:41           1.80   -73.963341   \n",
       "3 2015-01-10 20:33:39 2015-01-10 20:35:31           0.50   -74.009087   \n",
       "4 2015-01-10 20:33:39 2015-01-10 20:52:58           3.00   -73.971176   \n",
       "\n",
       "   pickup_lat  dropoff_long  dropoff_lat  payment_type  fare_amount  \\\n",
       "0   40.750111    -73.974785    40.750618           1.0         12.0   \n",
       "1   40.724243    -73.994415    40.759109           1.0         14.5   \n",
       "2   40.802788    -73.951820    40.824413           2.0          9.5   \n",
       "3   40.713818    -74.004326    40.719986           2.0          3.5   \n",
       "4   40.762428    -74.004181    40.742653           2.0         15.0   \n",
       "\n",
       "   tip_amount  total_amount  pickup_month  pickup_day  duration  \\\n",
       "0        3.25         17.05           1.0         3.0  00:18:03   \n",
       "1        2.00         17.80           1.0         5.0  00:19:50   \n",
       "2        0.00         10.80           1.0         5.0  00:10:03   \n",
       "3        0.00          4.80           1.0         5.0  00:01:52   \n",
       "4        0.00         16.30           1.0         5.0  00:19:19   \n",
       "\n",
       "   time_category_pick  nearest_pick  half_hour  bur        bur       burs  \n",
       "0                19.0           5.0       19.0  0.0  Manhattan  Manhattan  \n",
       "1                20.0          35.0       20.5  0.0  Manhattan  Manhattan  \n",
       "2                20.0          35.0       20.5  0.0  Manhattan  Manhattan  \n",
       "3                20.0          35.0       20.5  0.0  Manhattan  Manhattan  \n",
       "4                20.0          35.0       20.5  0.0  Manhattan  Manhattan  "
      ]
     },
     "execution_count": 234,
     "metadata": {},
     "output_type": "execute_result"
    }
   ],
   "source": [
    "data.df.head()"
   ]
  },
  {
   "cell_type": "code",
   "execution_count": 15,
   "metadata": {
    "collapsed": false
   },
   "outputs": [
    {
     "name": "stdout",
     "output_type": "stream",
     "text": [
      "Clustering\n"
     ]
    },
    {
     "ename": "NameError",
     "evalue": "global name 'geometry' is not defined",
     "output_type": "error",
     "traceback": [
      "\u001b[1;31m---------------------------------------------------------------------------\u001b[0m",
      "\u001b[1;31mNameError\u001b[0m                                 Traceback (most recent call last)",
      "\u001b[1;32m<ipython-input-15-b3c70b689887>\u001b[0m in \u001b[0;36m<module>\u001b[1;34m()\u001b[0m\n\u001b[0;32m      1\u001b[0m \u001b[1;32mprint\u001b[0m \u001b[1;34m\"Clustering\"\u001b[0m\u001b[1;33m\u001b[0m\u001b[0m\n\u001b[1;32m----> 2\u001b[1;33m \u001b[0mdata\u001b[0m\u001b[1;33m.\u001b[0m\u001b[0mperform_clustering\u001b[0m\u001b[1;33m(\u001b[0m\u001b[0mTOTAL_DATA\u001b[0m\u001b[1;33m)\u001b[0m\u001b[1;33m\u001b[0m\u001b[0m\n\u001b[0m\u001b[0;32m      3\u001b[0m \u001b[1;33m\u001b[0m\u001b[0m\n\u001b[0;32m      4\u001b[0m \u001b[1;33m\u001b[0m\u001b[0m\n\u001b[0;32m      5\u001b[0m \u001b[1;33m\u001b[0m\u001b[0m\n",
      "\u001b[1;32m/home/vagrant/Taxi_Analysis/taxi_manipulations.pyc\u001b[0m in \u001b[0;36mperform_clustering\u001b[1;34m(self, agg_data, eps_man, eps_other, throttle)\u001b[0m\n\u001b[0;32m    133\u001b[0m                 \u001b[1;32mfor\u001b[0m \u001b[0mname2\u001b[0m\u001b[1;33m,\u001b[0m\u001b[0mgroup2\u001b[0m \u001b[1;32min\u001b[0m \u001b[0mg2\u001b[0m\u001b[1;33m:\u001b[0m\u001b[1;33m\u001b[0m\u001b[0m\n\u001b[0;32m    134\u001b[0m                     \u001b[1;32mif\u001b[0m \u001b[0mname2\u001b[0m \u001b[1;33m!=\u001b[0m \u001b[1;33m-\u001b[0m\u001b[1;36m1\u001b[0m\u001b[1;33m:\u001b[0m\u001b[1;33m\u001b[0m\u001b[0m\n\u001b[1;32m--> 135\u001b[1;33m                         \u001b[0mpoly\u001b[0m \u001b[1;33m=\u001b[0m \u001b[0mgeometry\u001b[0m\u001b[1;33m.\u001b[0m\u001b[0mMultiPoint\u001b[0m\u001b[1;33m(\u001b[0m\u001b[0mgroup2\u001b[0m\u001b[1;33m[\u001b[0m\u001b[1;33m[\u001b[0m\u001b[1;34m\"pickup_long\"\u001b[0m\u001b[1;33m,\u001b[0m\u001b[1;34m\"pickup_lat\"\u001b[0m\u001b[1;33m]\u001b[0m\u001b[1;33m]\u001b[0m\u001b[1;33m.\u001b[0m\u001b[0mvalues\u001b[0m\u001b[1;33m)\u001b[0m\u001b[1;33m.\u001b[0m\u001b[0mconvex_hull\u001b[0m\u001b[1;33m\u001b[0m\u001b[0m\n\u001b[0m\u001b[0;32m    136\u001b[0m                         \u001b[0mcount_vals\u001b[0m \u001b[1;33m=\u001b[0m \u001b[0mlen\u001b[0m\u001b[1;33m(\u001b[0m\u001b[0mgroup2\u001b[0m\u001b[1;33m[\u001b[0m\u001b[1;34m\"pickup_lat\"\u001b[0m\u001b[1;33m]\u001b[0m\u001b[1;33m)\u001b[0m\u001b[1;33m\u001b[0m\u001b[0m\n\u001b[0;32m    137\u001b[0m                         \u001b[0mg2card\u001b[0m \u001b[1;33m=\u001b[0m \u001b[0mgroup2\u001b[0m\u001b[1;33m[\u001b[0m\u001b[0mgroup2\u001b[0m\u001b[1;33m[\u001b[0m\u001b[1;34m\"payment_type\"\u001b[0m\u001b[1;33m]\u001b[0m \u001b[1;33m==\u001b[0m\u001b[1;36m1\u001b[0m\u001b[1;33m]\u001b[0m\u001b[1;33m\u001b[0m\u001b[0m\n",
      "\u001b[1;31mNameError\u001b[0m: global name 'geometry' is not defined"
     ]
    }
   ],
   "source": [
    "print \"Clustering\"\n",
    "data.perform_clustering(TOTAL_DATA)\n",
    "\n",
    "\n",
    "\n"
   ]
  },
  {
   "cell_type": "code",
   "execution_count": 14,
   "metadata": {
    "collapsed": false
   },
   "outputs": [
    {
     "data": {
      "text/plain": [
       "Index([      u'pickup_datetime',      u'dropoff_datetime',\n",
       "               u'trip_distance',           u'pickup_long',\n",
       "                  u'pickup_lat',          u'dropoff_long',\n",
       "                 u'dropoff_lat',          u'payment_type',\n",
       "                 u'fare_amount',            u'tip_amount',\n",
       "                u'total_amount',        u'Pickup_Borough',\n",
       "        u'Pickup_Neighbourhood',       u'Pickup_Zip_code',\n",
       "             u'Dropoff_Borough', u'Dropoff_Neighbourhood',\n",
       "            u'Dropoff_Zip_code',          u'pickup_month',\n",
       "                  u'pickup_day',              u'duration',\n",
       "          u'time_category_pick',          u'nearest_pick',\n",
       "                   u'half_hour'],\n",
       "      dtype='object')"
      ]
     },
     "execution_count": 14,
     "metadata": {},
     "output_type": "execute_result"
    }
   ],
   "source": [
    "data.df.columns"
   ]
  },
  {
   "cell_type": "code",
   "execution_count": 15,
   "metadata": {
    "collapsed": false
   },
   "outputs": [],
   "source": [
    "groups_to_use = [\"Pickup_Borough\",\"pickup_month\",\"pickup_day\",\"time_category_pick\"]\n",
    "g = data.df.groupby(by = groups_to_use)"
   ]
  },
  {
   "cell_type": "code",
   "execution_count": 16,
   "metadata": {
    "collapsed": false
   },
   "outputs": [],
   "source": [
    "gg = g.get_group((\"Brooklyn\" ,1.0, 0.0, 22.0))"
   ]
  },
  {
   "cell_type": "code",
   "execution_count": 17,
   "metadata": {
    "collapsed": false
   },
   "outputs": [
    {
     "data": {
      "text/html": [
       "<div>\n",
       "<table border=\"1\" class=\"dataframe\">\n",
       "  <thead>\n",
       "    <tr style=\"text-align: right;\">\n",
       "      <th></th>\n",
       "      <th>pickup_datetime</th>\n",
       "      <th>dropoff_datetime</th>\n",
       "      <th>trip_distance</th>\n",
       "      <th>pickup_long</th>\n",
       "      <th>pickup_lat</th>\n",
       "      <th>dropoff_long</th>\n",
       "      <th>dropoff_lat</th>\n",
       "      <th>payment_type</th>\n",
       "      <th>fare_amount</th>\n",
       "      <th>tip_amount</th>\n",
       "      <th>...</th>\n",
       "      <th>Pickup_Zip_code</th>\n",
       "      <th>Dropoff_Borough</th>\n",
       "      <th>Dropoff_Neighbourhood</th>\n",
       "      <th>Dropoff_Zip_code</th>\n",
       "      <th>pickup_month</th>\n",
       "      <th>pickup_day</th>\n",
       "      <th>duration</th>\n",
       "      <th>time_category_pick</th>\n",
       "      <th>nearest_pick</th>\n",
       "      <th>half_hour</th>\n",
       "    </tr>\n",
       "  </thead>\n",
       "  <tbody>\n",
       "    <tr>\n",
       "      <th>15074</th>\n",
       "      <td>2015-01-19 22:13:14</td>\n",
       "      <td>2015-01-19 22:20:58</td>\n",
       "      <td>1.35</td>\n",
       "      <td>-73.982529</td>\n",
       "      <td>40.678318</td>\n",
       "      <td>-73.968422</td>\n",
       "      <td>40.683872</td>\n",
       "      <td>2</td>\n",
       "      <td>7.5</td>\n",
       "      <td>0.0</td>\n",
       "      <td>...</td>\n",
       "      <td>11217</td>\n",
       "      <td>Brooklyn</td>\n",
       "      <td>Central Brooklyn</td>\n",
       "      <td>11238</td>\n",
       "      <td>1</td>\n",
       "      <td>0</td>\n",
       "      <td>00:07:44</td>\n",
       "      <td>22</td>\n",
       "      <td>15</td>\n",
       "      <td>22.0</td>\n",
       "    </tr>\n",
       "    <tr>\n",
       "      <th>16133</th>\n",
       "      <td>2015-01-05 22:38:29</td>\n",
       "      <td>2015-01-05 22:39:28</td>\n",
       "      <td>5.10</td>\n",
       "      <td>-73.954544</td>\n",
       "      <td>40.731976</td>\n",
       "      <td>-73.954529</td>\n",
       "      <td>40.731968</td>\n",
       "      <td>2</td>\n",
       "      <td>2.5</td>\n",
       "      <td>0.0</td>\n",
       "      <td>...</td>\n",
       "      <td>11222</td>\n",
       "      <td>Brooklyn</td>\n",
       "      <td>Greenpoint</td>\n",
       "      <td>11222</td>\n",
       "      <td>1</td>\n",
       "      <td>0</td>\n",
       "      <td>00:00:59</td>\n",
       "      <td>22</td>\n",
       "      <td>40</td>\n",
       "      <td>22.5</td>\n",
       "    </tr>\n",
       "    <tr>\n",
       "      <th>18683</th>\n",
       "      <td>2015-01-12 22:20:08</td>\n",
       "      <td>2015-01-12 22:24:50</td>\n",
       "      <td>0.97</td>\n",
       "      <td>-73.954971</td>\n",
       "      <td>40.688267</td>\n",
       "      <td>-73.947952</td>\n",
       "      <td>40.682045</td>\n",
       "      <td>1</td>\n",
       "      <td>5.5</td>\n",
       "      <td>1.5</td>\n",
       "      <td>...</td>\n",
       "      <td>11216</td>\n",
       "      <td>Brooklyn</td>\n",
       "      <td>Central Brooklyn</td>\n",
       "      <td>11216</td>\n",
       "      <td>1</td>\n",
       "      <td>0</td>\n",
       "      <td>00:04:42</td>\n",
       "      <td>22</td>\n",
       "      <td>20</td>\n",
       "      <td>22.0</td>\n",
       "    </tr>\n",
       "    <tr>\n",
       "      <th>29315</th>\n",
       "      <td>2015-01-05 22:01:59</td>\n",
       "      <td>2015-01-05 22:12:00</td>\n",
       "      <td>1.86</td>\n",
       "      <td>-73.947960</td>\n",
       "      <td>40.711288</td>\n",
       "      <td>-73.927452</td>\n",
       "      <td>40.692532</td>\n",
       "      <td>2</td>\n",
       "      <td>9.0</td>\n",
       "      <td>0.0</td>\n",
       "      <td>...</td>\n",
       "      <td>11211</td>\n",
       "      <td>Brooklyn</td>\n",
       "      <td>Bushwick and Williamsburg</td>\n",
       "      <td>11221</td>\n",
       "      <td>1</td>\n",
       "      <td>0</td>\n",
       "      <td>00:10:01</td>\n",
       "      <td>22</td>\n",
       "      <td>0</td>\n",
       "      <td>22.0</td>\n",
       "    </tr>\n",
       "    <tr>\n",
       "      <th>40748</th>\n",
       "      <td>2015-01-19 22:28:57</td>\n",
       "      <td>2015-01-19 22:39:07</td>\n",
       "      <td>3.73</td>\n",
       "      <td>-73.957832</td>\n",
       "      <td>40.714600</td>\n",
       "      <td>-73.899940</td>\n",
       "      <td>40.738552</td>\n",
       "      <td>1</td>\n",
       "      <td>13.0</td>\n",
       "      <td>2.7</td>\n",
       "      <td>...</td>\n",
       "      <td>11211</td>\n",
       "      <td>Queens</td>\n",
       "      <td>West Queens</td>\n",
       "      <td>11377</td>\n",
       "      <td>1</td>\n",
       "      <td>0</td>\n",
       "      <td>00:10:10</td>\n",
       "      <td>22</td>\n",
       "      <td>30</td>\n",
       "      <td>22.5</td>\n",
       "    </tr>\n",
       "  </tbody>\n",
       "</table>\n",
       "<p>5 rows × 23 columns</p>\n",
       "</div>"
      ],
      "text/plain": [
       "          pickup_datetime    dropoff_datetime  trip_distance  pickup_long  \\\n",
       "15074 2015-01-19 22:13:14 2015-01-19 22:20:58           1.35   -73.982529   \n",
       "16133 2015-01-05 22:38:29 2015-01-05 22:39:28           5.10   -73.954544   \n",
       "18683 2015-01-12 22:20:08 2015-01-12 22:24:50           0.97   -73.954971   \n",
       "29315 2015-01-05 22:01:59 2015-01-05 22:12:00           1.86   -73.947960   \n",
       "40748 2015-01-19 22:28:57 2015-01-19 22:39:07           3.73   -73.957832   \n",
       "\n",
       "       pickup_lat  dropoff_long  dropoff_lat  payment_type  fare_amount  \\\n",
       "15074   40.678318    -73.968422    40.683872             2          7.5   \n",
       "16133   40.731976    -73.954529    40.731968             2          2.5   \n",
       "18683   40.688267    -73.947952    40.682045             1          5.5   \n",
       "29315   40.711288    -73.927452    40.692532             2          9.0   \n",
       "40748   40.714600    -73.899940    40.738552             1         13.0   \n",
       "\n",
       "       tip_amount    ...      Pickup_Zip_code Dropoff_Borough  \\\n",
       "15074         0.0    ...                11217        Brooklyn   \n",
       "16133         0.0    ...                11222        Brooklyn   \n",
       "18683         1.5    ...                11216        Brooklyn   \n",
       "29315         0.0    ...                11211        Brooklyn   \n",
       "40748         2.7    ...                11211          Queens   \n",
       "\n",
       "           Dropoff_Neighbourhood Dropoff_Zip_code pickup_month pickup_day  \\\n",
       "15074           Central Brooklyn            11238            1          0   \n",
       "16133                 Greenpoint            11222            1          0   \n",
       "18683           Central Brooklyn            11216            1          0   \n",
       "29315  Bushwick and Williamsburg            11221            1          0   \n",
       "40748                West Queens            11377            1          0   \n",
       "\n",
       "      duration  time_category_pick  nearest_pick  half_hour  \n",
       "15074 00:07:44                  22            15       22.0  \n",
       "16133 00:00:59                  22            40       22.5  \n",
       "18683 00:04:42                  22            20       22.0  \n",
       "29315 00:10:01                  22             0       22.0  \n",
       "40748 00:10:10                  22            30       22.5  \n",
       "\n",
       "[5 rows x 23 columns]"
      ]
     },
     "execution_count": 17,
     "metadata": {},
     "output_type": "execute_result"
    }
   ],
   "source": [
    "gg.head()"
   ]
  },
  {
   "cell_type": "code",
   "execution_count": 35,
   "metadata": {
    "collapsed": true
   },
   "outputs": [],
   "source": [
    "throttle = 0.005"
   ]
  },
  {
   "cell_type": "code",
   "execution_count": 36,
   "metadata": {
    "collapsed": false
   },
   "outputs": [],
   "source": [
    "coords_pick = map(lambda x: utm.from_latlon(*x)[:2],zip(gg.pickup_lat.values, gg.pickup_long.values))\n",
    "min_samples = int(max(4,len(coords_pick)*throttle))\n"
   ]
  },
  {
   "cell_type": "code",
   "execution_count": 37,
   "metadata": {
    "collapsed": false
   },
   "outputs": [
    {
     "data": {
      "text/plain": [
       "6"
      ]
     },
     "execution_count": 37,
     "metadata": {},
     "output_type": "execute_result"
    }
   ],
   "source": [
    "min_samples"
   ]
  },
  {
   "cell_type": "code",
   "execution_count": 44,
   "metadata": {
    "collapsed": false
   },
   "outputs": [],
   "source": [
    "dbScan = cluster.DBSCAN(eps = 150, min_samples= min_samples, metric = \"euclidean\")\n",
    "result = dbScan.fit_predict(coords_pick)"
   ]
  },
  {
   "cell_type": "code",
   "execution_count": 45,
   "metadata": {
    "collapsed": false
   },
   "outputs": [
    {
     "name": "stderr",
     "output_type": "stream",
     "text": [
      "/opt/conda/lib/python2.7/site-packages/ipykernel/__main__.py:1: SettingWithCopyWarning: \n",
      "A value is trying to be set on a copy of a slice from a DataFrame.\n",
      "Try using .loc[row_indexer,col_indexer] = value instead\n",
      "\n",
      "See the caveats in the documentation: http://pandas.pydata.org/pandas-docs/stable/indexing.html#indexing-view-versus-copy\n",
      "  if __name__ == '__main__':\n"
     ]
    }
   ],
   "source": [
    "gg[\"result\"] = result"
   ]
  },
  {
   "cell_type": "code",
   "execution_count": 46,
   "metadata": {
    "collapsed": false
   },
   "outputs": [],
   "source": [
    "g2 = gg[[\"pickup_lat\",\"pickup_long\",\"payment_type\",\"tip_amount\",\"fare_amount\",\"result\"]].groupby(\"result\")\n",
    "temp = []"
   ]
  },
  {
   "cell_type": "code",
   "execution_count": 47,
   "metadata": {
    "collapsed": false
   },
   "outputs": [],
   "source": [
    "for name2,group2 in g2:\n",
    "    if name2 != -1: \n",
    "        poly = geometry.MultiPoint(group2[[\"pickup_long\",\"pickup_lat\"]].values).convex_hull\n",
    "        count_vals = len(group2[\"pickup_lat\"])\n",
    "        g2card = group2[group2[\"payment_type\"] ==1]\n",
    "        mean_tip = g2card[\"tip_amount\"].sum()/float(g2card[\"fare_amount\"].sum())\n",
    "        temp.append([poly,count_vals,mean_tip])"
   ]
  },
  {
   "cell_type": "code",
   "execution_count": 48,
   "metadata": {
    "collapsed": true
   },
   "outputs": [],
   "source": [
    "from descartes import PolygonPatch"
   ]
  },
  {
   "cell_type": "code",
   "execution_count": 49,
   "metadata": {
    "collapsed": false,
    "scrolled": true
   },
   "outputs": [
    {
     "data": {
      "image/png": "[encoded data removed]",
      "text/plain": [
       "<matplotlib.figure.Figure at 0x7fe54d0a5890>"
      ]
     },
     "metadata": {},
     "output_type": "display_data"
    }
   ],
   "source": [
    "cmap = sns.dark_palette('#f7b731', as_cmap=True)\n",
    "fig = plt.figure(figsize=(15,15), dpi=1000)\n",
    "ax1 = fig.add_subplot(111)\n",
    "sns.despine(fig)\n",
    "sns.set_style(\"dark\")\n",
    "sns.set(rc={'axes.facecolor':'grey', 'figure.facecolor':'grey'})\n",
    "\n",
    "ax1 = fig.gca()\n",
    "ax1.set_yticks([])\n",
    "ax1.set_xticks([])\n",
    "\n",
    "#ax2 = fig.add_subplot(212)\n",
    "for poly in ny_records.values():\n",
    "#     x1, y1 = poly[0].exterior.xy\n",
    "#     ax1.plot(x1, y1)\n",
    "    try:\n",
    "        x2, y2 = poly.exterior.xy\n",
    "        ax1.plot(x2, y2,\"white\",lw = 1)\n",
    "    except AttributeError:\n",
    "        for poly in poly:\n",
    "            x2,y2 = poly.exterior.xy\n",
    "            ax1.plot(x2,y2,\"white\",lw = 1)\n",
    "# ax = fig.gca()\n",
    "for row in temp:\n",
    "    #color = cmap(row[2])\n",
    "    ax1.add_patch(PolygonPatch(row[0], fill=True))\n",
    "# x = gg[\"pickup_lat\"].values\n",
    "# y = gg[\"pickup_long\"].values\n",
    "\n",
    "# for i in range(len(x)):\n",
    "#     ax1.scatter(y[i],x[i])\n",
    "\n",
    "plt.plot();"
   ]
  },
  {
   "cell_type": "code",
   "execution_count": 19,
   "metadata": {
    "collapsed": false
   },
   "outputs": [
    {
     "data": {
      "text/plain": [
       "{}"
      ]
     },
     "execution_count": 19,
     "metadata": {},
     "output_type": "execute_result"
    }
   ],
   "source": [
    "TOTAL_DATA.cluster"
   ]
  },
  {
   "cell_type": "code",
   "execution_count": 292,
   "metadata": {
    "collapsed": false
   },
   "outputs": [
    {
     "data": {
      "text/plain": [
       "'Manhattan'"
      ]
     },
     "execution_count": 292,
     "metadata": {},
     "output_type": "execute_result"
    }
   ],
   "source": [
    "nyGrid.get_burough((x[0],y[0]))"
   ]
  },
  {
   "cell_type": "code",
   "execution_count": 286,
   "metadata": {
    "collapsed": false
   },
   "outputs": [
    {
     "data": {
      "text/plain": [
       "-73.988639831542983"
      ]
     },
     "execution_count": 286,
     "metadata": {},
     "output_type": "execute_result"
    }
   ],
   "source": [
    "y[0]"
   ]
  },
  {
   "cell_type": "code",
   "execution_count": null,
   "metadata": {
    "collapsed": true
   },
   "outputs": [],
   "source": []
  }
 ],
 "metadata": {
  "kernelspec": {
   "display_name": "Python 2",
   "language": "python",
   "name": "python2"
  },
  "language_info": {
   "codemirror_mode": {
    "name": "ipython",
    "version": 2
   },
   "file_extension": ".py",
   "mimetype": "text/x-python",
   "name": "python",
   "nbconvert_exporter": "python",
   "pygments_lexer": "ipython2",
   "version": "2.7.11"
  }
 },
 "nbformat": 4,
 "nbformat_minor": 0
}
