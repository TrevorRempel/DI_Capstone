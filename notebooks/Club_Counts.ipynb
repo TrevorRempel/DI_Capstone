{
 "cells": [
  {
   "cell_type": "code",
   "execution_count": 2,
   "metadata": {
    "collapsed": false
   },
   "outputs": [],
   "source": [
    "%matplotlib inline\n",
    "import matplotlib\n",
    "import urllib\n",
    "from bs4 import BeautifulSoup\n",
    "import shapefile\n",
    "import pandas as pd\n",
    "import re\n",
    "from shapely import geometry\n",
    "import os\n",
    "import seaborn\n",
    "from collections import defaultdict\n",
    "from shapely import ops\n",
    "import pickle\n",
    "import matplotlib.pyplot  as plt\n",
    "from shapely import speedups\n",
    "import numpy as np\n",
    "import pandas as pd\n",
    "#from yelp.client import Client\n",
    "#from yelp.oauth1_authenticator import Oauth1Authenticator\n",
    "#from haversine import haversine\n",
    "import numpy as np\n",
    "import math\n",
    "import shapely\n",
    "import shapefile\n",
    "import os\n",
    "import scipy as sp\n",
    "import matplotlib as mpl \n",
    "import matplotlib.cm as cm \n",
    "import matplotlib.pyplot as plt \n",
    "import datetime\n",
    "import seaborn as sns\n",
    "#from mpl_toolkits.basemap import Basemap\n",
    "from matplotlib.patches import Circle\n",
    "import glob\n",
    "import shapefile\n",
    "#import mpl_toolkits.basemap.pyproj as pyproj\n",
    "from sklearn import cluster\n",
    "from IPython import display\n",
    "from collections import defaultdict\n",
    "import pickle\n",
    "import json\n",
    "import utm\n",
    "from collections import defaultdict\n",
    "from numpy import linalg\n",
    "import shapefile\n",
    "from itertools import combinations\n",
    "from descartes import PolygonPatch\n",
    "%matplotlib inline\n"
   ]
  },
  {
   "cell_type": "markdown",
   "metadata": {},
   "source": [
    "## First we read in the data"
   ]
  },
  {
   "cell_type": "code",
   "execution_count": 24,
   "metadata": {
    "collapsed": true
   },
   "outputs": [],
   "source": [
    "sf = shapefile.Reader(\"ZIP_CODE_040114/ZIP_CODE_040114.shp\")\n",
    "sf_ref = sf.shapeRecords()"
   ]
  },
  {
   "cell_type": "code",
   "execution_count": 3,
   "metadata": {
    "collapsed": false
   },
   "outputs": [],
   "source": [
    "sf2 = shapefile.Reader(\"new-york_new-york.imposm-shapefiles/new-york_new-york_osm_admin.shp\")\n",
    "sf_ref2 = sf2.shapeRecords()"
   ]
  },
  {
   "cell_type": "code",
   "execution_count": 11,
   "metadata": {
    "collapsed": false
   },
   "outputs": [
    {
     "name": "stderr",
     "output_type": "stream",
     "text": [
      "Self-intersection at or near point -74.039740173399863 40.699024314884056\n"
     ]
    }
   ],
   "source": [
    "sf = shapefile.Reader(\"new-york_new-york.imposm-shapefiles/new-york_new-york_osm_admin.shp\")\n",
    "sf_ref = sf.shapeRecords()\n",
    "names = {\"Kings County\":\"Brooklyn\",\"Queens County\":\"Queens\",\"Richmond County\":\"Statten Island\",\n",
    "         \"New York County\":\"Manhattan\",\"Bronx County\":\"Bronx\"}\n",
    "ny_records = {}\n",
    "polygons = []\n",
    "for rec in sf_ref:\n",
    "    name = rec.record[2]\n",
    "    if rec.record[-1] == 6 and name in names:\n",
    "        poly = geometry.Polygon(rec.shape.points)\n",
    "        if not poly.is_valid:\n",
    "            poly = poly.buffer(0)[1]\n",
    "        ny_records[names[name]] = poly\n",
    "\n",
    "\n",
    "minLat = np.inf\n",
    "maxLat = -np.inf\n",
    "minLng = np.inf\n",
    "maxLng = -np.inf\n",
    "for bur in ny_records:\n",
    "    lng,lat = ny_records[bur].boundary.xy\n",
    "    lngMin,lngMax = min(lng),max(lng)\n",
    "    latMin,latMax = min(lat), max(lat)\n",
    "    if lngMin < minLng:\n",
    "        minLng = lngMin\n",
    "    if lngMax > maxLng:\n",
    "        maxLng = lngMax\n",
    "    if latMin < minLat:\n",
    "        minLat = latMin\n",
    "    if latMax > maxLat:\n",
    "        maxLat = latMax\n",
    "\n",
    "\n",
    "\n",
    "def get_grid(spacing):\n",
    "    latNums = int((maxLat-minLat)/spacing)\n",
    "    lngNums =int((maxLng-minLng)/spacing)\n",
    "    latAr = np.linspace(minLat-10**(-10),maxLat+10**(-10), latNums)\n",
    "    lngAr= np.linspace(minLng-10**(-10), maxLng+10**(-10),lngNums)\n",
    "    boxes = []\n",
    "    for i in range(len(lngAr)-1):\n",
    "        for j in range(len(latAr)-1):\n",
    "            boxes.append(geometry.box(lngAr[i],latAr[j],lngAr[i+1],latAr[j+1]))\n",
    "    return (np.array(boxes).reshape(len(lngAr)-1, len(latAr)-1),latAr,lngAr)\n",
    "\n",
    "\n",
    "def get_relevant(boxes):\n",
    "    relevant = []\n",
    "    full_NYC = ops.unary_union([ny_records[val] for val in ny_records])\n",
    "    for box in boxes.flatten():\n",
    "        if box.intersects(full_NYC):\n",
    "            keep = True\n",
    "            relevant.append(box.intersection(full_NYC))\n",
    "        else:\n",
    "            relevant.append(None)\n",
    "    return np.array(relevant).reshape(boxes.shape)\n",
    "\n",
    "\n",
    "\n",
    "SPACING = 0.005/4\n",
    "\n",
    "\n",
    "\n",
    "BOXES,latAr,lngAr = get_grid(SPACING)\n",
    "\n",
    "\n",
    "\n",
    "RELEVANT = get_relevant(BOXES)\n",
    "\n"
   ]
  },
  {
   "cell_type": "code",
   "execution_count": 130,
   "metadata": {
    "collapsed": true
   },
   "outputs": [],
   "source": [
    "nyc_centroid = {\"lat\":40.6639206199602,\"lng\": -73.9383529238219}\n",
    "bounds_of_nyc = {\"lat\":(minLat,maxLat), \"lng\":(minLng, maxLng)}"
   ]
  },
  {
   "cell_type": "code",
   "execution_count": 12,
   "metadata": {
    "collapsed": false
   },
   "outputs": [
    {
     "data": {
      "text/plain": [
       "(445, 350)"
      ]
     },
     "execution_count": 12,
     "metadata": {},
     "output_type": "execute_result"
    }
   ],
   "source": [
    "get_index(maxLat,maxLng, latAr,lngAr)"
   ]
  },
  {
   "cell_type": "code",
   "execution_count": 6,
   "metadata": {
    "collapsed": true
   },
   "outputs": [],
   "source": [
    "def get_index(lat,lng,latAr,lngAr):\n",
    "    jLat = np.argmax(lat <= latAr)-1\n",
    "    iLng = np.argmax(lng<=lngAr)-1\n",
    "    return (iLng,jLat)\n",
    "def get_burough(coord,records):\n",
    "    #lat_str = \"_latitude\"\n",
    "    #lng_str = \"_longitude\"\n",
    "    #NYC = get_NYC_records(sf)\n",
    "    #shapes = sf.shapes()\n",
    "    point = geometry.Point(coord[::-1])\n",
    "\n",
    "    for bur, poly in records.items():\n",
    "        #if poly[0].contains(point):\n",
    "        if poly.contains(point):\n",
    "            return bur\n",
    "    return None\n",
    "def get_all_burough(df, drop_or_pick = \"pickup\"):\n",
    "    coords = df[[drop_or_pick + \"_lat\",drop_or_pick +\"_long\"]].values\n",
    "    return map(lambda x: get_burough(x,ny_records),coords)\n",
    "\n",
    "\n",
    "\n",
    "\n",
    "def get_all_boxes(df,latAr,lngAr):\n",
    "    coord_pick = df[[\"pickup_lat\", \"pickup_long\"]].values\n",
    "    coord_drop = df[[\"dropoff_lat\", \"dropoff_long\"]].values\n",
    "    pick_vals = pd.DataFrame({\"pick_grid\":map(lambda x: get_index(*x,latAr = latAr,lngAr = lngAr), coord_pick)})\n",
    "    drop_vals = pd.DataFrame({\"drop_grid\":map(lambda x: get_index(*x,latAr = latAr,lngAr = lngAr), coord_drop)})\n",
    "    return pd.concat([pick_vals,drop_vals], axis = 1)\n",
    "\n",
    "\n",
    "# In[9]:\n",
    "\n",
    "def get_rest_boxes(df,latAr,lngAr):\n",
    "    coords = df[[\"Lat\",\"Long\"]].values\n",
    "    return pd.DataFrame({\"grid_point\":map(lambda x: get_index(*x,latAr = latAr,lngAr = lngAr), coords)})"
   ]
  },
  {
   "cell_type": "code",
   "execution_count": null,
   "metadata": {
    "collapsed": false
   },
   "outputs": [],
   "source": [
    "COLUMNS = [u'VendorID', u'tpep_pickup_datetime', u'tpep_dropoff_datetime',\n",
    "       u'passenger_count', u'trip_distance', u'pickup_longitude',\n",
    "       u'pickup_latitude', u'RateCodeID', u'store_and_fwd_flag',\n",
    "       u'dropoff_longitude', u'dropoff_latitude', u'payment_type',\n",
    "       u'fare_amount', u'extra', u'mta_tax', u'tip_amount', u'tolls_amount',\n",
    "       u'improvement_surcharge', u'total_amount', u'Pickup_Borough',\n",
    "       u'Pickup_Neighbourhood', u'Pickup_Zip_code', u'Dropoff_Borough',\n",
    "       u'Dropoff_Neighbourhood', u'Dropoff_Zip_code']\n",
    "\n",
    "TO_USE = [u'tpep_pickup_datetime', u'tpep_dropoff_datetime',u'passenger_count', u'trip_distance', u'pickup_longitude',\n",
    "       u'pickup_latitude', u'dropoff_longitude', u'dropoff_latitude', u'payment_type',\n",
    "       u'fare_amount', u'tip_amount', u'total_amount', u'Pickup_Borough',\n",
    "       u'Pickup_Neighbourhood', u'Pickup_Zip_code', u'Dropoff_Borough',\n",
    "       u'Dropoff_Neighbourhood', u'Dropoff_Zip_code']\n",
    "\n",
    "\n",
    "INDEX_TO_USE = [COLUMNS.index(item) for item in TO_USE]\n",
    "dfTotal = pd.read_csv(\"taxi_data/yellow_01_new.csv\")\n",
    "dfTotal.columns =  [\"pickup_datetime\", \"dropoff_datetime\",\"passenger_count\", \"trip_distance\",\\\n",
    "                                        \"pickup_long\",\"pickup_lat\",\"dropoff_long\",\"dropoff_lat\", \\\n",
    "                                        \"payment_type\",\"fare_amount\",\"tip_amount\",\"total_amount\",u'Pickup_Borough',\\\n",
    "                                u'Pickup_Neighbourhood', u'Pickup_Zip_code', u'Dropoff_Borough',\\\n",
    "                                u'Dropoff_Neighbourhood', u'Dropoff_Zip_code']"
   ]
  },
  {
   "cell_type": "code",
   "execution_count": 7,
   "metadata": {
    "collapsed": false
   },
   "outputs": [],
   "source": [
    "dfTotal.loc[:,[\"Pickup_Zip_code\",\"Dropoff_Zip_code\"]] = dfTotal[[\"Pickup_Zip_code\",\"Dropoff_Zip_code\"]].apply\\\n",
    "(lambda x: pd.to_numeric(x,errors='coerce'))"
   ]
  },
  {
   "cell_type": "raw",
   "metadata": {
    "collapsed": true
   },
   "source": [
    "dfTotal = pd.read_csv(\"1percent.csv\")"
   ]
  },
  {
   "cell_type": "markdown",
   "metadata": {},
   "source": [
    "The datetime information in the original dataframe is a string which we split and turn into two datetime obejcts, the date and the time of the pickup."
   ]
  },
  {
   "cell_type": "code",
   "execution_count": 8,
   "metadata": {
    "collapsed": false
   },
   "outputs": [],
   "source": [
    "def convert_datetime(df):\n",
    "    cols = [\"pickup_datetime\",\"dropoff_datetime\"]\n",
    "    for col in cols:\n",
    "        df.loc[:,col] = pd.to_datetime(df[col], format='%Y-%m-%d %H:%M:%S')"
   ]
  },
  {
   "cell_type": "code",
   "execution_count": 9,
   "metadata": {
    "collapsed": false
   },
   "outputs": [],
   "source": [
    "convert_datetime(dfTotal)"
   ]
  },
  {
   "cell_type": "code",
   "execution_count": 10,
   "metadata": {
    "collapsed": false
   },
   "outputs": [
    {
     "data": {
      "text/plain": [
       "(12748986, 18)"
      ]
     },
     "execution_count": 10,
     "metadata": {},
     "output_type": "execute_result"
    }
   ],
   "source": [
    "dfTotal.shape"
   ]
  },
  {
   "cell_type": "code",
   "execution_count": 11,
   "metadata": {
    "collapsed": false
   },
   "outputs": [],
   "source": [
    "dfTotal.dropna(axis = 0, subset = [\"Pickup_Zip_code\",\"Dropoff_Zip_code\"],inplace = True)"
   ]
  },
  {
   "cell_type": "code",
   "execution_count": 12,
   "metadata": {
    "collapsed": false
   },
   "outputs": [
    {
     "data": {
      "text/plain": [
       "(12465439, 18)"
      ]
     },
     "execution_count": 12,
     "metadata": {},
     "output_type": "execute_result"
    }
   ],
   "source": [
    "dfTotal.shape"
   ]
  },
  {
   "cell_type": "markdown",
   "metadata": {},
   "source": [
    "To make filtering easier we add a year, month and day of week columns to the dataframe. It will also be useful to have a duration column, and to add a time of day category which is determined by the hour of the day."
   ]
  },
  {
   "cell_type": "code",
   "execution_count": 13,
   "metadata": {
    "collapsed": false
   },
   "outputs": [],
   "source": [
    "def round_to_nearest(time_stamp):\n",
    "    minutes = time_stamp.minute\n",
    "    seconds = time_stamp.second\n",
    "    if minutes%5 < 2:\n",
    "        val = (minutes/5)*5\n",
    "    elif minutes%5 >= 3:\n",
    "        val =  (minutes/5 +1)*5\n",
    "    else:\n",
    "        if seconds <= 30:\n",
    "            val=  (minutes/5)*5\n",
    "        else:\n",
    "            val =  (minutes/5+1)*5\n",
    "    return val"
   ]
  },
  {
   "cell_type": "code",
   "execution_count": 14,
   "metadata": {
    "collapsed": true
   },
   "outputs": [],
   "source": [
    "def add_details(df):\n",
    "    df.loc[:,\"pickup_month\"] = df[\"pickup_datetime\"].apply(lambda x: x.month)\n",
    "    df.loc[:,\"pickup_day\"] = df[\"pickup_datetime\"].apply(lambda x: x.weekday())\n",
    "    df.loc[:,\"duration\"] = df[\"dropoff_datetime\"]-df[\"pickup_datetime\"]\n",
    "    df.loc[:,\"time_category_pick\"] = df[\"pickup_datetime\"].apply(lambda x: x.hour)\n",
    "    df.loc[:,\"time_category_drop\"] = df[\"dropoff_datetime\"].apply(lambda x: x.hour)\n",
    "    df.loc[:,\"minute_drop\"] = df[\"dropoff_datetime\"].apply(lambda x: round_to_nearest(x))\n"
   ]
  },
  {
   "cell_type": "code",
   "execution_count": 15,
   "metadata": {
    "collapsed": false
   },
   "outputs": [],
   "source": [
    "dfTotal.loc[:,\"dropoff_day\"] = dfTotal[\"dropoff_datetime\"].apply(lambda x: x.weekday())"
   ]
  },
  {
   "cell_type": "code",
   "execution_count": null,
   "metadata": {
    "collapsed": true
   },
   "outputs": [],
   "source": []
  },
  {
   "cell_type": "code",
   "execution_count": 16,
   "metadata": {
    "collapsed": false
   },
   "outputs": [],
   "source": [
    "add_details(dfTotal)"
   ]
  },
  {
   "cell_type": "code",
   "execution_count": 17,
   "metadata": {
    "collapsed": true
   },
   "outputs": [],
   "source": [
    "def half_hour_grading(date_time):\n",
    "    time = date_time.time()\n",
    "    h,m = time.hour,time.minute\n",
    "    if m < 30:\n",
    "        m = 0\n",
    "    else:\n",
    "        m = 0.5\n",
    "    return h + m"
   ]
  },
  {
   "cell_type": "markdown",
   "metadata": {},
   "source": [
    "To ensure that all latitudes and longitudes are within the bounds of NYC we should specifiy appropriate limits, to be specific we will use those specified on https://www.maptechnica.com/us-city-boundary-map/city/New%20York/state/NY/cityid/3651000. Note that if we wish to project onto flat coordinates we can use EPSG 2831 (EPSG 2263 if using ft). Also, we should exclude any trips that have a negative duration."
   ]
  },
  {
   "cell_type": "code",
   "execution_count": 18,
   "metadata": {
    "collapsed": false
   },
   "outputs": [],
   "source": [
    "def clean_data(df, bounds, remove_airport = True):\n",
    "    min_lat, max_lat = bounds[\"lat\"]\n",
    "    min_long, max_long = bounds[\"lng\"]\n",
    "    dfFilter = df[(min_lat <= df.pickup_lat) &(df.pickup_lat <= max_lat) & (min_long <= df.pickup_long) \\\n",
    "                  &(df.pickup_long<= max_long)]\n",
    "    dfFilter = dfFilter[(min_lat <= dfFilter.dropoff_lat) &(dfFilter.dropoff_lat <= max_lat) \\\n",
    "                       & (min_long <= dfFilter.dropoff_long)  &(dfFilter.dropoff_long<= max_long)]\n",
    "    dfFilter = dfFilter[dfFilter.duration >= datetime.timedelta(0)]\n",
    "    #if remove_airport:\n",
    "    #    dfFilter = dfFilter[dfFilter.rate_code.isin([1,5,6])]\n",
    "    return dfFilter"
   ]
  },
  {
   "cell_type": "code",
   "execution_count": 19,
   "metadata": {
    "collapsed": false
   },
   "outputs": [],
   "source": [
    "dfTotal = clean_data(dfTotal,bounds_of_nyc,True)"
   ]
  },
  {
   "cell_type": "markdown",
   "metadata": {},
   "source": [
    "We have the following map for the days of the week"
   ]
  },
  {
   "cell_type": "code",
   "execution_count": 20,
   "metadata": {
    "collapsed": false
   },
   "outputs": [],
   "source": [
    "gridVals = get_all_boxes(dfTotal,latAr,lngAr)"
   ]
  },
  {
   "cell_type": "code",
   "execution_count": 21,
   "metadata": {
    "collapsed": false
   },
   "outputs": [],
   "source": [
    "#burVals = pd.Series(get_all_burough(dfTotal))\n",
    "#burVals = pd.DataFrame({\"bur\":burVals})\n",
    "gridVals = gridVals.reset_index(drop = True)\n",
    "dfTotal = dfTotal.reset_index(drop = True)\n",
    "#burVals = burVals.reset_index(drop=True)\n",
    "dfTotal = pd.concat([dfTotal,gridVals], axis = 1)"
   ]
  },
  {
   "cell_type": "code",
   "execution_count": 22,
   "metadata": {
    "collapsed": false
   },
   "outputs": [
    {
     "data": {
      "text/html": [
       "<div>\n",
       "<table border=\"1\" class=\"dataframe\">\n",
       "  <thead>\n",
       "    <tr style=\"text-align: right;\">\n",
       "      <th></th>\n",
       "      <th>pickup_datetime</th>\n",
       "      <th>dropoff_datetime</th>\n",
       "      <th>passenger_count</th>\n",
       "      <th>trip_distance</th>\n",
       "      <th>pickup_long</th>\n",
       "      <th>pickup_lat</th>\n",
       "      <th>dropoff_long</th>\n",
       "      <th>dropoff_lat</th>\n",
       "      <th>payment_type</th>\n",
       "      <th>fare_amount</th>\n",
       "      <th>...</th>\n",
       "      <th>Dropoff_Zip_code</th>\n",
       "      <th>dropoff_day</th>\n",
       "      <th>pickup_month</th>\n",
       "      <th>pickup_day</th>\n",
       "      <th>duration</th>\n",
       "      <th>time_category_pick</th>\n",
       "      <th>time_category_drop</th>\n",
       "      <th>minute_drop</th>\n",
       "      <th>pick_grid</th>\n",
       "      <th>drop_grid</th>\n",
       "    </tr>\n",
       "  </thead>\n",
       "  <tbody>\n",
       "    <tr>\n",
       "      <th>0</th>\n",
       "      <td>2015-01-15 19:05:39</td>\n",
       "      <td>2015-01-15 19:23:42</td>\n",
       "      <td>1</td>\n",
       "      <td>1.59</td>\n",
       "      <td>-73.993896</td>\n",
       "      <td>40.750111</td>\n",
       "      <td>-73.974785</td>\n",
       "      <td>40.750618</td>\n",
       "      <td>1</td>\n",
       "      <td>12.0</td>\n",
       "      <td>...</td>\n",
       "      <td>10017.0</td>\n",
       "      <td>3</td>\n",
       "      <td>1</td>\n",
       "      <td>3</td>\n",
       "      <td>00:18:03</td>\n",
       "      <td>19</td>\n",
       "      <td>19</td>\n",
       "      <td>25</td>\n",
       "      <td>(211, 217)</td>\n",
       "      <td>(226, 217)</td>\n",
       "    </tr>\n",
       "    <tr>\n",
       "      <th>1</th>\n",
       "      <td>2015-01-10 20:33:38</td>\n",
       "      <td>2015-01-10 20:53:28</td>\n",
       "      <td>1</td>\n",
       "      <td>3.30</td>\n",
       "      <td>-74.001648</td>\n",
       "      <td>40.724243</td>\n",
       "      <td>-73.994415</td>\n",
       "      <td>40.759109</td>\n",
       "      <td>1</td>\n",
       "      <td>14.5</td>\n",
       "      <td>...</td>\n",
       "      <td>10036.0</td>\n",
       "      <td>5</td>\n",
       "      <td>1</td>\n",
       "      <td>5</td>\n",
       "      <td>00:19:50</td>\n",
       "      <td>20</td>\n",
       "      <td>20</td>\n",
       "      <td>55</td>\n",
       "      <td>(205, 196)</td>\n",
       "      <td>(211, 224)</td>\n",
       "    </tr>\n",
       "    <tr>\n",
       "      <th>2</th>\n",
       "      <td>2015-01-10 20:33:38</td>\n",
       "      <td>2015-01-10 20:43:41</td>\n",
       "      <td>1</td>\n",
       "      <td>1.80</td>\n",
       "      <td>-73.963341</td>\n",
       "      <td>40.802788</td>\n",
       "      <td>-73.951820</td>\n",
       "      <td>40.824413</td>\n",
       "      <td>2</td>\n",
       "      <td>9.5</td>\n",
       "      <td>...</td>\n",
       "      <td>10031.0</td>\n",
       "      <td>5</td>\n",
       "      <td>1</td>\n",
       "      <td>5</td>\n",
       "      <td>00:10:03</td>\n",
       "      <td>20</td>\n",
       "      <td>20</td>\n",
       "      <td>45</td>\n",
       "      <td>(235, 259)</td>\n",
       "      <td>(245, 276)</td>\n",
       "    </tr>\n",
       "    <tr>\n",
       "      <th>3</th>\n",
       "      <td>2015-01-10 20:33:39</td>\n",
       "      <td>2015-01-10 20:35:31</td>\n",
       "      <td>1</td>\n",
       "      <td>0.50</td>\n",
       "      <td>-74.009087</td>\n",
       "      <td>40.713818</td>\n",
       "      <td>-74.004326</td>\n",
       "      <td>40.719986</td>\n",
       "      <td>2</td>\n",
       "      <td>3.5</td>\n",
       "      <td>...</td>\n",
       "      <td>10013.0</td>\n",
       "      <td>5</td>\n",
       "      <td>1</td>\n",
       "      <td>5</td>\n",
       "      <td>00:01:52</td>\n",
       "      <td>20</td>\n",
       "      <td>20</td>\n",
       "      <td>35</td>\n",
       "      <td>(199, 188)</td>\n",
       "      <td>(203, 193)</td>\n",
       "    </tr>\n",
       "    <tr>\n",
       "      <th>4</th>\n",
       "      <td>2015-01-10 20:33:39</td>\n",
       "      <td>2015-01-10 20:52:58</td>\n",
       "      <td>1</td>\n",
       "      <td>3.00</td>\n",
       "      <td>-73.971176</td>\n",
       "      <td>40.762428</td>\n",
       "      <td>-74.004181</td>\n",
       "      <td>40.742653</td>\n",
       "      <td>2</td>\n",
       "      <td>15.0</td>\n",
       "      <td>...</td>\n",
       "      <td>10011.0</td>\n",
       "      <td>5</td>\n",
       "      <td>1</td>\n",
       "      <td>5</td>\n",
       "      <td>00:19:19</td>\n",
       "      <td>20</td>\n",
       "      <td>20</td>\n",
       "      <td>55</td>\n",
       "      <td>(229, 227)</td>\n",
       "      <td>(203, 211)</td>\n",
       "    </tr>\n",
       "  </tbody>\n",
       "</table>\n",
       "<p>5 rows × 27 columns</p>\n",
       "</div>"
      ],
      "text/plain": [
       "      pickup_datetime    dropoff_datetime  passenger_count  trip_distance  \\\n",
       "0 2015-01-15 19:05:39 2015-01-15 19:23:42                1           1.59   \n",
       "1 2015-01-10 20:33:38 2015-01-10 20:53:28                1           3.30   \n",
       "2 2015-01-10 20:33:38 2015-01-10 20:43:41                1           1.80   \n",
       "3 2015-01-10 20:33:39 2015-01-10 20:35:31                1           0.50   \n",
       "4 2015-01-10 20:33:39 2015-01-10 20:52:58                1           3.00   \n",
       "\n",
       "   pickup_long  pickup_lat  dropoff_long  dropoff_lat  payment_type  \\\n",
       "0   -73.993896   40.750111    -73.974785    40.750618             1   \n",
       "1   -74.001648   40.724243    -73.994415    40.759109             1   \n",
       "2   -73.963341   40.802788    -73.951820    40.824413             2   \n",
       "3   -74.009087   40.713818    -74.004326    40.719986             2   \n",
       "4   -73.971176   40.762428    -74.004181    40.742653             2   \n",
       "\n",
       "   fare_amount     ...      Dropoff_Zip_code  dropoff_day pickup_month  \\\n",
       "0         12.0     ...               10017.0            3            1   \n",
       "1         14.5     ...               10036.0            5            1   \n",
       "2          9.5     ...               10031.0            5            1   \n",
       "3          3.5     ...               10013.0            5            1   \n",
       "4         15.0     ...               10011.0            5            1   \n",
       "\n",
       "  pickup_day  duration time_category_pick time_category_drop  minute_drop  \\\n",
       "0          3  00:18:03                 19                 19           25   \n",
       "1          5  00:19:50                 20                 20           55   \n",
       "2          5  00:10:03                 20                 20           45   \n",
       "3          5  00:01:52                 20                 20           35   \n",
       "4          5  00:19:19                 20                 20           55   \n",
       "\n",
       "    pick_grid   drop_grid  \n",
       "0  (211, 217)  (226, 217)  \n",
       "1  (205, 196)  (211, 224)  \n",
       "2  (235, 259)  (245, 276)  \n",
       "3  (199, 188)  (203, 193)  \n",
       "4  (229, 227)  (203, 211)  \n",
       "\n",
       "[5 rows x 27 columns]"
      ]
     },
     "execution_count": 22,
     "metadata": {},
     "output_type": "execute_result"
    }
   ],
   "source": [
    "dfTotal.head()"
   ]
  },
  {
   "cell_type": "markdown",
   "metadata": {},
   "source": [
    "# Clubs"
   ]
  },
  {
   "cell_type": "code",
   "execution_count": 14,
   "metadata": {
    "collapsed": true
   },
   "outputs": [],
   "source": [
    "import dill\n",
    "from collections import Counter, defaultdict"
   ]
  },
  {
   "cell_type": "code",
   "execution_count": 25,
   "metadata": {
    "collapsed": false
   },
   "outputs": [],
   "source": [
    "with open(\"agg_data_1.dill\",\"r\") as f:\n",
    "    agg = dill.load(f)"
   ]
  },
  {
   "cell_type": "code",
   "execution_count": 26,
   "metadata": {
    "collapsed": false
   },
   "outputs": [],
   "source": [
    "night = agg.night"
   ]
  },
  {
   "cell_type": "code",
   "execution_count": 27,
   "metadata": {
    "collapsed": false
   },
   "outputs": [],
   "source": [
    "night.loc[:,\"percent\"] = night.groupby(\"burs\")[\"counts\"].apply(lambda x: 100.0*x/x.sum())"
   ]
  },
  {
   "cell_type": "code",
   "execution_count": 28,
   "metadata": {
    "collapsed": false
   },
   "outputs": [],
   "source": [
    "night.loc[:,\"percent\"] = night.groupby(\"burs\")[\"percent\"].apply(lambda x: x/x.max())"
   ]
  },
  {
   "cell_type": "code",
   "execution_count": 29,
   "metadata": {
    "collapsed": true
   },
   "outputs": [],
   "source": [
    "night.dropna(subset = [\"percent\"], inplace = True)"
   ]
  },
  {
   "cell_type": "code",
   "execution_count": 30,
   "metadata": {
    "collapsed": false
   },
   "outputs": [],
   "source": [
    "night = night.sort_values([\"burs\",\"percent\"])"
   ]
  },
  {
   "cell_type": "code",
   "execution_count": 31,
   "metadata": {
    "collapsed": false
   },
   "outputs": [],
   "source": [
    "night = night[night[\"counts\"]> 0]"
   ]
  },
  {
   "cell_type": "code",
   "execution_count": 32,
   "metadata": {
    "collapsed": false
   },
   "outputs": [
    {
     "data": {
      "text/html": [
       "<div>\n",
       "<table border=\"1\" class=\"dataframe\">\n",
       "  <thead>\n",
       "    <tr style=\"text-align: right;\">\n",
       "      <th></th>\n",
       "      <th>Name</th>\n",
       "      <th>Lat</th>\n",
       "      <th>Long</th>\n",
       "      <th>counts</th>\n",
       "      <th>burs</th>\n",
       "      <th>grid</th>\n",
       "      <th>percent</th>\n",
       "    </tr>\n",
       "  </thead>\n",
       "  <tbody>\n",
       "    <tr>\n",
       "      <th>78</th>\n",
       "      <td>el aguila</td>\n",
       "      <td>40.867927</td>\n",
       "      <td>-73.900519</td>\n",
       "      <td>19.0</td>\n",
       "      <td>Bronx</td>\n",
       "      <td>(286, 311)</td>\n",
       "      <td>0.218391</td>\n",
       "    </tr>\n",
       "    <tr>\n",
       "      <th>130</th>\n",
       "      <td>raine lounge</td>\n",
       "      <td>40.880146</td>\n",
       "      <td>-73.903085</td>\n",
       "      <td>30.0</td>\n",
       "      <td>Bronx</td>\n",
       "      <td>(284, 321)</td>\n",
       "      <td>0.344828</td>\n",
       "    </tr>\n",
       "    <tr>\n",
       "      <th>141</th>\n",
       "      <td>silhouette</td>\n",
       "      <td>40.880673</td>\n",
       "      <td>-73.902481</td>\n",
       "      <td>30.0</td>\n",
       "      <td>Bronx</td>\n",
       "      <td>(284, 321)</td>\n",
       "      <td>0.344828</td>\n",
       "    </tr>\n",
       "    <tr>\n",
       "      <th>53</th>\n",
       "      <td>bamboo lounge</td>\n",
       "      <td>40.828647</td>\n",
       "      <td>-73.917079</td>\n",
       "      <td>31.0</td>\n",
       "      <td>Bronx</td>\n",
       "      <td>(272, 280)</td>\n",
       "      <td>0.356322</td>\n",
       "    </tr>\n",
       "    <tr>\n",
       "      <th>138</th>\n",
       "      <td>salsa con fuego</td>\n",
       "      <td>40.862369</td>\n",
       "      <td>-73.911422</td>\n",
       "      <td>87.0</td>\n",
       "      <td>Bronx</td>\n",
       "      <td>(277, 306)</td>\n",
       "      <td>1.000000</td>\n",
       "    </tr>\n",
       "  </tbody>\n",
       "</table>\n",
       "</div>"
      ],
      "text/plain": [
       "                Name        Lat       Long  counts   burs        grid  \\\n",
       "78         el aguila  40.867927 -73.900519    19.0  Bronx  (286, 311)   \n",
       "130     raine lounge  40.880146 -73.903085    30.0  Bronx  (284, 321)   \n",
       "141       silhouette  40.880673 -73.902481    30.0  Bronx  (284, 321)   \n",
       "53     bamboo lounge  40.828647 -73.917079    31.0  Bronx  (272, 280)   \n",
       "138  salsa con fuego  40.862369 -73.911422    87.0  Bronx  (277, 306)   \n",
       "\n",
       "      percent  \n",
       "78   0.218391  \n",
       "130  0.344828  \n",
       "141  0.344828  \n",
       "53   0.356322  \n",
       "138  1.000000  "
      ]
     },
     "execution_count": 32,
     "metadata": {},
     "output_type": "execute_result"
    }
   ],
   "source": [
    "night.head()"
   ]
  },
  {
   "cell_type": "code",
   "execution_count": 33,
   "metadata": {
    "collapsed": true
   },
   "outputs": [],
   "source": [
    "to_drop = [\"simplicity bar and lounge\",\"9a west harlem\",'hudson river cafe lounge','un chin','uptown social ', \n",
    "           'copia nyc', 'fish bar nyc pier 81','rv rooftop', 'pacha nyc', 'rdv', 'latin quarters', 'toy','glazz']"
   ]
  },
  {
   "cell_type": "code",
   "execution_count": 34,
   "metadata": {
    "collapsed": true
   },
   "outputs": [],
   "source": [
    "night = night[~night[\"Name\"].isin(to_drop)]"
   ]
  },
  {
   "cell_type": "code",
   "execution_count": 35,
   "metadata": {
    "collapsed": true
   },
   "outputs": [],
   "source": [
    "to_fix = ['el tina lounge','the cutting room nyc', 'st. cloud rooftop nyc',\n",
    "       'pranna restaurant,bar and lounge', 'slate lounge nyc','lust ny', 'vista sky rooftop',\n",
    "       'la gloria bar and lounge', 'cavo queens']\n",
    "to_fix_new = ['el tina','the cutting room', 'st. cloud rooftop',\n",
    "       'pranna', 'slate lounge','lust', 'vista sky lounge',\n",
    "       'la gloria', 'cavo']"
   ]
  },
  {
   "cell_type": "code",
   "execution_count": 36,
   "metadata": {
    "collapsed": false
   },
   "outputs": [],
   "source": [
    "night.replace(to_fix,to_fix_new,inplace=True)"
   ]
  },
  {
   "cell_type": "code",
   "execution_count": 37,
   "metadata": {
    "collapsed": true
   },
   "outputs": [],
   "source": [
    "yelpApi = {'consumer_key':'3jffArKDsaePUgv38n-BTg','consumer_secret':'OQz8L2Xw5k2T0nJ5w8m0jRnTwAY',\n",
    "'token':'dkArqbT1VYXU3ULesh5rkKPAk_WcaqG6','token_secret':'g8jpFo5xKpRMUDot0Nmq19aVeHY'}"
   ]
  },
  {
   "cell_type": "code",
   "execution_count": 38,
   "metadata": {
    "collapsed": true
   },
   "outputs": [],
   "source": [
    "from yelp.client import Client\n",
    "from yelp.oauth1_authenticator import Oauth1Authenticator"
   ]
  },
  {
   "cell_type": "code",
   "execution_count": 39,
   "metadata": {
    "collapsed": true
   },
   "outputs": [],
   "source": [
    "auth = Oauth1Authenticator(**yelpApi)\n",
    "client = Client(auth)"
   ]
  },
  {
   "cell_type": "code",
   "execution_count": 40,
   "metadata": {
    "collapsed": false
   },
   "outputs": [],
   "source": [
    "extra = []\n",
    "for name in night.Name:\n",
    "    params = {\"term\":name,'limit':1}\n",
    "    try:\n",
    "        search = client.search(\"New York\",**params).businesses[0]\n",
    "        Name = search.name\n",
    "        url = search.url\n",
    "        \n",
    "    except IndexError:\n",
    "        Name = name\n",
    "        url = None\n",
    "    extra.append([Name,url])"
   ]
  },
  {
   "cell_type": "code",
   "execution_count": 41,
   "metadata": {
    "collapsed": false
   },
   "outputs": [],
   "source": [
    "night_extra = pd.concat([night.reset_index(drop =True),pd.DataFrame(extra,columns=[\"Name_Yelp\",\"url\"])],axis = 1)"
   ]
  },
  {
   "cell_type": "code",
   "execution_count": 56,
   "metadata": {
    "collapsed": true
   },
   "outputs": [],
   "source": [
    "night_test = night_extra[night_extra[\"counts\"]>100]"
   ]
  },
  {
   "cell_type": "code",
   "execution_count": 57,
   "metadata": {
    "collapsed": false
   },
   "outputs": [
    {
     "data": {
      "text/plain": [
       "(147, 9)"
      ]
     },
     "execution_count": 57,
     "metadata": {},
     "output_type": "execute_result"
    }
   ],
   "source": [
    "night_test.shape"
   ]
  },
  {
   "cell_type": "code",
   "execution_count": 58,
   "metadata": {
    "collapsed": false
   },
   "outputs": [
    {
     "data": {
      "text/plain": [
       "(310, 216)"
      ]
     },
     "execution_count": 58,
     "metadata": {},
     "output_type": "execute_result"
    }
   ],
   "source": [
    "max(night_test[\"grid\"].values)"
   ]
  },
  {
   "cell_type": "code",
   "execution_count": 78,
   "metadata": {
    "collapsed": false
   },
   "outputs": [
    {
     "data": {
      "text/plain": [
       "(147, 9)"
      ]
     },
     "execution_count": 78,
     "metadata": {},
     "output_type": "execute_result"
    }
   ],
   "source": [
    "night_test.shape"
   ]
  },
  {
   "cell_type": "code",
   "execution_count": 62,
   "metadata": {
    "collapsed": false
   },
   "outputs": [],
   "source": [
    "night_test.to_csv(\"/Users/tjrempel/dataIncubator/Analysis/Taxi_Analysis/heroku_new/night_info.csv\",encoding = 'utf-8')"
   ]
  },
  {
   "cell_type": "code",
   "execution_count": 44,
   "metadata": {
    "collapsed": true
   },
   "outputs": [],
   "source": [
    "info = []\n",
    "for f in os.listdir(os.getcwd()):\n",
    "    if \"club_info\" in f:\n",
    "        name = f[10:12]\n",
    "        info.append((name, dill.load(open(f))))"
   ]
  },
  {
   "cell_type": "code",
   "execution_count": 45,
   "metadata": {
    "collapsed": false
   },
   "outputs": [],
   "source": [
    "Total = Counter()\n",
    "for item in info:\n",
    "    Total += item[1]"
   ]
  },
  {
   "cell_type": "code",
   "execution_count": 70,
   "metadata": {
    "collapsed": false
   },
   "outputs": [],
   "source": [
    "zips = set()\n",
    "collect = defaultdict(dict)\n",
    "for item in Total:\n",
    "    grid = item[0]\n",
    "    \n",
    "    if item[1]>9999:\n",
    "        zips.add(item[1])\n",
    "        collect[grid][item[1]] = Total[item]"
   ]
  },
  {
   "cell_type": "code",
   "execution_count": 71,
   "metadata": {
    "collapsed": false
   },
   "outputs": [],
   "source": [
    "collect_per = {}\n",
    "for key in collect:\n",
    "    dict_zip = collect[key]\n",
    "    total = 1.0*sum(dict_zip.values())\n",
    "    max_val = max(dict_zip.values())/total\n",
    "    new_dict = {}\n",
    "    if total > 100:\n",
    "        for key2 in dict_zip:\n",
    "            new_dict[key2] = (dict_zip[key2]/total)/max_val\n",
    "        collect_per[key] = new_dict"
   ]
  },
  {
   "cell_type": "code",
   "execution_count": 66,
   "metadata": {
    "collapsed": false
   },
   "outputs": [
    {
     "data": {
      "text/plain": [
       "(310, 216)"
      ]
     },
     "execution_count": 66,
     "metadata": {},
     "output_type": "execute_result"
    }
   ],
   "source": [
    "max(collect_per.keys())"
   ]
  },
  {
   "cell_type": "code",
   "execution_count": 79,
   "metadata": {
    "collapsed": false
   },
   "outputs": [
    {
     "data": {
      "text/plain": [
       "{10001.0: 0.18333333333333335,\n",
       " 10002.0: 0.058333333333333334,\n",
       " 10003.0: 0.54999999999999993,\n",
       " 10004.0: 0.016666666666666666,\n",
       " 10006.0: 0.041666666666666664,\n",
       " 10007.0: 0.016666666666666666,\n",
       " 10009.0: 0.016666666666666666,\n",
       " 10010.0: 0.074999999999999997,\n",
       " 10011.0: 0.15833333333333333,\n",
       " 10012.0: 0.083333333333333329,\n",
       " 10013.0: 0.099999999999999992,\n",
       " 10014.0: 0.18333333333333335,\n",
       " 10016.0: 0.69999999999999996,\n",
       " 10017.0: 0.27499999999999997,\n",
       " 10018.0: 0.64166666666666672,\n",
       " 10019.0: 0.33333333333333331,\n",
       " 10020.0: 0.0083333333333333332,\n",
       " 10021.0: 0.24166666666666664,\n",
       " 10022.0: 0.27499999999999997,\n",
       " 10023.0: 0.22500000000000001,\n",
       " 10024.0: 0.14999999999999999,\n",
       " 10025.0: 0.099999999999999992,\n",
       " 10026.0: 0.049999999999999996,\n",
       " 10028.0: 0.19999999999999998,\n",
       " 10029.0: 0.049999999999999996,\n",
       " 10031.0: 0.024999999999999998,\n",
       " 10033.0: 0.0083333333333333332,\n",
       " 10036.0: 0.29999999999999999,\n",
       " 10038.0: 0.049999999999999996,\n",
       " 10040.0: 0.049999999999999996,\n",
       " 10065.0: 0.20833333333333334,\n",
       " 10075.0: 0.041666666666666664,\n",
       " 10128.0: 0.16666666666666666,\n",
       " 10455.0: 0.0083333333333333332,\n",
       " 11101.0: 0.28333333333333333,\n",
       " 11102.0: 0.32499999999999996,\n",
       " 11103.0: 0.125,\n",
       " 11104.0: 0.099999999999999992,\n",
       " 11105.0: 0.091666666666666674,\n",
       " 11106.0: 0.083333333333333329,\n",
       " 11205.0: 0.049999999999999996,\n",
       " 11211.0: 0.049999999999999996,\n",
       " 11221.0: 0.0083333333333333332,\n",
       " 11222.0: 0.016666666666666666,\n",
       " 11225.0: 0.016666666666666666,\n",
       " 11233.0: 0.0083333333333333332,\n",
       " 11234.0: 0.0083333333333333332,\n",
       " 11237.0: 0.016666666666666666,\n",
       " 11354.0: 0.024999999999999998,\n",
       " 11356.0: 0.016666666666666666,\n",
       " 11368.0: 0.5083333333333333,\n",
       " 11369.0: 0.34999999999999998,\n",
       " 11370.0: 0.125,\n",
       " 11371.0: 0.074999999999999997,\n",
       " 11372.0: 1.0,\n",
       " 11373.0: 0.6333333333333333,\n",
       " 11374.0: 0.016666666666666666,\n",
       " 11375.0: 0.016666666666666666,\n",
       " 11377.0: 0.625,\n",
       " 11378.0: 0.099999999999999992,\n",
       " 11385.0: 0.024999999999999998,\n",
       " 11418.0: 0.024999999999999998,\n",
       " 11420.0: 0.0083333333333333332,\n",
       " 11421.0: 0.024999999999999998,\n",
       " 11430.0: 0.016666666666666666,\n",
       " 11433.0: 0.041666666666666664,\n",
       " 11435.0: 0.0083333333333333332}"
      ]
     },
     "execution_count": 79,
     "metadata": {},
     "output_type": "execute_result"
    }
   ],
   "source": [
    "collect_per[(310,216)]"
   ]
  },
  {
   "cell_type": "code",
   "execution_count": 374,
   "metadata": {
    "collapsed": true
   },
   "outputs": [],
   "source": [
    "sorted?"
   ]
  },
  {
   "cell_type": "code",
   "execution_count": 375,
   "metadata": {
    "collapsed": false
   },
   "outputs": [
    {
     "data": {
      "text/plain": [
       "(270, 310)"
      ]
     },
     "execution_count": 375,
     "metadata": {},
     "output_type": "execute_result"
    }
   ],
   "source": [
    "max(collect_per.keys(), key = lambda x: x[1])"
   ]
  },
  {
   "cell_type": "code",
   "execution_count": 67,
   "metadata": {
    "collapsed": true
   },
   "outputs": [],
   "source": [
    "with open(\"/Users/tjrempel/dataIncubator/Analysis/Taxi_Analysis/heroku_new/zip_club.dill\",\"w\") as f:\n",
    "    dill.dump(collect_per, f)"
   ]
  },
  {
   "cell_type": "code",
   "execution_count": 68,
   "metadata": {
    "collapsed": true
   },
   "outputs": [],
   "source": [
    "sf = shapefile.Reader(\"cb_2015_us_zcta510_500k/cb_2015_us_zcta510_500k.shp\")"
   ]
  },
  {
   "cell_type": "code",
   "execution_count": 69,
   "metadata": {
    "collapsed": true
   },
   "outputs": [],
   "source": [
    "sf_ref = sf.shapeRecords()"
   ]
  },
  {
   "cell_type": "code",
   "execution_count": 72,
   "metadata": {
    "collapsed": true
   },
   "outputs": [],
   "source": [
    "zip_rec = []\n",
    "for rec in sf_ref:\n",
    "    zip_rec.append(rec.record[2])"
   ]
  },
  {
   "cell_type": "code",
   "execution_count": 73,
   "metadata": {
    "collapsed": true
   },
   "outputs": [],
   "source": [
    "from matplotlib.gridspec import GridSpec"
   ]
  },
  {
   "cell_type": "code",
   "execution_count": 74,
   "metadata": {
    "collapsed": false
   },
   "outputs": [
    {
     "name": "stderr",
     "output_type": "stream",
     "text": [
      "Self-intersection at or near point -73.97720099999998 40.758537999999994\n",
      "Self-intersection at or near point -73.98326299999998 40.761093999999993\n",
      "Self-intersection at or near point -74.093788442911105 40.612679099347211\n",
      "Self-intersection at or near point -74.230342678974523 40.508495080512731\n",
      "Self-intersection at or near point -73.962526223455285 40.7680234502768\n",
      "Self-intersection at or near point -74.097174646492945 40.614378351572512\n",
      "Self-intersection at or near point -74.012730999999974 40.717113999999981\n",
      "Self-intersection at or near point -73.87091015830444 40.859017743631668\n",
      "Self-intersection at or near point -73.880529784326242 40.652193549841421\n",
      "Self-intersection at or near point -73.782570920214866 40.712846069035407\n",
      "Self-intersection at or near point -73.900331999999977 40.768807999999993\n",
      "Self-intersection at or near point -73.978680662189021 40.753621459212802\n",
      "Self-intersection at or near point -73.942711968712899 40.79908377186274\n",
      "Self-intersection at or near point -73.976794999999981 40.794314999999983\n",
      "Self-intersection at or near point -73.960195809939478 40.804351011033425\n",
      "Self-intersection at or near point -73.999460557731922 40.751441848892362\n",
      "Self-intersection at or near point -73.831480390639356 40.594671155090161\n",
      "Self-intersection at or near point -74.210431844496696 40.562796027744817\n",
      "Self-intersection at or near point -73.788471990435937 40.856601807655842\n",
      "Self-intersection at or near point -73.876299199441831 40.652888334641204\n",
      "Self-intersection at or near point -73.943420340785636 40.779796869573708\n",
      "Self-intersection at or near point -74.000021290347405 40.699457171552787\n"
     ]
    }
   ],
   "source": [
    "rel_records = defaultdict(list)\n",
    "test = []\n",
    "for rec in sf_ref:\n",
    "    if rec.record[2] in zips:\n",
    "        poly = geometry.Polygon(rec.shape.points)\n",
    "        if not poly.is_valid:\n",
    "            poly = poly.buffer(0)\n",
    "        rel_records[int(rec.record[2])].append(poly)\n",
    "        test.append(rec)"
   ]
  },
  {
   "cell_type": "code",
   "execution_count": 75,
   "metadata": {
    "collapsed": false
   },
   "outputs": [],
   "source": [
    "for key, item in rel_records.items():\n",
    "    if item[0].geom_type == 'MultiPolygon':\n",
    "        rel_records[key] = [poly for poly in item[0]]"
   ]
  },
  {
   "cell_type": "code",
   "execution_count": 76,
   "metadata": {
    "collapsed": false
   },
   "outputs": [],
   "source": [
    "records_xy = {}\n",
    "for key, gons in rel_records.items():\n",
    "    if len(gons) > 1:\n",
    "        temp = [poly.exterior.xy for poly in gons]\n",
    "        records_xy[key] = temp\n",
    "    else:\n",
    "        records_xy[key] = [gons[0].exterior.xy]\n",
    "        \n",
    "    "
   ]
  },
  {
   "cell_type": "code",
   "execution_count": null,
   "metadata": {
    "collapsed": true
   },
   "outputs": [],
   "source": []
  },
  {
   "cell_type": "code",
   "execution_count": 77,
   "metadata": {
    "collapsed": false
   },
   "outputs": [],
   "source": [
    "with open(\"/Users/tjrempel/dataIncubator/Analysis/Taxi_Analysis/heroku_new/zip_polys.dill\", \"w\") as f:\n",
    "    dill.dump(records_xy,f)"
   ]
  },
  {
   "cell_type": "code",
   "execution_count": 79,
   "metadata": {
    "collapsed": false
   },
   "outputs": [],
   "source": [
    "t = rel_records[10001][0]"
   ]
  },
  {
   "cell_type": "code",
   "execution_count": 80,
   "metadata": {
    "collapsed": false
   },
   "outputs": [
    {
     "name": "stderr",
     "output_type": "stream",
     "text": [
      "Self-intersection at or near point -73.999460557731922 40.751441848892362\n"
     ]
    },
    {
     "data": {
      "text/plain": [
       "False"
      ]
     },
     "execution_count": 80,
     "metadata": {},
     "output_type": "execute_result"
    }
   ],
   "source": [
    "t.is_valid"
   ]
  },
  {
   "cell_type": "code",
   "execution_count": 94,
   "metadata": {
    "collapsed": false
   },
   "outputs": [
    {
     "data": {
      "image/png": "[encoded data removed]",
      "text/plain": [
       "<matplotlib.figure.Figure at 0x17645d050>"
      ]
     },
     "metadata": {},
     "output_type": "display_data"
    }
   ],
   "source": [
    "fig = plt.figure(figsize=(7,7), dpi=1000)\n",
    "gs = GridSpec(1,1)\n",
    "ax1 = fig.add_subplot(gs[0])\n",
    "sns.despine(fig)\n",
    "sns.set_style(\"dark\")\n",
    "sns.set(rc={'axes.facecolor':'black', 'figure.facecolor':'black'})\n",
    "\n",
    "ax1 = fig.gca()\n",
    "ax1.set_yticks([])\n",
    "ax1.set_xticks([])\n",
    "\n",
    "#fig.suptitle(time, fontsize=30)\n",
    "#ax2 = fig.add_subplot(212)\n",
    "for item in rel_records:\n",
    "#     x1, y1 = poly[0].exterior.xy\n",
    "#     ax1.plot(x1, y1)\n",
    "    polygon = rel_records[item][0]\n",
    "    try:\n",
    "        x2,y2 = polygon.exterior.xy\n",
    "#         x2, y2 = poly.exterior.xy\n",
    "        ax1.plot(x2, y2,\"white\",lw = 1)\n",
    "    except AttributeError:\n",
    "        for poly in polygon:\n",
    "            x2,y2 = poly.exterior.xy\n",
    "            ax1.plot(x2,y2,\"white\",lw = 1)\n",
    "\n",
    "\n",
    "# for index,box in np.ndenumerate(relevant1):\n",
    "#     if box:\n",
    "#         try:\n",
    "#             #x,y = box.exterior.xy\n",
    "            \n",
    "#             ax1.add_patch(PolygonPatch(box,  ec =\"white\"))\n",
    "#         except AssertionError:\n",
    "            \n",
    "#             for poly in box:\n",
    "                \n",
    "#                 ax1.add_patch(PolygonPatch(poly,ec = \"white\"))"
   ]
  },
  {
   "cell_type": "markdown",
   "metadata": {},
   "source": [
    "# Banks"
   ]
  },
  {
   "cell_type": "code",
   "execution_count": 24,
   "metadata": {
    "collapsed": false
   },
   "outputs": [],
   "source": [
    "import dill\n",
    "import pandas as pd"
   ]
  },
  {
   "cell_type": "code",
   "execution_count": 25,
   "metadata": {
    "collapsed": false
   },
   "outputs": [],
   "source": [
    "with open(\"banks.dill\",\"r\") as f:\n",
    "    dfB = dill.load(f)"
   ]
  },
  {
   "cell_type": "code",
   "execution_count": 5,
   "metadata": {
    "collapsed": false
   },
   "outputs": [],
   "source": [
    "dfB.to_csv(\"banks.csv\",index = False, encoding='utf-8')"
   ]
  },
  {
   "cell_type": "code",
   "execution_count": 26,
   "metadata": {
    "collapsed": false
   },
   "outputs": [],
   "source": [
    "dfTotal =  dfTotal[(dfTotal[\"dropoff_day\"] != 6) | (dfTotal[\"dropoff_day\"] != 0)]\n",
    "dfTotal = dfTotal[((5 <= dfTotal[\"time_category_drop\"]) & (dfTotal[\"time_category_drop\"]<= 9))]"
   ]
  },
  {
   "cell_type": "code",
   "execution_count": 27,
   "metadata": {
    "collapsed": true
   },
   "outputs": [],
   "source": [
    "dfB.loc[:,\"grid\"]=dfB[[\"Lat\",\"Long\"]].apply(lambda x : get_index(*x,latAr= latAr,lngAr = lngAr), axis = 1)"
   ]
  },
  {
   "cell_type": "code",
   "execution_count": 28,
   "metadata": {
    "collapsed": false
   },
   "outputs": [
    {
     "data": {
      "text/plain": [
       "(1849571, 26)"
      ]
     },
     "execution_count": 28,
     "metadata": {},
     "output_type": "execute_result"
    }
   ],
   "source": [
    "dfTotal.shape"
   ]
  },
  {
   "cell_type": "code",
   "execution_count": 29,
   "metadata": {
    "collapsed": false
   },
   "outputs": [],
   "source": [
    "uniqe_grids = dfB[\"grid\"].unique()"
   ]
  },
  {
   "cell_type": "code",
   "execution_count": 32,
   "metadata": {
    "collapsed": false
   },
   "outputs": [
    {
     "data": {
      "text/plain": [
       "array([(228, 223), (195, 189), (218, 225), (227, 224), (224, 226),\n",
       "       (226, 221), (229, 223), (227, 221), (228, 228), (218, 209),\n",
       "       (221, 222), (223, 227), (225, 225), (224, 224), (222, 226),\n",
       "       (229, 224), (198, 185), (197, 193), (222, 224), (199, 182),\n",
       "       (223, 220), (227, 225), (221, 225), (227, 226), (230, 222),\n",
       "       (208, 188), (194, 189), (223, 228), (216, 222), (220, 226),\n",
       "       (215, 199), (195, 182), (224, 217), (231, 227), (222, 219),\n",
       "       (198, 184), (227, 227), (228, 225), (229, 229), (218, 221)], dtype=object)"
      ]
     },
     "execution_count": 32,
     "metadata": {},
     "output_type": "execute_result"
    }
   ],
   "source": [
    "uniqe_grids"
   ]
  },
  {
   "cell_type": "code",
   "execution_count": 33,
   "metadata": {
    "collapsed": false
   },
   "outputs": [],
   "source": [
    "drops = dfTotal.groupby(\"drop_grid\")"
   ]
  },
  {
   "cell_type": "code",
   "execution_count": 31,
   "metadata": {
    "collapsed": true
   },
   "outputs": [],
   "source": [
    "dfCountB = pd.concat([drops.get_group(g) for g in uniqe_grids])"
   ]
  },
  {
   "cell_type": "code",
   "execution_count": 32,
   "metadata": {
    "collapsed": false
   },
   "outputs": [
    {
     "data": {
      "text/plain": [
       "Index([      u'pickup_datetime',      u'dropoff_datetime',\n",
       "               u'trip_distance',           u'pickup_long',\n",
       "                  u'pickup_lat',          u'dropoff_long',\n",
       "                 u'dropoff_lat',          u'payment_type',\n",
       "                 u'fare_amount',            u'tip_amount',\n",
       "                u'total_amount',        u'Pickup_Borough',\n",
       "        u'Pickup_Neighbourhood',       u'Pickup_Zip_code',\n",
       "             u'Dropoff_Borough', u'Dropoff_Neighbourhood',\n",
       "            u'Dropoff_Zip_code',           u'dropoff_day',\n",
       "                u'pickup_month',            u'pickup_day',\n",
       "                    u'duration',    u'time_category_pick',\n",
       "          u'time_category_drop',           u'minute_drop',\n",
       "                   u'pick_grid',             u'drop_grid'],\n",
       "      dtype='object')"
      ]
     },
     "execution_count": 32,
     "metadata": {},
     "output_type": "execute_result"
    }
   ],
   "source": [
    "dfCountB.columns"
   ]
  },
  {
   "cell_type": "code",
   "execution_count": 33,
   "metadata": {
    "collapsed": false
   },
   "outputs": [
    {
     "data": {
      "text/html": [
       "<div>\n",
       "<table border=\"1\" class=\"dataframe\">\n",
       "  <thead>\n",
       "    <tr style=\"text-align: right;\">\n",
       "      <th></th>\n",
       "      <th>pickup_datetime</th>\n",
       "      <th>dropoff_datetime</th>\n",
       "      <th>trip_distance</th>\n",
       "      <th>pickup_long</th>\n",
       "      <th>pickup_lat</th>\n",
       "      <th>dropoff_long</th>\n",
       "      <th>dropoff_lat</th>\n",
       "      <th>payment_type</th>\n",
       "      <th>fare_amount</th>\n",
       "      <th>tip_amount</th>\n",
       "      <th>...</th>\n",
       "      <th>Dropoff_Zip_code</th>\n",
       "      <th>dropoff_day</th>\n",
       "      <th>pickup_month</th>\n",
       "      <th>pickup_day</th>\n",
       "      <th>duration</th>\n",
       "      <th>time_category_pick</th>\n",
       "      <th>time_category_drop</th>\n",
       "      <th>minute_drop</th>\n",
       "      <th>pick_grid</th>\n",
       "      <th>drop_grid</th>\n",
       "    </tr>\n",
       "  </thead>\n",
       "  <tbody>\n",
       "    <tr>\n",
       "      <th>3947</th>\n",
       "      <td>2015-01-06 07:34:46</td>\n",
       "      <td>2015-01-06 07:41:25</td>\n",
       "      <td>1.24</td>\n",
       "      <td>-73.963242</td>\n",
       "      <td>40.771915</td>\n",
       "      <td>-73.972679</td>\n",
       "      <td>40.758297</td>\n",
       "      <td>1</td>\n",
       "      <td>7.0</td>\n",
       "      <td>1.00</td>\n",
       "      <td>...</td>\n",
       "      <td>10022.0</td>\n",
       "      <td>1</td>\n",
       "      <td>1</td>\n",
       "      <td>1</td>\n",
       "      <td>00:06:39</td>\n",
       "      <td>7</td>\n",
       "      <td>7</td>\n",
       "      <td>40</td>\n",
       "      <td>(236, 234)</td>\n",
       "      <td>(228, 223)</td>\n",
       "    </tr>\n",
       "    <tr>\n",
       "      <th>7853</th>\n",
       "      <td>2015-01-22 06:37:48</td>\n",
       "      <td>2015-01-22 06:43:11</td>\n",
       "      <td>1.17</td>\n",
       "      <td>-73.971649</td>\n",
       "      <td>40.746239</td>\n",
       "      <td>-73.973351</td>\n",
       "      <td>40.757835</td>\n",
       "      <td>2</td>\n",
       "      <td>6.0</td>\n",
       "      <td>0.00</td>\n",
       "      <td>...</td>\n",
       "      <td>10017.0</td>\n",
       "      <td>3</td>\n",
       "      <td>1</td>\n",
       "      <td>3</td>\n",
       "      <td>00:05:23</td>\n",
       "      <td>6</td>\n",
       "      <td>6</td>\n",
       "      <td>45</td>\n",
       "      <td>(229, 214)</td>\n",
       "      <td>(228, 223)</td>\n",
       "    </tr>\n",
       "    <tr>\n",
       "      <th>9171</th>\n",
       "      <td>2015-01-30 08:20:09</td>\n",
       "      <td>2015-01-30 08:28:49</td>\n",
       "      <td>1.00</td>\n",
       "      <td>-73.962669</td>\n",
       "      <td>40.758247</td>\n",
       "      <td>-73.973000</td>\n",
       "      <td>40.757427</td>\n",
       "      <td>1</td>\n",
       "      <td>7.5</td>\n",
       "      <td>1.50</td>\n",
       "      <td>...</td>\n",
       "      <td>10022.0</td>\n",
       "      <td>4</td>\n",
       "      <td>1</td>\n",
       "      <td>4</td>\n",
       "      <td>00:08:40</td>\n",
       "      <td>8</td>\n",
       "      <td>8</td>\n",
       "      <td>30</td>\n",
       "      <td>(236, 223)</td>\n",
       "      <td>(228, 223)</td>\n",
       "    </tr>\n",
       "    <tr>\n",
       "      <th>13977</th>\n",
       "      <td>2015-01-08 07:43:54</td>\n",
       "      <td>2015-01-08 07:48:41</td>\n",
       "      <td>1.25</td>\n",
       "      <td>-73.972862</td>\n",
       "      <td>40.744289</td>\n",
       "      <td>-73.973106</td>\n",
       "      <td>40.757858</td>\n",
       "      <td>1</td>\n",
       "      <td>6.0</td>\n",
       "      <td>1.20</td>\n",
       "      <td>...</td>\n",
       "      <td>10017.0</td>\n",
       "      <td>3</td>\n",
       "      <td>1</td>\n",
       "      <td>3</td>\n",
       "      <td>00:04:47</td>\n",
       "      <td>7</td>\n",
       "      <td>7</td>\n",
       "      <td>50</td>\n",
       "      <td>(228, 212)</td>\n",
       "      <td>(228, 223)</td>\n",
       "    </tr>\n",
       "    <tr>\n",
       "      <th>17172</th>\n",
       "      <td>2015-01-19 07:58:35</td>\n",
       "      <td>2015-01-19 08:10:17</td>\n",
       "      <td>3.10</td>\n",
       "      <td>-74.006401</td>\n",
       "      <td>40.733162</td>\n",
       "      <td>-73.972733</td>\n",
       "      <td>40.757469</td>\n",
       "      <td>1</td>\n",
       "      <td>11.5</td>\n",
       "      <td>2.45</td>\n",
       "      <td>...</td>\n",
       "      <td>10022.0</td>\n",
       "      <td>0</td>\n",
       "      <td>1</td>\n",
       "      <td>0</td>\n",
       "      <td>00:11:42</td>\n",
       "      <td>7</td>\n",
       "      <td>8</td>\n",
       "      <td>10</td>\n",
       "      <td>(201, 203)</td>\n",
       "      <td>(228, 223)</td>\n",
       "    </tr>\n",
       "  </tbody>\n",
       "</table>\n",
       "<p>5 rows × 26 columns</p>\n",
       "</div>"
      ],
      "text/plain": [
       "          pickup_datetime    dropoff_datetime  trip_distance  pickup_long  \\\n",
       "3947  2015-01-06 07:34:46 2015-01-06 07:41:25           1.24   -73.963242   \n",
       "7853  2015-01-22 06:37:48 2015-01-22 06:43:11           1.17   -73.971649   \n",
       "9171  2015-01-30 08:20:09 2015-01-30 08:28:49           1.00   -73.962669   \n",
       "13977 2015-01-08 07:43:54 2015-01-08 07:48:41           1.25   -73.972862   \n",
       "17172 2015-01-19 07:58:35 2015-01-19 08:10:17           3.10   -74.006401   \n",
       "\n",
       "       pickup_lat  dropoff_long  dropoff_lat  payment_type  fare_amount  \\\n",
       "3947    40.771915    -73.972679    40.758297             1          7.0   \n",
       "7853    40.746239    -73.973351    40.757835             2          6.0   \n",
       "9171    40.758247    -73.973000    40.757427             1          7.5   \n",
       "13977   40.744289    -73.973106    40.757858             1          6.0   \n",
       "17172   40.733162    -73.972733    40.757469             1         11.5   \n",
       "\n",
       "       tip_amount     ...      Dropoff_Zip_code dropoff_day pickup_month  \\\n",
       "3947         1.00     ...               10022.0           1            1   \n",
       "7853         0.00     ...               10017.0           3            1   \n",
       "9171         1.50     ...               10022.0           4            1   \n",
       "13977        1.20     ...               10017.0           3            1   \n",
       "17172        2.45     ...               10022.0           0            1   \n",
       "\n",
       "       pickup_day duration time_category_pick  time_category_drop  \\\n",
       "3947            1 00:06:39                  7                   7   \n",
       "7853            3 00:05:23                  6                   6   \n",
       "9171            4 00:08:40                  8                   8   \n",
       "13977           3 00:04:47                  7                   7   \n",
       "17172           0 00:11:42                  7                   8   \n",
       "\n",
       "       minute_drop   pick_grid   drop_grid  \n",
       "3947            40  (236, 234)  (228, 223)  \n",
       "7853            45  (229, 214)  (228, 223)  \n",
       "9171            30  (236, 223)  (228, 223)  \n",
       "13977           50  (228, 212)  (228, 223)  \n",
       "17172           10  (201, 203)  (228, 223)  \n",
       "\n",
       "[5 rows x 26 columns]"
      ]
     },
     "execution_count": 33,
     "metadata": {},
     "output_type": "execute_result"
    }
   ],
   "source": [
    "dfCountB.head()"
   ]
  },
  {
   "cell_type": "code",
   "execution_count": 52,
   "metadata": {
    "collapsed": false
   },
   "outputs": [],
   "source": [
    "zips = dfCountB.groupby(\"Pickup_Zip_code\").agg('size')[2:]"
   ]
  },
  {
   "cell_type": "code",
   "execution_count": 54,
   "metadata": {
    "collapsed": false
   },
   "outputs": [],
   "source": [
    "zipdf = pd.DataFrame({\"zip_code\":zips.index, \"count\":zips.values},dtype = float)"
   ]
  },
  {
   "cell_type": "code",
   "execution_count": 55,
   "metadata": {
    "collapsed": true
   },
   "outputs": [],
   "source": [
    "zipdf[\"percent\"] = 100*zipdf[\"count\"]/zipdf[\"count\"].sum()"
   ]
  },
  {
   "cell_type": "code",
   "execution_count": 56,
   "metadata": {
    "collapsed": false
   },
   "outputs": [],
   "source": [
    "zipdf= zipdf[zipdf[\"percent\"]> 0.01]"
   ]
  },
  {
   "cell_type": "code",
   "execution_count": null,
   "metadata": {
    "collapsed": true
   },
   "outputs": [],
   "source": []
  },
  {
   "cell_type": "code",
   "execution_count": 57,
   "metadata": {
    "collapsed": false
   },
   "outputs": [],
   "source": [
    "zipdf.to_csv(\"invest_banks.csv\",index = False,float_format=\"%.0f\")"
   ]
  },
  {
   "cell_type": "code",
   "execution_count": 58,
   "metadata": {
    "collapsed": true
   },
   "outputs": [],
   "source": [
    "zips = pd.read_csv(\"invest_banks.csv\")"
   ]
  },
  {
   "cell_type": "code",
   "execution_count": 60,
   "metadata": {
    "collapsed": false
   },
   "outputs": [
    {
     "data": {
      "text/html": [
       "<div>\n",
       "<table border=\"1\" class=\"dataframe\">\n",
       "  <thead>\n",
       "    <tr style=\"text-align: right;\">\n",
       "      <th></th>\n",
       "      <th>count</th>\n",
       "      <th>zip_code</th>\n",
       "      <th>percent</th>\n",
       "    </tr>\n",
       "  </thead>\n",
       "  <tbody>\n",
       "    <tr>\n",
       "      <th>0</th>\n",
       "      <td>8298</td>\n",
       "      <td>10001</td>\n",
       "      <td>7</td>\n",
       "    </tr>\n",
       "    <tr>\n",
       "      <th>1</th>\n",
       "      <td>575</td>\n",
       "      <td>10002</td>\n",
       "      <td>1</td>\n",
       "    </tr>\n",
       "    <tr>\n",
       "      <th>2</th>\n",
       "      <td>4345</td>\n",
       "      <td>10003</td>\n",
       "      <td>4</td>\n",
       "    </tr>\n",
       "    <tr>\n",
       "      <th>3</th>\n",
       "      <td>588</td>\n",
       "      <td>10004</td>\n",
       "      <td>1</td>\n",
       "    </tr>\n",
       "    <tr>\n",
       "      <th>4</th>\n",
       "      <td>722</td>\n",
       "      <td>10005</td>\n",
       "      <td>1</td>\n",
       "    </tr>\n",
       "    <tr>\n",
       "      <th>5</th>\n",
       "      <td>173</td>\n",
       "      <td>10006</td>\n",
       "      <td>0</td>\n",
       "    </tr>\n",
       "    <tr>\n",
       "      <th>6</th>\n",
       "      <td>681</td>\n",
       "      <td>10007</td>\n",
       "      <td>1</td>\n",
       "    </tr>\n",
       "    <tr>\n",
       "      <th>7</th>\n",
       "      <td>1135</td>\n",
       "      <td>10009</td>\n",
       "      <td>1</td>\n",
       "    </tr>\n",
       "    <tr>\n",
       "      <th>8</th>\n",
       "      <td>3767</td>\n",
       "      <td>10010</td>\n",
       "      <td>3</td>\n",
       "    </tr>\n",
       "    <tr>\n",
       "      <th>9</th>\n",
       "      <td>4861</td>\n",
       "      <td>10011</td>\n",
       "      <td>4</td>\n",
       "    </tr>\n",
       "    <tr>\n",
       "      <th>10</th>\n",
       "      <td>1527</td>\n",
       "      <td>10012</td>\n",
       "      <td>1</td>\n",
       "    </tr>\n",
       "    <tr>\n",
       "      <th>11</th>\n",
       "      <td>3141</td>\n",
       "      <td>10013</td>\n",
       "      <td>3</td>\n",
       "    </tr>\n",
       "    <tr>\n",
       "      <th>12</th>\n",
       "      <td>3765</td>\n",
       "      <td>10014</td>\n",
       "      <td>3</td>\n",
       "    </tr>\n",
       "    <tr>\n",
       "      <th>13</th>\n",
       "      <td>8603</td>\n",
       "      <td>10016</td>\n",
       "      <td>8</td>\n",
       "    </tr>\n",
       "    <tr>\n",
       "      <th>14</th>\n",
       "      <td>6734</td>\n",
       "      <td>10017</td>\n",
       "      <td>6</td>\n",
       "    </tr>\n",
       "    <tr>\n",
       "      <th>15</th>\n",
       "      <td>5396</td>\n",
       "      <td>10018</td>\n",
       "      <td>5</td>\n",
       "    </tr>\n",
       "    <tr>\n",
       "      <th>16</th>\n",
       "      <td>7367</td>\n",
       "      <td>10019</td>\n",
       "      <td>7</td>\n",
       "    </tr>\n",
       "    <tr>\n",
       "      <th>17</th>\n",
       "      <td>116</td>\n",
       "      <td>10020</td>\n",
       "      <td>0</td>\n",
       "    </tr>\n",
       "    <tr>\n",
       "      <th>18</th>\n",
       "      <td>6341</td>\n",
       "      <td>10021</td>\n",
       "      <td>6</td>\n",
       "    </tr>\n",
       "    <tr>\n",
       "      <th>19</th>\n",
       "      <td>4635</td>\n",
       "      <td>10022</td>\n",
       "      <td>4</td>\n",
       "    </tr>\n",
       "    <tr>\n",
       "      <th>20</th>\n",
       "      <td>5948</td>\n",
       "      <td>10023</td>\n",
       "      <td>5</td>\n",
       "    </tr>\n",
       "    <tr>\n",
       "      <th>21</th>\n",
       "      <td>3076</td>\n",
       "      <td>10024</td>\n",
       "      <td>3</td>\n",
       "    </tr>\n",
       "    <tr>\n",
       "      <th>22</th>\n",
       "      <td>2050</td>\n",
       "      <td>10025</td>\n",
       "      <td>2</td>\n",
       "    </tr>\n",
       "    <tr>\n",
       "      <th>23</th>\n",
       "      <td>197</td>\n",
       "      <td>10026</td>\n",
       "      <td>0</td>\n",
       "    </tr>\n",
       "    <tr>\n",
       "      <th>24</th>\n",
       "      <td>164</td>\n",
       "      <td>10027</td>\n",
       "      <td>0</td>\n",
       "    </tr>\n",
       "    <tr>\n",
       "      <th>25</th>\n",
       "      <td>3887</td>\n",
       "      <td>10028</td>\n",
       "      <td>4</td>\n",
       "    </tr>\n",
       "    <tr>\n",
       "      <th>26</th>\n",
       "      <td>667</td>\n",
       "      <td>10029</td>\n",
       "      <td>1</td>\n",
       "    </tr>\n",
       "    <tr>\n",
       "      <th>27</th>\n",
       "      <td>19</td>\n",
       "      <td>10030</td>\n",
       "      <td>0</td>\n",
       "    </tr>\n",
       "    <tr>\n",
       "      <th>28</th>\n",
       "      <td>92</td>\n",
       "      <td>10031</td>\n",
       "      <td>0</td>\n",
       "    </tr>\n",
       "    <tr>\n",
       "      <th>29</th>\n",
       "      <td>22</td>\n",
       "      <td>10032</td>\n",
       "      <td>0</td>\n",
       "    </tr>\n",
       "    <tr>\n",
       "      <th>30</th>\n",
       "      <td>110</td>\n",
       "      <td>10035</td>\n",
       "      <td>0</td>\n",
       "    </tr>\n",
       "    <tr>\n",
       "      <th>31</th>\n",
       "      <td>5532</td>\n",
       "      <td>10036</td>\n",
       "      <td>5</td>\n",
       "    </tr>\n",
       "    <tr>\n",
       "      <th>32</th>\n",
       "      <td>36</td>\n",
       "      <td>10037</td>\n",
       "      <td>0</td>\n",
       "    </tr>\n",
       "    <tr>\n",
       "      <th>33</th>\n",
       "      <td>621</td>\n",
       "      <td>10038</td>\n",
       "      <td>1</td>\n",
       "    </tr>\n",
       "    <tr>\n",
       "      <th>34</th>\n",
       "      <td>4857</td>\n",
       "      <td>10065</td>\n",
       "      <td>4</td>\n",
       "    </tr>\n",
       "    <tr>\n",
       "      <th>35</th>\n",
       "      <td>61</td>\n",
       "      <td>10069</td>\n",
       "      <td>0</td>\n",
       "    </tr>\n",
       "    <tr>\n",
       "      <th>36</th>\n",
       "      <td>2345</td>\n",
       "      <td>10075</td>\n",
       "      <td>2</td>\n",
       "    </tr>\n",
       "    <tr>\n",
       "      <th>37</th>\n",
       "      <td>4196</td>\n",
       "      <td>10128</td>\n",
       "      <td>4</td>\n",
       "    </tr>\n",
       "    <tr>\n",
       "      <th>38</th>\n",
       "      <td>711</td>\n",
       "      <td>10280</td>\n",
       "      <td>1</td>\n",
       "    </tr>\n",
       "    <tr>\n",
       "      <th>39</th>\n",
       "      <td>19</td>\n",
       "      <td>10281</td>\n",
       "      <td>0</td>\n",
       "    </tr>\n",
       "    <tr>\n",
       "      <th>40</th>\n",
       "      <td>13</td>\n",
       "      <td>10282</td>\n",
       "      <td>0</td>\n",
       "    </tr>\n",
       "    <tr>\n",
       "      <th>41</th>\n",
       "      <td>205</td>\n",
       "      <td>11101</td>\n",
       "      <td>0</td>\n",
       "    </tr>\n",
       "    <tr>\n",
       "      <th>42</th>\n",
       "      <td>73</td>\n",
       "      <td>11102</td>\n",
       "      <td>0</td>\n",
       "    </tr>\n",
       "    <tr>\n",
       "      <th>43</th>\n",
       "      <td>23</td>\n",
       "      <td>11103</td>\n",
       "      <td>0</td>\n",
       "    </tr>\n",
       "    <tr>\n",
       "      <th>44</th>\n",
       "      <td>163</td>\n",
       "      <td>11104</td>\n",
       "      <td>0</td>\n",
       "    </tr>\n",
       "    <tr>\n",
       "      <th>45</th>\n",
       "      <td>30</td>\n",
       "      <td>11105</td>\n",
       "      <td>0</td>\n",
       "    </tr>\n",
       "    <tr>\n",
       "      <th>46</th>\n",
       "      <td>111</td>\n",
       "      <td>11106</td>\n",
       "      <td>0</td>\n",
       "    </tr>\n",
       "    <tr>\n",
       "      <th>47</th>\n",
       "      <td>627</td>\n",
       "      <td>11201</td>\n",
       "      <td>1</td>\n",
       "    </tr>\n",
       "    <tr>\n",
       "      <th>48</th>\n",
       "      <td>58</td>\n",
       "      <td>11211</td>\n",
       "      <td>0</td>\n",
       "    </tr>\n",
       "    <tr>\n",
       "      <th>49</th>\n",
       "      <td>52</td>\n",
       "      <td>11215</td>\n",
       "      <td>0</td>\n",
       "    </tr>\n",
       "    <tr>\n",
       "      <th>50</th>\n",
       "      <td>12</td>\n",
       "      <td>11216</td>\n",
       "      <td>0</td>\n",
       "    </tr>\n",
       "    <tr>\n",
       "      <th>51</th>\n",
       "      <td>68</td>\n",
       "      <td>11217</td>\n",
       "      <td>0</td>\n",
       "    </tr>\n",
       "    <tr>\n",
       "      <th>52</th>\n",
       "      <td>161</td>\n",
       "      <td>11231</td>\n",
       "      <td>0</td>\n",
       "    </tr>\n",
       "    <tr>\n",
       "      <th>53</th>\n",
       "      <td>39</td>\n",
       "      <td>11369</td>\n",
       "      <td>0</td>\n",
       "    </tr>\n",
       "    <tr>\n",
       "      <th>54</th>\n",
       "      <td>1143</td>\n",
       "      <td>11371</td>\n",
       "      <td>1</td>\n",
       "    </tr>\n",
       "    <tr>\n",
       "      <th>55</th>\n",
       "      <td>12</td>\n",
       "      <td>11372</td>\n",
       "      <td>0</td>\n",
       "    </tr>\n",
       "    <tr>\n",
       "      <th>56</th>\n",
       "      <td>12</td>\n",
       "      <td>11374</td>\n",
       "      <td>0</td>\n",
       "    </tr>\n",
       "    <tr>\n",
       "      <th>57</th>\n",
       "      <td>24</td>\n",
       "      <td>11375</td>\n",
       "      <td>0</td>\n",
       "    </tr>\n",
       "    <tr>\n",
       "      <th>58</th>\n",
       "      <td>83</td>\n",
       "      <td>11377</td>\n",
       "      <td>0</td>\n",
       "    </tr>\n",
       "    <tr>\n",
       "      <th>59</th>\n",
       "      <td>621</td>\n",
       "      <td>11430</td>\n",
       "      <td>1</td>\n",
       "    </tr>\n",
       "  </tbody>\n",
       "</table>\n",
       "</div>"
      ],
      "text/plain": [
       "    count  zip_code  percent\n",
       "0    8298     10001        7\n",
       "1     575     10002        1\n",
       "2    4345     10003        4\n",
       "3     588     10004        1\n",
       "4     722     10005        1\n",
       "5     173     10006        0\n",
       "6     681     10007        1\n",
       "7    1135     10009        1\n",
       "8    3767     10010        3\n",
       "9    4861     10011        4\n",
       "10   1527     10012        1\n",
       "11   3141     10013        3\n",
       "12   3765     10014        3\n",
       "13   8603     10016        8\n",
       "14   6734     10017        6\n",
       "15   5396     10018        5\n",
       "16   7367     10019        7\n",
       "17    116     10020        0\n",
       "18   6341     10021        6\n",
       "19   4635     10022        4\n",
       "20   5948     10023        5\n",
       "21   3076     10024        3\n",
       "22   2050     10025        2\n",
       "23    197     10026        0\n",
       "24    164     10027        0\n",
       "25   3887     10028        4\n",
       "26    667     10029        1\n",
       "27     19     10030        0\n",
       "28     92     10031        0\n",
       "29     22     10032        0\n",
       "30    110     10035        0\n",
       "31   5532     10036        5\n",
       "32     36     10037        0\n",
       "33    621     10038        1\n",
       "34   4857     10065        4\n",
       "35     61     10069        0\n",
       "36   2345     10075        2\n",
       "37   4196     10128        4\n",
       "38    711     10280        1\n",
       "39     19     10281        0\n",
       "40     13     10282        0\n",
       "41    205     11101        0\n",
       "42     73     11102        0\n",
       "43     23     11103        0\n",
       "44    163     11104        0\n",
       "45     30     11105        0\n",
       "46    111     11106        0\n",
       "47    627     11201        1\n",
       "48     58     11211        0\n",
       "49     52     11215        0\n",
       "50     12     11216        0\n",
       "51     68     11217        0\n",
       "52    161     11231        0\n",
       "53     39     11369        0\n",
       "54   1143     11371        1\n",
       "55     12     11372        0\n",
       "56     12     11374        0\n",
       "57     24     11375        0\n",
       "58     83     11377        0\n",
       "59    621     11430        1"
      ]
     },
     "execution_count": 60,
     "metadata": {},
     "output_type": "execute_result"
    }
   ],
   "source": [
    "zips.sort_values(\"zip_code\")"
   ]
  },
  {
   "cell_type": "code",
   "execution_count": 30,
   "metadata": {
    "collapsed": false
   },
   "outputs": [
    {
     "data": {
      "text/plain": [
       "(111033, 26)"
      ]
     },
     "execution_count": 30,
     "metadata": {},
     "output_type": "execute_result"
    }
   ],
   "source": [
    "dfCountB.shape"
   ]
  },
  {
   "cell_type": "code",
   "execution_count": 28,
   "metadata": {
    "collapsed": true
   },
   "outputs": [],
   "source": [
    "import dill"
   ]
  },
  {
   "cell_type": "code",
   "execution_count": 266,
   "metadata": {
    "collapsed": false
   },
   "outputs": [],
   "source": [
    "with open(\"cluster_02.dill\",\"r\") as f:\n",
    "    test = dill.load(f)"
   ]
  },
  {
   "cell_type": "code",
   "execution_count": 273,
   "metadata": {
    "collapsed": false
   },
   "outputs": [],
   "source": [
    "for i in range(1,13):\n",
    "    if i < 10:\n",
    "        name = \"0\" + str(i)\n",
    "    else:\n",
    "        name = str(i)\n",
    "    name = \"cluster_\"+name+\".dill\"\n",
    "    with open(name, \"r\") as f:\n",
    "        temp = dill.load(f)\n",
    "    new_cluster = transform_cluster(temp)\n",
    "    \n",
    "    new_name = \"new_\" + name\n",
    "    with open(new_name,\"w\") as f:\n",
    "        dill.dump(new_cluster,f)"
   ]
  },
  {
   "cell_type": "code",
   "execution_count": 151,
   "metadata": {
    "collapsed": true
   },
   "outputs": [],
   "source": [
    "from shapely import geometry"
   ]
  },
  {
   "cell_type": "code",
   "execution_count": 269,
   "metadata": {
    "collapsed": false
   },
   "outputs": [],
   "source": [
    "res = transform_cluster(test)"
   ]
  },
  {
   "cell_type": "code",
   "execution_count": 272,
   "metadata": {
    "collapsed": false
   },
   "outputs": [
    {
     "data": {
      "text/plain": [
       "(array('d', [-73.9533996582, -73.9555511475, -73.9545135498, -73.9541168213, -73.9533996582]),\n",
       " array('d', [40.7283554077, 40.730102539099995, 40.7302589417, 40.7302894592, 40.7283554077]))"
      ]
     },
     "execution_count": 272,
     "metadata": {},
     "output_type": "execute_result"
    }
   ],
   "source": [
    "res[(2,1,0)][\"poly\"].iloc[0]"
   ]
  },
  {
   "cell_type": "code",
   "execution_count": 268,
   "metadata": {
    "collapsed": true
   },
   "outputs": [],
   "source": [
    "def transform_cluster(test):\n",
    "    allowed = [\"Manhattan\",\"Brooklyn\",\"Bronx\",\"Queens\",\"Staten Island\"]\n",
    "    new_cluster = {}\n",
    "    for key in test:\n",
    "        bur = key[1]\n",
    "        if bur in allowed:\n",
    "            df = test[key]\n",
    "            df.loc[:,\"nP\"] = df[\"percent\"]/(df[\"percent\"].max() + 0.00001)\n",
    "            new_key = tuple(list(key[2:]))\n",
    "            if new_key in new_cluster:\n",
    "                new_cluster[new_key] = pd.concat([new_cluster[new_key],df]).reset_index(drop = True)\n",
    "            else:\n",
    "                new_cluster[new_key] = df\n",
    "        \n",
    "    for key in new_cluster:\n",
    "        df = new_cluster[key]\n",
    "        valid = np.where([type(val) == geometry.polygon.Polygon for val in df[\"poly\"]])\n",
    "        df = df.iloc[valid].reset_index(drop = True)\n",
    "        df.loc[:,\"poly\"] = df[\"poly\"].apply(lambda x: x.exterior.xy)\n",
    "        new_cluster[key] = df\n",
    "    return new_cluster"
   ]
  },
  {
   "cell_type": "code",
   "execution_count": 199,
   "metadata": {
    "collapsed": false
   },
   "outputs": [],
   "source": [
    "new_cluster = {}\n",
    "for key in test:\n",
    "    bur = key[1]\n",
    "    if bur in allowed:\n",
    "        df = test[key]\n",
    "        df.loc[:,\"nP\"] = df[\"percent\"]/(df[\"percent\"].max() + 0.00001)\n",
    "        new_key = tuple(list(key[2:]))\n",
    "        if new_key in new_cluster:\n",
    "            new_cluster[new_key] = pd.concat([new_cluster[new_key],df]).reset_index(drop = True)\n",
    "        else:\n",
    "            new_cluster[new_key] = df\n",
    "    else:\n",
    "        cc += test[key].shape[0] "
   ]
  },
  {
   "cell_type": "code",
   "execution_count": 178,
   "metadata": {
    "collapsed": true
   },
   "outputs": [],
   "source": []
  },
  {
   "cell_type": "code",
   "execution_count": 197,
   "metadata": {
    "collapsed": false
   },
   "outputs": [
    {
     "data": {
      "text/plain": [
       "shapely.geometry.polygon.Polygon"
      ]
     },
     "execution_count": 197,
     "metadata": {},
     "output_type": "execute_result"
    }
   ],
   "source": [
    "type(new_cluster[(1, 5, 23)][\"poly\"].iloc[0])"
   ]
  },
  {
   "cell_type": "code",
   "execution_count": 186,
   "metadata": {
    "collapsed": false
   },
   "outputs": [],
   "source": []
  },
  {
   "cell_type": "code",
   "execution_count": 187,
   "metadata": {
    "collapsed": true
   },
   "outputs": [],
   "source": [
    "from descartes import PolygonPatch"
   ]
  },
  {
   "cell_type": "code",
   "execution_count": 188,
   "metadata": {
    "collapsed": true
   },
   "outputs": [],
   "source": [
    "not_working = []"
   ]
  },
  {
   "cell_type": "code",
   "execution_count": 240,
   "metadata": {
    "collapsed": true
   },
   "outputs": [],
   "source": [
    "import matplotlib"
   ]
  },
  {
   "cell_type": "code",
   "execution_count": 241,
   "metadata": {
    "collapsed": false
   },
   "outputs": [
    {
     "data": {
      "text/plain": [
       "u'#222222'"
      ]
     },
     "execution_count": 241,
     "metadata": {},
     "output_type": "execute_result"
    }
   ],
   "source": [
    "matplotlib.colors.rgb2hex(cmap(0))"
   ]
  },
  {
   "cell_type": "code",
   "execution_count": 244,
   "metadata": {
    "collapsed": true
   },
   "outputs": [],
   "source": [
    "with open(\"cmap.dill\", \"w\") as f:\n",
    "    dill.dump(cmap,f)"
   ]
  },
  {
   "cell_type": "code",
   "execution_count": 33,
   "metadata": {
    "collapsed": false
   },
   "outputs": [
    {
     "data": {
      "text/plain": [
       "array([[ 40.77191544, -73.96324158],\n",
       "       [ 40.74623871, -73.97164917],\n",
       "       [ 40.75824738, -73.96266937],\n",
       "       ..., \n",
       "       [ 40.76979065, -73.95162964],\n",
       "       [ 40.7400589 , -73.98948669],\n",
       "       [ 40.74550629, -73.97219086]])"
      ]
     },
     "execution_count": 33,
     "metadata": {},
     "output_type": "execute_result"
    }
   ],
   "source": [
    "dfCountB[[\"pickup_lat\",\"pickup_long\"]].values"
   ]
  },
  {
   "cell_type": "code",
   "execution_count": 163,
   "metadata": {
    "collapsed": false
   },
   "outputs": [],
   "source": [
    "tt = testing.get_group((219,227))"
   ]
  },
  {
   "cell_type": "code",
   "execution_count": 164,
   "metadata": {
    "collapsed": false
   },
   "outputs": [
    {
     "data": {
      "text/plain": [
       "Index([u'pickup_long', u'pickup_lat', u'Pickup_Zip_code', u'drop_grid'], dtype='object')"
      ]
     },
     "execution_count": 164,
     "metadata": {},
     "output_type": "execute_result"
    }
   ],
   "source": [
    "tt.columns"
   ]
  },
  {
   "cell_type": "code",
   "execution_count": 165,
   "metadata": {
    "collapsed": false
   },
   "outputs": [
    {
     "data": {
      "image/png": "[encoded data removed]",
      "text/plain": [
       "<matplotlib.figure.Figure at 0x7fa646d8ba10>"
      ]
     },
     "metadata": {},
     "output_type": "display_data"
    }
   ],
   "source": [
    "# temp = res[(1,5,21)] \n",
    "cmap = sns.light_palette('#FF0000', as_cmap=True)\n",
    "fig = plt.figure(figsize=(15,15), dpi=1000)\n",
    "ax1 = fig.add_subplot(111)\n",
    "sns.despine(fig)\n",
    "sns.set_style(\"dark\")\n",
    "sns.set(rc={'axes.facecolor':'grey', 'figure.facecolor':'grey'})\n",
    "\n",
    "ax1 = fig.gca()\n",
    "ax1.set_yticks([])\n",
    "ax1.set_xticks([])\n",
    "\n",
    "#ax2 = fig.add_subplot(212)\n",
    "for poly in ny_records.values():\n",
    "#     x1, y1 = poly[0].exterior.xy\n",
    "#     ax1.plot(x1, y1)\n",
    "    try:\n",
    "        x2, y2 = poly.exterior.xy\n",
    "        ax1.plot(x2, y2,\"white\",lw = 1)\n",
    "    except AttributeError:\n",
    "        for poly in poly:\n",
    "            x2,y2 = poly.exterior.xy\n",
    "            ax1.plot(x2,y2,\"white\",lw = 1)\n",
    "# ax = fig.gca()\n",
    "# for row in temp.iterrows():\n",
    "#     color = cmap(row[1][\"normalized\"])\n",
    "#     ax1.add_patch(PolygonPatch(row[1][0], fill=True,fc = color, ec = color))\n",
    "# x = gg[\"pickup_lat\"].values\n",
    "# y = gg[\"pickup_long\"].values\n",
    "\n",
    "# for i in range(len(x)):\n",
    "#     ax1.scatter(y[i],x[i])\n",
    "\n",
    "lat = tt[\"pickup_lat\"].values\n",
    "lng = tt[\"pickup_long\"].values\n",
    "plt.scatter(lng,lat)\n",
    "# for index,box in np.ndenumerate(RELEVANT):\n",
    "#     if box:\n",
    "#         try:\n",
    "#             #x,y = box.exterior.xy\n",
    "            \n",
    "#             ax1.add_patch(PolygonPatch(box,  ec =\"white\"))\n",
    "#         except AssertionError:\n",
    "            \n",
    "#             for poly in box:\n",
    "                \n",
    "#                 ax1.add_patch(PolygonPatch(poly,ec = \"white\"))\n",
    "\n",
    "plt.plot();"
   ]
  },
  {
   "cell_type": "code",
   "execution_count": null,
   "metadata": {
    "collapsed": false
   },
   "outputs": [],
   "source": [
    "test.keys()[0]"
   ]
  },
  {
   "cell_type": "code",
   "execution_count": 80,
   "metadata": {
    "collapsed": false
   },
   "outputs": [],
   "source": [
    "t1 = test[('01', 'Brooklyn', 1, 1, 8)]"
   ]
  },
  {
   "cell_type": "code",
   "execution_count": 77,
   "metadata": {
    "collapsed": true
   },
   "outputs": [],
   "source": [
    "t2 = test[('01', 'Manhattan', 1, 1, 8)]"
   ]
  },
  {
   "cell_type": "code",
   "execution_count": 81,
   "metadata": {
    "collapsed": false
   },
   "outputs": [
    {
     "data": {
      "text/html": [
       "<div>\n",
       "<table border=\"1\" class=\"dataframe\">\n",
       "  <thead>\n",
       "    <tr style=\"text-align: right;\">\n",
       "      <th></th>\n",
       "      <th>poly</th>\n",
       "      <th>counts</th>\n",
       "      <th>percent</th>\n",
       "      <th>normalized</th>\n",
       "    </tr>\n",
       "  </thead>\n",
       "  <tbody>\n",
       "    <tr>\n",
       "      <th>0</th>\n",
       "      <td>POLYGON ((-73.9913635254 40.68542099, -73.9919...</td>\n",
       "      <td>61</td>\n",
       "      <td>0.848746</td>\n",
       "      <td>0.011696</td>\n",
       "    </tr>\n",
       "    <tr>\n",
       "      <th>1</th>\n",
       "      <td>POLYGON ((-74.0006027222 40.675365448, -74.002...</td>\n",
       "      <td>667</td>\n",
       "      <td>6.636605</td>\n",
       "      <td>1.000000</td>\n",
       "    </tr>\n",
       "    <tr>\n",
       "      <th>2</th>\n",
       "      <td>POLYGON ((-73.97923278810001 40.6827964783, -7...</td>\n",
       "      <td>29</td>\n",
       "      <td>0.854698</td>\n",
       "      <td>0.005599</td>\n",
       "    </tr>\n",
       "    <tr>\n",
       "      <th>3</th>\n",
       "      <td>POLYGON ((-73.9584732056 40.7151947021, -73.95...</td>\n",
       "      <td>13</td>\n",
       "      <td>0.895775</td>\n",
       "      <td>0.002631</td>\n",
       "    </tr>\n",
       "    <tr>\n",
       "      <th>4</th>\n",
       "      <td>POLYGON ((-73.9715042114 40.6760597229, -73.97...</td>\n",
       "      <td>12</td>\n",
       "      <td>0.759992</td>\n",
       "      <td>0.002060</td>\n",
       "    </tr>\n",
       "    <tr>\n",
       "      <th>5</th>\n",
       "      <td>POLYGON ((-73.9882278442 40.6717414856, -73.98...</td>\n",
       "      <td>10</td>\n",
       "      <td>0.786210</td>\n",
       "      <td>0.001776</td>\n",
       "    </tr>\n",
       "    <tr>\n",
       "      <th>6</th>\n",
       "      <td>POLYGON ((-73.9595031738 40.7089080811, -73.96...</td>\n",
       "      <td>14</td>\n",
       "      <td>0.715131</td>\n",
       "      <td>0.002262</td>\n",
       "    </tr>\n",
       "    <tr>\n",
       "      <th>7</th>\n",
       "      <td>POLYGON ((-73.9840164185 40.6758460999, -73.98...</td>\n",
       "      <td>12</td>\n",
       "      <td>0.734485</td>\n",
       "      <td>0.001991</td>\n",
       "    </tr>\n",
       "    <tr>\n",
       "      <th>8</th>\n",
       "      <td>POLYGON ((-73.97431182859999 40.6445770264, -7...</td>\n",
       "      <td>6</td>\n",
       "      <td>1.006244</td>\n",
       "      <td>0.001364</td>\n",
       "    </tr>\n",
       "    <tr>\n",
       "      <th>9</th>\n",
       "      <td>POLYGON ((-73.9685974121 40.69222640989999, -7...</td>\n",
       "      <td>10</td>\n",
       "      <td>0.837563</td>\n",
       "      <td>0.001892</td>\n",
       "    </tr>\n",
       "    <tr>\n",
       "      <th>10</th>\n",
       "      <td>POLYGON ((-73.9895782471 40.6692314148, -73.98...</td>\n",
       "      <td>6</td>\n",
       "      <td>0.759900</td>\n",
       "      <td>0.001030</td>\n",
       "    </tr>\n",
       "    <tr>\n",
       "      <th>11</th>\n",
       "      <td>POLYGON ((-73.9826126099 40.6860542297, -73.98...</td>\n",
       "      <td>11</td>\n",
       "      <td>0.854406</td>\n",
       "      <td>0.002123</td>\n",
       "    </tr>\n",
       "    <tr>\n",
       "      <th>12</th>\n",
       "      <td>POLYGON ((-73.965965271 40.6886940002, -73.968...</td>\n",
       "      <td>6</td>\n",
       "      <td>0.893372</td>\n",
       "      <td>0.001211</td>\n",
       "    </tr>\n",
       "    <tr>\n",
       "      <th>13</th>\n",
       "      <td>POLYGON ((-73.9744338989 40.67995071409999, -7...</td>\n",
       "      <td>6</td>\n",
       "      <td>0.748744</td>\n",
       "      <td>0.001015</td>\n",
       "    </tr>\n",
       "    <tr>\n",
       "      <th>14</th>\n",
       "      <td>POLYGON ((-73.97020721439999 40.6894989014, -7...</td>\n",
       "      <td>6</td>\n",
       "      <td>0.875800</td>\n",
       "      <td>0.001187</td>\n",
       "    </tr>\n",
       "    <tr>\n",
       "      <th>0</th>\n",
       "      <td>POLYGON ((-73.97565460209999 40.750743866, -73...</td>\n",
       "      <td>1713</td>\n",
       "      <td>25.054045</td>\n",
       "      <td>0.497752</td>\n",
       "    </tr>\n",
       "    <tr>\n",
       "      <th>1</th>\n",
       "      <td>POLYGON ((-73.9543304443 40.7654380798, -73.95...</td>\n",
       "      <td>664</td>\n",
       "      <td>4.906727</td>\n",
       "      <td>0.037787</td>\n",
       "    </tr>\n",
       "    <tr>\n",
       "      <th>2</th>\n",
       "      <td>POLYGON ((-73.96463012699999 40.7642097473, -7...</td>\n",
       "      <td>1604</td>\n",
       "      <td>15.595871</td>\n",
       "      <td>0.290129</td>\n",
       "    </tr>\n",
       "    <tr>\n",
       "      <th>3</th>\n",
       "      <td>POLYGON ((-73.9923324585 40.747959137, -73.992...</td>\n",
       "      <td>1539</td>\n",
       "      <td>25.750398</td>\n",
       "      <td>0.459621</td>\n",
       "    </tr>\n",
       "    <tr>\n",
       "      <th>4</th>\n",
       "      <td>POLYGON ((-73.9917831421 40.7545585632, -73.99...</td>\n",
       "      <td>1134</td>\n",
       "      <td>5.933636</td>\n",
       "      <td>0.078039</td>\n",
       "    </tr>\n",
       "    <tr>\n",
       "      <th>5</th>\n",
       "      <td>POLYGON ((-73.9580993652 40.7720909119, -73.95...</td>\n",
       "      <td>199</td>\n",
       "      <td>4.012121</td>\n",
       "      <td>0.009260</td>\n",
       "    </tr>\n",
       "    <tr>\n",
       "      <th>6</th>\n",
       "      <td>POLYGON ((-73.965133667 40.75531768800001, -73...</td>\n",
       "      <td>449</td>\n",
       "      <td>192.033149</td>\n",
       "      <td>1.000000</td>\n",
       "    </tr>\n",
       "    <tr>\n",
       "      <th>7</th>\n",
       "      <td>POLYGON ((-73.97379302979999 40.7431144714, -7...</td>\n",
       "      <td>234</td>\n",
       "      <td>2.835765</td>\n",
       "      <td>0.007696</td>\n",
       "    </tr>\n",
       "    <tr>\n",
       "      <th>8</th>\n",
       "      <td>POLYGON ((-74.00798034669999 40.7313842773, -7...</td>\n",
       "      <td>605</td>\n",
       "      <td>3.412957</td>\n",
       "      <td>0.023948</td>\n",
       "    </tr>\n",
       "    <tr>\n",
       "      <th>9</th>\n",
       "      <td>POLYGON ((-73.9605178833 40.7614364624, -73.96...</td>\n",
       "      <td>535</td>\n",
       "      <td>7.082413</td>\n",
       "      <td>0.043945</td>\n",
       "    </tr>\n",
       "    <tr>\n",
       "      <th>10</th>\n",
       "      <td>POLYGON ((-73.99536895750001 40.7491264343, -7...</td>\n",
       "      <td>755</td>\n",
       "      <td>9.743729</td>\n",
       "      <td>0.085320</td>\n",
       "    </tr>\n",
       "    <tr>\n",
       "      <th>11</th>\n",
       "      <td>POLYGON ((-73.9572296143 40.7659263611, -73.95...</td>\n",
       "      <td>407</td>\n",
       "      <td>2.523966</td>\n",
       "      <td>0.011914</td>\n",
       "    </tr>\n",
       "    <tr>\n",
       "      <th>12</th>\n",
       "      <td>POLYGON ((-73.97564697270001 40.7545852661, -7...</td>\n",
       "      <td>757</td>\n",
       "      <td>19.207641</td>\n",
       "      <td>0.168635</td>\n",
       "    </tr>\n",
       "    <tr>\n",
       "      <th>13</th>\n",
       "      <td>POLYGON ((-73.9524765015 40.7683486938, -73.95...</td>\n",
       "      <td>397</td>\n",
       "      <td>6.095195</td>\n",
       "      <td>0.028064</td>\n",
       "    </tr>\n",
       "    <tr>\n",
       "      <th>14</th>\n",
       "      <td>POLYGON ((-73.97845458979999 40.7611427307, -7...</td>\n",
       "      <td>402</td>\n",
       "      <td>205.947467</td>\n",
       "      <td>0.960196</td>\n",
       "    </tr>\n",
       "    <tr>\n",
       "      <th>15</th>\n",
       "      <td>POLYGON ((-73.9797286987 40.7458114624, -73.98...</td>\n",
       "      <td>933</td>\n",
       "      <td>27.999099</td>\n",
       "      <td>0.302972</td>\n",
       "    </tr>\n",
       "    <tr>\n",
       "      <th>16</th>\n",
       "      <td>POLYGON ((-73.99773406979999 40.7553215027, -7...</td>\n",
       "      <td>279</td>\n",
       "      <td>10.578323</td>\n",
       "      <td>0.034229</td>\n",
       "    </tr>\n",
       "    <tr>\n",
       "      <th>17</th>\n",
       "      <td>POLYGON ((-73.9664611816 40.7612342834, -73.96...</td>\n",
       "      <td>309</td>\n",
       "      <td>3.728453</td>\n",
       "      <td>0.013362</td>\n",
       "    </tr>\n",
       "    <tr>\n",
       "      <th>18</th>\n",
       "      <td>POLYGON ((-74.0153503418 40.7146911621, -74.01...</td>\n",
       "      <td>521</td>\n",
       "      <td>6.896649</td>\n",
       "      <td>0.041673</td>\n",
       "    </tr>\n",
       "    <tr>\n",
       "      <th>19</th>\n",
       "      <td>POLYGON ((-73.98294830319999 40.7659339905, -7...</td>\n",
       "      <td>262</td>\n",
       "      <td>2.724368</td>\n",
       "      <td>0.008278</td>\n",
       "    </tr>\n",
       "    <tr>\n",
       "      <th>20</th>\n",
       "      <td>POLYGON ((-73.982383728 40.7620735168, -73.982...</td>\n",
       "      <td>314</td>\n",
       "      <td>1.923552</td>\n",
       "      <td>0.007005</td>\n",
       "    </tr>\n",
       "    <tr>\n",
       "      <th>21</th>\n",
       "      <td>POLYGON ((-73.9957199097 40.7587203979, -73.99...</td>\n",
       "      <td>251</td>\n",
       "      <td>3.162589</td>\n",
       "      <td>0.009206</td>\n",
       "    </tr>\n",
       "    <tr>\n",
       "      <th>22</th>\n",
       "      <td>POLYGON ((-73.9540863037 40.7687721252, -73.95...</td>\n",
       "      <td>220</td>\n",
       "      <td>1.976557</td>\n",
       "      <td>0.005043</td>\n",
       "    </tr>\n",
       "    <tr>\n",
       "      <th>23</th>\n",
       "      <td>POLYGON ((-73.97234344479999 40.7453575134, -7...</td>\n",
       "      <td>226</td>\n",
       "      <td>3.119635</td>\n",
       "      <td>0.008177</td>\n",
       "    </tr>\n",
       "    <tr>\n",
       "      <th>24</th>\n",
       "      <td>POLYGON ((-73.9816894531 40.7675437927, -73.98...</td>\n",
       "      <td>252</td>\n",
       "      <td>4.968845</td>\n",
       "      <td>0.014522</td>\n",
       "    </tr>\n",
       "    <tr>\n",
       "      <th>25</th>\n",
       "      <td>POLYGON ((-73.987487793 40.7382888794, -73.987...</td>\n",
       "      <td>345</td>\n",
       "      <td>116.569343</td>\n",
       "      <td>0.466424</td>\n",
       "    </tr>\n",
       "    <tr>\n",
       "      <th>26</th>\n",
       "      <td>POLYGON ((-73.9667892456 40.7569198608, -73.96...</td>\n",
       "      <td>447</td>\n",
       "      <td>6.423419</td>\n",
       "      <td>0.033301</td>\n",
       "    </tr>\n",
       "    <tr>\n",
       "      <th>27</th>\n",
       "      <td>POLYGON ((-74.0160369873 40.7098617554, -74.01...</td>\n",
       "      <td>295</td>\n",
       "      <td>4.778246</td>\n",
       "      <td>0.016348</td>\n",
       "    </tr>\n",
       "    <tr>\n",
       "      <th>28</th>\n",
       "      <td>POLYGON ((-74.0030822754 40.7597236633, -74.00...</td>\n",
       "      <td>178</td>\n",
       "      <td>2.954388</td>\n",
       "      <td>0.006099</td>\n",
       "    </tr>\n",
       "    <tr>\n",
       "      <th>29</th>\n",
       "      <td>POLYGON ((-73.9734115601 40.7547912598, -73.97...</td>\n",
       "      <td>250</td>\n",
       "      <td>1.669960</td>\n",
       "      <td>0.004842</td>\n",
       "    </tr>\n",
       "    <tr>\n",
       "      <th>30</th>\n",
       "      <td>POLYGON ((-73.97602081300001 40.76449203489999...</td>\n",
       "      <td>201</td>\n",
       "      <td>0.869549</td>\n",
       "      <td>0.002027</td>\n",
       "    </tr>\n",
       "    <tr>\n",
       "      <th>31</th>\n",
       "      <td>POLYGON ((-74.00340271 40.7482223511, -74.0035...</td>\n",
       "      <td>179</td>\n",
       "      <td>3.405454</td>\n",
       "      <td>0.007070</td>\n",
       "    </tr>\n",
       "    <tr>\n",
       "      <th>32</th>\n",
       "      <td>POLYGON ((-73.99243927000001 40.7424316406, -7...</td>\n",
       "      <td>177</td>\n",
       "      <td>0.828040</td>\n",
       "      <td>0.001700</td>\n",
       "    </tr>\n",
       "    <tr>\n",
       "      <th>33</th>\n",
       "      <td>POLYGON ((-74.0042877197 40.7474098206, -74.00...</td>\n",
       "      <td>130</td>\n",
       "      <td>0.797595</td>\n",
       "      <td>0.001203</td>\n",
       "    </tr>\n",
       "  </tbody>\n",
       "</table>\n",
       "</div>"
      ],
      "text/plain": [
       "                                                 poly  counts     percent  \\\n",
       "0   POLYGON ((-73.9913635254 40.68542099, -73.9919...      61    0.848746   \n",
       "1   POLYGON ((-74.0006027222 40.675365448, -74.002...     667    6.636605   \n",
       "2   POLYGON ((-73.97923278810001 40.6827964783, -7...      29    0.854698   \n",
       "3   POLYGON ((-73.9584732056 40.7151947021, -73.95...      13    0.895775   \n",
       "4   POLYGON ((-73.9715042114 40.6760597229, -73.97...      12    0.759992   \n",
       "5   POLYGON ((-73.9882278442 40.6717414856, -73.98...      10    0.786210   \n",
       "6   POLYGON ((-73.9595031738 40.7089080811, -73.96...      14    0.715131   \n",
       "7   POLYGON ((-73.9840164185 40.6758460999, -73.98...      12    0.734485   \n",
       "8   POLYGON ((-73.97431182859999 40.6445770264, -7...       6    1.006244   \n",
       "9   POLYGON ((-73.9685974121 40.69222640989999, -7...      10    0.837563   \n",
       "10  POLYGON ((-73.9895782471 40.6692314148, -73.98...       6    0.759900   \n",
       "11  POLYGON ((-73.9826126099 40.6860542297, -73.98...      11    0.854406   \n",
       "12  POLYGON ((-73.965965271 40.6886940002, -73.968...       6    0.893372   \n",
       "13  POLYGON ((-73.9744338989 40.67995071409999, -7...       6    0.748744   \n",
       "14  POLYGON ((-73.97020721439999 40.6894989014, -7...       6    0.875800   \n",
       "0   POLYGON ((-73.97565460209999 40.750743866, -73...    1713   25.054045   \n",
       "1   POLYGON ((-73.9543304443 40.7654380798, -73.95...     664    4.906727   \n",
       "2   POLYGON ((-73.96463012699999 40.7642097473, -7...    1604   15.595871   \n",
       "3   POLYGON ((-73.9923324585 40.747959137, -73.992...    1539   25.750398   \n",
       "4   POLYGON ((-73.9917831421 40.7545585632, -73.99...    1134    5.933636   \n",
       "5   POLYGON ((-73.9580993652 40.7720909119, -73.95...     199    4.012121   \n",
       "6   POLYGON ((-73.965133667 40.75531768800001, -73...     449  192.033149   \n",
       "7   POLYGON ((-73.97379302979999 40.7431144714, -7...     234    2.835765   \n",
       "8   POLYGON ((-74.00798034669999 40.7313842773, -7...     605    3.412957   \n",
       "9   POLYGON ((-73.9605178833 40.7614364624, -73.96...     535    7.082413   \n",
       "10  POLYGON ((-73.99536895750001 40.7491264343, -7...     755    9.743729   \n",
       "11  POLYGON ((-73.9572296143 40.7659263611, -73.95...     407    2.523966   \n",
       "12  POLYGON ((-73.97564697270001 40.7545852661, -7...     757   19.207641   \n",
       "13  POLYGON ((-73.9524765015 40.7683486938, -73.95...     397    6.095195   \n",
       "14  POLYGON ((-73.97845458979999 40.7611427307, -7...     402  205.947467   \n",
       "15  POLYGON ((-73.9797286987 40.7458114624, -73.98...     933   27.999099   \n",
       "16  POLYGON ((-73.99773406979999 40.7553215027, -7...     279   10.578323   \n",
       "17  POLYGON ((-73.9664611816 40.7612342834, -73.96...     309    3.728453   \n",
       "18  POLYGON ((-74.0153503418 40.7146911621, -74.01...     521    6.896649   \n",
       "19  POLYGON ((-73.98294830319999 40.7659339905, -7...     262    2.724368   \n",
       "20  POLYGON ((-73.982383728 40.7620735168, -73.982...     314    1.923552   \n",
       "21  POLYGON ((-73.9957199097 40.7587203979, -73.99...     251    3.162589   \n",
       "22  POLYGON ((-73.9540863037 40.7687721252, -73.95...     220    1.976557   \n",
       "23  POLYGON ((-73.97234344479999 40.7453575134, -7...     226    3.119635   \n",
       "24  POLYGON ((-73.9816894531 40.7675437927, -73.98...     252    4.968845   \n",
       "25  POLYGON ((-73.987487793 40.7382888794, -73.987...     345  116.569343   \n",
       "26  POLYGON ((-73.9667892456 40.7569198608, -73.96...     447    6.423419   \n",
       "27  POLYGON ((-74.0160369873 40.7098617554, -74.01...     295    4.778246   \n",
       "28  POLYGON ((-74.0030822754 40.7597236633, -74.00...     178    2.954388   \n",
       "29  POLYGON ((-73.9734115601 40.7547912598, -73.97...     250    1.669960   \n",
       "30  POLYGON ((-73.97602081300001 40.76449203489999...     201    0.869549   \n",
       "31  POLYGON ((-74.00340271 40.7482223511, -74.0035...     179    3.405454   \n",
       "32  POLYGON ((-73.99243927000001 40.7424316406, -7...     177    0.828040   \n",
       "33  POLYGON ((-74.0042877197 40.7474098206, -74.00...     130    0.797595   \n",
       "\n",
       "    normalized  \n",
       "0     0.011696  \n",
       "1     1.000000  \n",
       "2     0.005599  \n",
       "3     0.002631  \n",
       "4     0.002060  \n",
       "5     0.001776  \n",
       "6     0.002262  \n",
       "7     0.001991  \n",
       "8     0.001364  \n",
       "9     0.001892  \n",
       "10    0.001030  \n",
       "11    0.002123  \n",
       "12    0.001211  \n",
       "13    0.001015  \n",
       "14    0.001187  \n",
       "0     0.497752  \n",
       "1     0.037787  \n",
       "2     0.290129  \n",
       "3     0.459621  \n",
       "4     0.078039  \n",
       "5     0.009260  \n",
       "6     1.000000  \n",
       "7     0.007696  \n",
       "8     0.023948  \n",
       "9     0.043945  \n",
       "10    0.085320  \n",
       "11    0.011914  \n",
       "12    0.168635  \n",
       "13    0.028064  \n",
       "14    0.960196  \n",
       "15    0.302972  \n",
       "16    0.034229  \n",
       "17    0.013362  \n",
       "18    0.041673  \n",
       "19    0.008278  \n",
       "20    0.007005  \n",
       "21    0.009206  \n",
       "22    0.005043  \n",
       "23    0.008177  \n",
       "24    0.014522  \n",
       "25    0.466424  \n",
       "26    0.033301  \n",
       "27    0.016348  \n",
       "28    0.006099  \n",
       "29    0.004842  \n",
       "30    0.002027  \n",
       "31    0.007070  \n",
       "32    0.001700  \n",
       "33    0.001203  "
      ]
     },
     "execution_count": 81,
     "metadata": {},
     "output_type": "execute_result"
    }
   ],
   "source": [
    "pd.concat([t1,t2])"
   ]
  },
  {
   "cell_type": "code",
   "execution_count": 35,
   "metadata": {
    "collapsed": false
   },
   "outputs": [],
   "source": [
    "d = {1:10,2:11}"
   ]
  },
  {
   "cell_type": "code",
   "execution_count": 37,
   "metadata": {
    "collapsed": false
   },
   "outputs": [
    {
     "ename": "TypeError",
     "evalue": "unhashable type: 'list'",
     "output_type": "error",
     "traceback": [
      "\u001b[1;31m---------------------------------------------------------------------------\u001b[0m",
      "\u001b[1;31mTypeError\u001b[0m                                 Traceback (most recent call last)",
      "\u001b[1;32m<ipython-input-37-37a010e9a993>\u001b[0m in \u001b[0;36m<module>\u001b[1;34m()\u001b[0m\n\u001b[1;32m----> 1\u001b[1;33m \u001b[0md\u001b[0m\u001b[1;33m[\u001b[0m\u001b[1;33m[\u001b[0m\u001b[1;36m1\u001b[0m\u001b[1;33m,\u001b[0m\u001b[1;36m2\u001b[0m\u001b[1;33m]\u001b[0m\u001b[1;33m]\u001b[0m\u001b[1;33m\u001b[0m\u001b[0m\n\u001b[0m",
      "\u001b[1;31mTypeError\u001b[0m: unhashable type: 'list'"
     ]
    }
   ],
   "source": [
    "d[[1,2]]"
   ]
  },
  {
   "cell_type": "code",
   "execution_count": 38,
   "metadata": {
    "collapsed": false
   },
   "outputs": [
    {
     "ename": "TypeError",
     "evalue": "unhashable type: 'list'",
     "output_type": "error",
     "traceback": [
      "\u001b[1;31m---------------------------------------------------------------------------\u001b[0m",
      "\u001b[1;31mTypeError\u001b[0m                                 Traceback (most recent call last)",
      "\u001b[1;32m<ipython-input-38-591ac7249d7b>\u001b[0m in \u001b[0;36m<module>\u001b[1;34m()\u001b[0m\n\u001b[1;32m----> 1\u001b[1;33m \u001b[0mset\u001b[0m\u001b[1;33m(\u001b[0m\u001b[1;33m[\u001b[0m\u001b[1;33m[\u001b[0m\u001b[1;36m1\u001b[0m\u001b[1;33m,\u001b[0m\u001b[1;36m2\u001b[0m\u001b[1;33m]\u001b[0m\u001b[1;33m,\u001b[0m\u001b[1;33m[\u001b[0m\u001b[1;36m3\u001b[0m\u001b[1;33m]\u001b[0m\u001b[1;33m]\u001b[0m\u001b[1;33m)\u001b[0m\u001b[1;33m\u001b[0m\u001b[0m\n\u001b[0m",
      "\u001b[1;31mTypeError\u001b[0m: unhashable type: 'list'"
     ]
    }
   ],
   "source": [
    "set([[1,2],[3]])"
   ]
  },
  {
   "cell_type": "code",
   "execution_count": 42,
   "metadata": {
    "collapsed": false
   },
   "outputs": [
    {
     "ename": "TypeError",
     "evalue": "add() takes exactly one argument (2 given)",
     "output_type": "error",
     "traceback": [
      "\u001b[1;31m---------------------------------------------------------------------------\u001b[0m",
      "\u001b[1;31mTypeError\u001b[0m                                 Traceback (most recent call last)",
      "\u001b[1;32m<ipython-input-42-694054b320b1>\u001b[0m in \u001b[0;36m<module>\u001b[1;34m()\u001b[0m\n\u001b[0;32m      1\u001b[0m \u001b[0ma\u001b[0m \u001b[1;33m=\u001b[0m \u001b[0mset\u001b[0m\u001b[1;33m(\u001b[0m\u001b[1;33m)\u001b[0m\u001b[1;33m\u001b[0m\u001b[0m\n\u001b[1;32m----> 2\u001b[1;33m \u001b[0ma\u001b[0m\u001b[1;33m.\u001b[0m\u001b[0madd\u001b[0m\u001b[1;33m(\u001b[0m\u001b[1;33m*\u001b[0m\u001b[1;33m[\u001b[0m\u001b[1;36m1\u001b[0m\u001b[1;33m,\u001b[0m\u001b[1;36m2\u001b[0m\u001b[1;33m]\u001b[0m\u001b[1;33m)\u001b[0m\u001b[1;33m\u001b[0m\u001b[0m\n\u001b[0m",
      "\u001b[1;31mTypeError\u001b[0m: add() takes exactly one argument (2 given)"
     ]
    }
   ],
   "source": [
    "# Enter your code here. Read input from STDIN. Print output to STDOUT\n",
    "N = int(raw_input())\n",
    "weights = map(int, raw_input().split())\n",
    "weights_dict = dict((i+1,weights[i]) for i in range(N))\n",
    "links = dict((i+1,[]) for i in range(N))\n",
    "links_list = []\n",
    "\n",
    "def flatten(l):\n",
    "    return [item for sublist in l for item in sublist]\n",
    "\n",
    "for i in range(N-1):\n",
    "    \n",
    "    l1,l2 = map(int, raw_input().split())\n",
    "    links[l1].append(l2)\n",
    "    links[l2].append(l1)\n",
    "    \n",
    "    links_list.append((l1,l2))\n",
    "\n",
    "def calculate_weight(links_in_tree):\n",
    "    total = 0\n",
    "    for link in links_in_tree:\n",
    "        total += weights_dict[link]\n",
    "    return total\n",
    "\n",
    "def get_nodes(root1,root2):\n",
    "    if links[root1] == [root2]:\n",
    "        nodes1 = [root1]\n",
    "    elif links[root2] == [root1]:\n",
    "        nodes1 = [root2]\n",
    "    else:\n",
    "        to_explore = [root1]\n",
    "        nodes1 = set([root2])\n",
    "        while to_explore:\n",
    "            nodes1.add(*to_explore)\n",
    "            current = list(set(flatten([links[val] for val in to_explore])) - nodes1)\n",
    "            if current:\n",
    "                nodes1.add(current)\n",
    "                to_explore = current\n",
    "            \n",
    "\n",
    "        \n",
    "                \n",
    "        nodes1.remove(root2)\n",
    "    nodes2 = list(set(range(1,N+1)) - set(nodes1))\n",
    "    return (nodes1,nodes2) \n",
    "    \n",
    "    \n",
    "\n",
    "min_seen = None\n",
    "for link_pair in links_list:\n",
    "    l1,l2 = link_pair\n",
    "    #print get_nodes(l1,l2)\n",
    "    t1,t2 = get_nodes(l1,l2)\n",
    "    diff = abs(calculate_weight(t1) -calculate_weight(t2))\n",
    "    if min_seen is None:\n",
    "        min_seen = diff\n",
    "    else:\n",
    "        if diff < min_seen:\n",
    "            min_seen = diff\n",
    "                  \n",
    "    \n",
    "print min_seen\n",
    "    "
   ]
  },
  {
   "cell_type": "code",
   "execution_count": 2,
   "metadata": {
    "collapsed": true
   },
   "outputs": [],
   "source": [
    "import pandas as pd"
   ]
  },
  {
   "cell_type": "code",
   "execution_count": 3,
   "metadata": {
    "collapsed": false
   },
   "outputs": [
    {
     "name": "stdout",
     "output_type": "stream",
     "text": [
      "01\n"
     ]
    },
    {
     "name": "stderr",
     "output_type": "stream",
     "text": [
      "/opt/conda/lib/python2.7/site-packages/IPython/core/interactiveshell.py:2723: DtypeWarning: Columns (21,24) have mixed types. Specify dtype option on import or set low_memory=False.\n",
      "  interactivity=interactivity, compiler=compiler, result=result)\n"
     ]
    }
   ],
   "source": [
    "url = \"https://storage.googleapis.com/taxi_ben/yellow_2015_\"\n",
    "for val in range(1,2):\n",
    "    if val < 10:\n",
    "        val = \"0\"+str(val)\n",
    "    else:\n",
    "        val = str(val)\n",
    "    print val\n",
    "    df = pd.read_csv(url+val+\".csv\")\n",
    "    df.to_csv(\"taxi_data/yellow_\"+val+\".csv\", index = False)\n",
    "    del df"
   ]
  },
  {
   "cell_type": "code",
   "execution_count": 1,
   "metadata": {
    "collapsed": true
   },
   "outputs": [],
   "source": [
    "import pandas as pd\n",
    "import dill"
   ]
  },
  {
   "cell_type": "code",
   "execution_count": 2,
   "metadata": {
    "collapsed": true
   },
   "outputs": [],
   "source": [
    "bank = pd.read_csv(\"bank_picks_01.csv\")"
   ]
  },
  {
   "cell_type": "code",
   "execution_count": null,
   "metadata": {
    "collapsed": true
   },
   "outputs": [],
   "source": [
    "with open(\"agg_data.dill\", \"w\") as f:\n",
    "    test = "
   ]
  },
  {
   "cell_type": "code",
   "execution_count": 3,
   "metadata": {
    "collapsed": false
   },
   "outputs": [
    {
     "data": {
      "text/html": [
       "<div>\n",
       "<table border=\"1\" class=\"dataframe\">\n",
       "  <thead>\n",
       "    <tr style=\"text-align: right;\">\n",
       "      <th></th>\n",
       "      <th>count</th>\n",
       "      <th>zip_code</th>\n",
       "    </tr>\n",
       "  </thead>\n",
       "  <tbody>\n",
       "    <tr>\n",
       "      <th>0</th>\n",
       "      <td>1.0</td>\n",
       "      <td>83.0</td>\n",
       "    </tr>\n",
       "    <tr>\n",
       "      <th>1</th>\n",
       "      <td>2.0</td>\n",
       "      <td>7310.0</td>\n",
       "    </tr>\n",
       "    <tr>\n",
       "      <th>2</th>\n",
       "      <td>6639.0</td>\n",
       "      <td>10001.0</td>\n",
       "    </tr>\n",
       "    <tr>\n",
       "      <th>3</th>\n",
       "      <td>456.0</td>\n",
       "      <td>10002.0</td>\n",
       "    </tr>\n",
       "    <tr>\n",
       "      <th>4</th>\n",
       "      <td>3556.0</td>\n",
       "      <td>10003.0</td>\n",
       "    </tr>\n",
       "    <tr>\n",
       "      <th>5</th>\n",
       "      <td>488.0</td>\n",
       "      <td>10004.0</td>\n",
       "    </tr>\n",
       "    <tr>\n",
       "      <th>6</th>\n",
       "      <td>598.0</td>\n",
       "      <td>10005.0</td>\n",
       "    </tr>\n",
       "    <tr>\n",
       "      <th>7</th>\n",
       "      <td>135.0</td>\n",
       "      <td>10006.0</td>\n",
       "    </tr>\n",
       "    <tr>\n",
       "      <th>8</th>\n",
       "      <td>561.0</td>\n",
       "      <td>10007.0</td>\n",
       "    </tr>\n",
       "    <tr>\n",
       "      <th>9</th>\n",
       "      <td>875.0</td>\n",
       "      <td>10009.0</td>\n",
       "    </tr>\n",
       "    <tr>\n",
       "      <th>10</th>\n",
       "      <td>3057.0</td>\n",
       "      <td>10010.0</td>\n",
       "    </tr>\n",
       "    <tr>\n",
       "      <th>11</th>\n",
       "      <td>3892.0</td>\n",
       "      <td>10011.0</td>\n",
       "    </tr>\n",
       "    <tr>\n",
       "      <th>12</th>\n",
       "      <td>1244.0</td>\n",
       "      <td>10012.0</td>\n",
       "    </tr>\n",
       "    <tr>\n",
       "      <th>13</th>\n",
       "      <td>2528.0</td>\n",
       "      <td>10013.0</td>\n",
       "    </tr>\n",
       "    <tr>\n",
       "      <th>14</th>\n",
       "      <td>3066.0</td>\n",
       "      <td>10014.0</td>\n",
       "    </tr>\n",
       "    <tr>\n",
       "      <th>15</th>\n",
       "      <td>7096.0</td>\n",
       "      <td>10016.0</td>\n",
       "    </tr>\n",
       "    <tr>\n",
       "      <th>16</th>\n",
       "      <td>5484.0</td>\n",
       "      <td>10017.0</td>\n",
       "    </tr>\n",
       "    <tr>\n",
       "      <th>17</th>\n",
       "      <td>4380.0</td>\n",
       "      <td>10018.0</td>\n",
       "    </tr>\n",
       "    <tr>\n",
       "      <th>18</th>\n",
       "      <td>5963.0</td>\n",
       "      <td>10019.0</td>\n",
       "    </tr>\n",
       "    <tr>\n",
       "      <th>19</th>\n",
       "      <td>90.0</td>\n",
       "      <td>10020.0</td>\n",
       "    </tr>\n",
       "    <tr>\n",
       "      <th>20</th>\n",
       "      <td>5145.0</td>\n",
       "      <td>10021.0</td>\n",
       "    </tr>\n",
       "    <tr>\n",
       "      <th>21</th>\n",
       "      <td>3777.0</td>\n",
       "      <td>10022.0</td>\n",
       "    </tr>\n",
       "    <tr>\n",
       "      <th>22</th>\n",
       "      <td>4780.0</td>\n",
       "      <td>10023.0</td>\n",
       "    </tr>\n",
       "    <tr>\n",
       "      <th>23</th>\n",
       "      <td>2487.0</td>\n",
       "      <td>10024.0</td>\n",
       "    </tr>\n",
       "    <tr>\n",
       "      <th>24</th>\n",
       "      <td>1633.0</td>\n",
       "      <td>10025.0</td>\n",
       "    </tr>\n",
       "    <tr>\n",
       "      <th>25</th>\n",
       "      <td>157.0</td>\n",
       "      <td>10026.0</td>\n",
       "    </tr>\n",
       "    <tr>\n",
       "      <th>26</th>\n",
       "      <td>129.0</td>\n",
       "      <td>10027.0</td>\n",
       "    </tr>\n",
       "    <tr>\n",
       "      <th>27</th>\n",
       "      <td>3129.0</td>\n",
       "      <td>10028.0</td>\n",
       "    </tr>\n",
       "    <tr>\n",
       "      <th>28</th>\n",
       "      <td>514.0</td>\n",
       "      <td>10029.0</td>\n",
       "    </tr>\n",
       "    <tr>\n",
       "      <th>29</th>\n",
       "      <td>9.0</td>\n",
       "      <td>10030.0</td>\n",
       "    </tr>\n",
       "    <tr>\n",
       "      <th>...</th>\n",
       "      <td>...</td>\n",
       "      <td>...</td>\n",
       "    </tr>\n",
       "    <tr>\n",
       "      <th>114</th>\n",
       "      <td>20.0</td>\n",
       "      <td>10025.0</td>\n",
       "    </tr>\n",
       "    <tr>\n",
       "      <th>115</th>\n",
       "      <td>3.0</td>\n",
       "      <td>10026.0</td>\n",
       "    </tr>\n",
       "    <tr>\n",
       "      <th>116</th>\n",
       "      <td>2.0</td>\n",
       "      <td>10027.0</td>\n",
       "    </tr>\n",
       "    <tr>\n",
       "      <th>117</th>\n",
       "      <td>48.0</td>\n",
       "      <td>10028.0</td>\n",
       "    </tr>\n",
       "    <tr>\n",
       "      <th>118</th>\n",
       "      <td>7.0</td>\n",
       "      <td>10029.0</td>\n",
       "    </tr>\n",
       "    <tr>\n",
       "      <th>119</th>\n",
       "      <td>1.0</td>\n",
       "      <td>10031.0</td>\n",
       "    </tr>\n",
       "    <tr>\n",
       "      <th>120</th>\n",
       "      <td>3.0</td>\n",
       "      <td>10035.0</td>\n",
       "    </tr>\n",
       "    <tr>\n",
       "      <th>121</th>\n",
       "      <td>81.0</td>\n",
       "      <td>10036.0</td>\n",
       "    </tr>\n",
       "    <tr>\n",
       "      <th>122</th>\n",
       "      <td>6.0</td>\n",
       "      <td>10038.0</td>\n",
       "    </tr>\n",
       "    <tr>\n",
       "      <th>123</th>\n",
       "      <td>65.0</td>\n",
       "      <td>10065.0</td>\n",
       "    </tr>\n",
       "    <tr>\n",
       "      <th>124</th>\n",
       "      <td>1.0</td>\n",
       "      <td>10069.0</td>\n",
       "    </tr>\n",
       "    <tr>\n",
       "      <th>125</th>\n",
       "      <td>24.0</td>\n",
       "      <td>10075.0</td>\n",
       "    </tr>\n",
       "    <tr>\n",
       "      <th>126</th>\n",
       "      <td>42.0</td>\n",
       "      <td>10128.0</td>\n",
       "    </tr>\n",
       "    <tr>\n",
       "      <th>127</th>\n",
       "      <td>9.0</td>\n",
       "      <td>10280.0</td>\n",
       "    </tr>\n",
       "    <tr>\n",
       "      <th>128</th>\n",
       "      <td>3.0</td>\n",
       "      <td>11101.0</td>\n",
       "    </tr>\n",
       "    <tr>\n",
       "      <th>129</th>\n",
       "      <td>3.0</td>\n",
       "      <td>11102.0</td>\n",
       "    </tr>\n",
       "    <tr>\n",
       "      <th>130</th>\n",
       "      <td>1.0</td>\n",
       "      <td>11103.0</td>\n",
       "    </tr>\n",
       "    <tr>\n",
       "      <th>131</th>\n",
       "      <td>2.0</td>\n",
       "      <td>11104.0</td>\n",
       "    </tr>\n",
       "    <tr>\n",
       "      <th>132</th>\n",
       "      <td>1.0</td>\n",
       "      <td>11106.0</td>\n",
       "    </tr>\n",
       "    <tr>\n",
       "      <th>133</th>\n",
       "      <td>11.0</td>\n",
       "      <td>11201.0</td>\n",
       "    </tr>\n",
       "    <tr>\n",
       "      <th>134</th>\n",
       "      <td>1.0</td>\n",
       "      <td>11205.0</td>\n",
       "    </tr>\n",
       "    <tr>\n",
       "      <th>135</th>\n",
       "      <td>1.0</td>\n",
       "      <td>11211.0</td>\n",
       "    </tr>\n",
       "    <tr>\n",
       "      <th>136</th>\n",
       "      <td>1.0</td>\n",
       "      <td>11215.0</td>\n",
       "    </tr>\n",
       "    <tr>\n",
       "      <th>137</th>\n",
       "      <td>3.0</td>\n",
       "      <td>11217.0</td>\n",
       "    </tr>\n",
       "    <tr>\n",
       "      <th>138</th>\n",
       "      <td>3.0</td>\n",
       "      <td>11231.0</td>\n",
       "    </tr>\n",
       "    <tr>\n",
       "      <th>139</th>\n",
       "      <td>1.0</td>\n",
       "      <td>11369.0</td>\n",
       "    </tr>\n",
       "    <tr>\n",
       "      <th>140</th>\n",
       "      <td>16.0</td>\n",
       "      <td>11371.0</td>\n",
       "    </tr>\n",
       "    <tr>\n",
       "      <th>141</th>\n",
       "      <td>1.0</td>\n",
       "      <td>11377.0</td>\n",
       "    </tr>\n",
       "    <tr>\n",
       "      <th>142</th>\n",
       "      <td>7.0</td>\n",
       "      <td>11430.0</td>\n",
       "    </tr>\n",
       "    <tr>\n",
       "      <th>143</th>\n",
       "      <td>1.0</td>\n",
       "      <td>11436.0</td>\n",
       "    </tr>\n",
       "  </tbody>\n",
       "</table>\n",
       "<p>144 rows × 2 columns</p>\n",
       "</div>"
      ],
      "text/plain": [
       "      count  zip_code\n",
       "0       1.0      83.0\n",
       "1       2.0    7310.0\n",
       "2    6639.0   10001.0\n",
       "3     456.0   10002.0\n",
       "4    3556.0   10003.0\n",
       "5     488.0   10004.0\n",
       "6     598.0   10005.0\n",
       "7     135.0   10006.0\n",
       "8     561.0   10007.0\n",
       "9     875.0   10009.0\n",
       "10   3057.0   10010.0\n",
       "11   3892.0   10011.0\n",
       "12   1244.0   10012.0\n",
       "13   2528.0   10013.0\n",
       "14   3066.0   10014.0\n",
       "15   7096.0   10016.0\n",
       "16   5484.0   10017.0\n",
       "17   4380.0   10018.0\n",
       "18   5963.0   10019.0\n",
       "19     90.0   10020.0\n",
       "20   5145.0   10021.0\n",
       "21   3777.0   10022.0\n",
       "22   4780.0   10023.0\n",
       "23   2487.0   10024.0\n",
       "24   1633.0   10025.0\n",
       "25    157.0   10026.0\n",
       "26    129.0   10027.0\n",
       "27   3129.0   10028.0\n",
       "28    514.0   10029.0\n",
       "29      9.0   10030.0\n",
       "..      ...       ...\n",
       "114    20.0   10025.0\n",
       "115     3.0   10026.0\n",
       "116     2.0   10027.0\n",
       "117    48.0   10028.0\n",
       "118     7.0   10029.0\n",
       "119     1.0   10031.0\n",
       "120     3.0   10035.0\n",
       "121    81.0   10036.0\n",
       "122     6.0   10038.0\n",
       "123    65.0   10065.0\n",
       "124     1.0   10069.0\n",
       "125    24.0   10075.0\n",
       "126    42.0   10128.0\n",
       "127     9.0   10280.0\n",
       "128     3.0   11101.0\n",
       "129     3.0   11102.0\n",
       "130     1.0   11103.0\n",
       "131     2.0   11104.0\n",
       "132     1.0   11106.0\n",
       "133    11.0   11201.0\n",
       "134     1.0   11205.0\n",
       "135     1.0   11211.0\n",
       "136     1.0   11215.0\n",
       "137     3.0   11217.0\n",
       "138     3.0   11231.0\n",
       "139     1.0   11369.0\n",
       "140    16.0   11371.0\n",
       "141     1.0   11377.0\n",
       "142     7.0   11430.0\n",
       "143     1.0   11436.0\n",
       "\n",
       "[144 rows x 2 columns]"
      ]
     },
     "execution_count": 3,
     "metadata": {},
     "output_type": "execute_result"
    }
   ],
   "source": [
    "bank"
   ]
  },
  {
   "cell_type": "code",
   "execution_count": null,
   "metadata": {
    "collapsed": true
   },
   "outputs": [],
   "source": [
    "t = pd.read_csv(\"taxi_data/yellow_02.csv\")"
   ]
  },
  {
   "cell_type": "code",
   "execution_count": 10,
   "metadata": {
    "collapsed": false
   },
   "outputs": [
    {
     "data": {
      "text/html": [
       "<div>\n",
       "<table border=\"1\" class=\"dataframe\">\n",
       "  <thead>\n",
       "    <tr style=\"text-align: right;\">\n",
       "      <th></th>\n",
       "      <th>pickup_datetime</th>\n",
       "      <th>dropoff_datetime</th>\n",
       "      <th>trip_distance</th>\n",
       "      <th>pickup_long</th>\n",
       "      <th>pickup_lat</th>\n",
       "      <th>dropoff_long</th>\n",
       "      <th>dropoff_lat</th>\n",
       "      <th>payment_type</th>\n",
       "      <th>fare_amount</th>\n",
       "      <th>tip_amount</th>\n",
       "      <th>...</th>\n",
       "      <th>Pickup_Zip_code</th>\n",
       "      <th>Dropoff_Borough</th>\n",
       "      <th>Dropoff_Neighbourhood</th>\n",
       "      <th>Dropoff_Zip_code</th>\n",
       "      <th>pickup_month</th>\n",
       "      <th>pickup_day</th>\n",
       "      <th>duration</th>\n",
       "      <th>time_category_pick</th>\n",
       "      <th>dropoff_day</th>\n",
       "      <th>time_category_drop</th>\n",
       "    </tr>\n",
       "  </thead>\n",
       "  <tbody>\n",
       "  </tbody>\n",
       "</table>\n",
       "<p>0 rows × 23 columns</p>\n",
       "</div>"
      ],
      "text/plain": [
       "Empty DataFrame\n",
       "Columns: [pickup_datetime, dropoff_datetime, trip_distance, pickup_long, pickup_lat, dropoff_long, dropoff_lat, payment_type, fare_amount, tip_amount, total_amount, Pickup_Borough, Pickup_Neighbourhood, Pickup_Zip_code, Dropoff_Borough, Dropoff_Neighbourhood, Dropoff_Zip_code, pickup_month, pickup_day, duration, time_category_pick, dropoff_day, time_category_drop]\n",
       "Index: []\n",
       "\n",
       "[0 rows x 23 columns]"
      ]
     },
     "execution_count": 10,
     "metadata": {},
     "output_type": "execute_result"
    }
   ],
   "source": [
    "t.head()"
   ]
  },
  {
   "cell_type": "markdown",
   "metadata": {
    "collapsed": true
   },
   "source": [
    "# Where the Party Goers Came From"
   ]
  },
  {
   "cell_type": "code",
   "execution_count": 2,
   "metadata": {
    "collapsed": false
   },
   "outputs": [],
   "source": [
    "import os"
   ]
  },
  {
   "cell_type": "code",
   "execution_count": 62,
   "metadata": {
    "collapsed": true
   },
   "outputs": [],
   "source": [
    "night = pd.read_csv(\"Clubs.csv\")\n",
    "night.loc[:,\"grid\"]=night[[\"Lat\",\"Long\"]].apply(lambda x : get_index(*x,latAr= latAr,lngAr = lngAr), axis = 1)\n",
    "night_grid = night[\"grid\"].unique()\n",
    "burs = map(lambda x: get_burough(x,ny_records), night[[\"Lat\",\"Long\"]].values)\n",
    "night.loc[:,\"burs\"] = burs"
   ]
  },
  {
   "cell_type": "code",
   "execution_count": 63,
   "metadata": {
    "collapsed": false
   },
   "outputs": [
    {
     "data": {
      "text/html": [
       "<div>\n",
       "<table border=\"1\" class=\"dataframe\">\n",
       "  <thead>\n",
       "    <tr style=\"text-align: right;\">\n",
       "      <th></th>\n",
       "      <th>Name</th>\n",
       "      <th>Lat</th>\n",
       "      <th>Long</th>\n",
       "      <th>grid</th>\n",
       "      <th>burs</th>\n",
       "    </tr>\n",
       "  </thead>\n",
       "  <tbody>\n",
       "    <tr>\n",
       "      <th>0</th>\n",
       "      <td>howl at the moon</td>\n",
       "      <td>40.762905</td>\n",
       "      <td>-73.984268</td>\n",
       "      <td>(219, 227)</td>\n",
       "      <td>Manhattan</td>\n",
       "    </tr>\n",
       "    <tr>\n",
       "      <th>1</th>\n",
       "      <td>pocket bar nyc</td>\n",
       "      <td>40.763365</td>\n",
       "      <td>-73.992299</td>\n",
       "      <td>(212, 228)</td>\n",
       "      <td>Manhattan</td>\n",
       "    </tr>\n",
       "    <tr>\n",
       "      <th>2</th>\n",
       "      <td>the village underground</td>\n",
       "      <td>40.730694</td>\n",
       "      <td>-74.000923</td>\n",
       "      <td>(206, 201)</td>\n",
       "      <td>Manhattan</td>\n",
       "    </tr>\n",
       "    <tr>\n",
       "      <th>3</th>\n",
       "      <td>birthday bottle service</td>\n",
       "      <td>40.747270</td>\n",
       "      <td>-73.980064</td>\n",
       "      <td>(222, 215)</td>\n",
       "      <td>Manhattan</td>\n",
       "    </tr>\n",
       "    <tr>\n",
       "      <th>4</th>\n",
       "      <td>iron horse nyc</td>\n",
       "      <td>40.708137</td>\n",
       "      <td>-74.004943</td>\n",
       "      <td>(202, 183)</td>\n",
       "      <td>Manhattan</td>\n",
       "    </tr>\n",
       "  </tbody>\n",
       "</table>\n",
       "</div>"
      ],
      "text/plain": [
       "                      Name        Lat       Long        grid       burs\n",
       "0         howl at the moon  40.762905 -73.984268  (219, 227)  Manhattan\n",
       "1           pocket bar nyc  40.763365 -73.992299  (212, 228)  Manhattan\n",
       "2  the village underground  40.730694 -74.000923  (206, 201)  Manhattan\n",
       "3  birthday bottle service  40.747270 -73.980064  (222, 215)  Manhattan\n",
       "4           iron horse nyc  40.708137 -74.004943  (202, 183)  Manhattan"
      ]
     },
     "execution_count": 63,
     "metadata": {},
     "output_type": "execute_result"
    }
   ],
   "source": [
    "night.head()"
   ]
  },
  {
   "cell_type": "code",
   "execution_count": 23,
   "metadata": {
    "collapsed": true
   },
   "outputs": [],
   "source": [
    "import dill"
   ]
  },
  {
   "cell_type": "code",
   "execution_count": 187,
   "metadata": {
    "collapsed": false
   },
   "outputs": [],
   "source": [
    "info = []\n",
    "for f in os.listdir(os.getcwd()):\n",
    "    if \"club_info\" in f:\n",
    "        name = f[10:12]\n",
    "        info.append((name, dill.load(open(f))))\n",
    "#         info.append(pd.read_csv(f))"
   ]
  },
  {
   "cell_type": "code",
   "execution_count": 32,
   "metadata": {
    "collapsed": true
   },
   "outputs": [],
   "source": [
    "from collections import Counter, defaultdict"
   ]
  },
  {
   "cell_type": "code",
   "execution_count": 70,
   "metadata": {
    "collapsed": false
   },
   "outputs": [],
   "source": [
    "testing = [val[1] for val in info]"
   ]
  },
  {
   "cell_type": "code",
   "execution_count": 30,
   "metadata": {
    "collapsed": false
   },
   "outputs": [],
   "source": []
  },
  {
   "cell_type": "code",
   "execution_count": 72,
   "metadata": {
    "collapsed": false
   },
   "outputs": [],
   "source": []
  },
  {
   "cell_type": "code",
   "execution_count": 89,
   "metadata": {
    "collapsed": false
   },
   "outputs": [
    {
     "data": {
      "text/plain": [
       "array([(240, 195)], dtype=object)"
      ]
     },
     "execution_count": 89,
     "metadata": {},
     "output_type": "execute_result"
    }
   ],
   "source": [
    "night[night[\"Name\"]==\"output night club\"][\"grid\"].values"
   ]
  },
  {
   "cell_type": "code",
   "execution_count": 92,
   "metadata": {
    "collapsed": false
   },
   "outputs": [],
   "source": [
    "tt = [collect[val] for val in night[night[\"Name\"]==\"output night club\"][\"grid\"].values]"
   ]
  },
  {
   "cell_type": "code",
   "execution_count": 99,
   "metadata": {
    "collapsed": false
   },
   "outputs": [
    {
     "data": {
      "text/plain": [
       "0    11211.0\n",
       "dtype: float64"
      ]
     },
     "execution_count": 99,
     "metadata": {},
     "output_type": "execute_result"
    }
   ],
   "source": [
    "pd.DataFrame([tt[0]]).T.idxmax(axis = 0)"
   ]
  },
  {
   "cell_type": "code",
   "execution_count": 68,
   "metadata": {
    "collapsed": false
   },
   "outputs": [
    {
     "ename": "ValueError",
     "evalue": "arrays must all be same length",
     "output_type": "error",
     "traceback": [
      "\u001b[0;31m---------------------------------------------------------------------------\u001b[0m",
      "\u001b[0;31mValueError\u001b[0m                                Traceback (most recent call last)",
      "\u001b[0;32m<ipython-input-68-d544ed41d0de>\u001b[0m in \u001b[0;36m<module>\u001b[0;34m()\u001b[0m\n\u001b[0;32m----> 1\u001b[0;31m \u001b[0mpd\u001b[0m\u001b[0;34m.\u001b[0m\u001b[0mDataFrame\u001b[0m\u001b[0;34m(\u001b[0m\u001b[0mcollect\u001b[0m\u001b[0;34m)\u001b[0m\u001b[0;34m\u001b[0m\u001b[0m\n\u001b[0m",
      "\u001b[0;32m/Users/tjrempel/anaconda/lib/python2.7/site-packages/pandas/core/frame.pyc\u001b[0m in \u001b[0;36m__init__\u001b[0;34m(self, data, index, columns, dtype, copy)\u001b[0m\n\u001b[1;32m    222\u001b[0m                                  dtype=dtype, copy=copy)\n\u001b[1;32m    223\u001b[0m         \u001b[0;32melif\u001b[0m \u001b[0misinstance\u001b[0m\u001b[0;34m(\u001b[0m\u001b[0mdata\u001b[0m\u001b[0;34m,\u001b[0m \u001b[0mdict\u001b[0m\u001b[0;34m)\u001b[0m\u001b[0;34m:\u001b[0m\u001b[0;34m\u001b[0m\u001b[0m\n\u001b[0;32m--> 224\u001b[0;31m             \u001b[0mmgr\u001b[0m \u001b[0;34m=\u001b[0m \u001b[0mself\u001b[0m\u001b[0;34m.\u001b[0m\u001b[0m_init_dict\u001b[0m\u001b[0;34m(\u001b[0m\u001b[0mdata\u001b[0m\u001b[0;34m,\u001b[0m \u001b[0mindex\u001b[0m\u001b[0;34m,\u001b[0m \u001b[0mcolumns\u001b[0m\u001b[0;34m,\u001b[0m \u001b[0mdtype\u001b[0m\u001b[0;34m=\u001b[0m\u001b[0mdtype\u001b[0m\u001b[0;34m)\u001b[0m\u001b[0;34m\u001b[0m\u001b[0m\n\u001b[0m\u001b[1;32m    225\u001b[0m         \u001b[0;32melif\u001b[0m \u001b[0misinstance\u001b[0m\u001b[0;34m(\u001b[0m\u001b[0mdata\u001b[0m\u001b[0;34m,\u001b[0m \u001b[0mma\u001b[0m\u001b[0;34m.\u001b[0m\u001b[0mMaskedArray\u001b[0m\u001b[0;34m)\u001b[0m\u001b[0;34m:\u001b[0m\u001b[0;34m\u001b[0m\u001b[0m\n\u001b[1;32m    226\u001b[0m             \u001b[0;32mimport\u001b[0m \u001b[0mnumpy\u001b[0m\u001b[0;34m.\u001b[0m\u001b[0mma\u001b[0m\u001b[0;34m.\u001b[0m\u001b[0mmrecords\u001b[0m \u001b[0;32mas\u001b[0m \u001b[0mmrecords\u001b[0m\u001b[0;34m\u001b[0m\u001b[0m\n",
      "\u001b[0;32m/Users/tjrempel/anaconda/lib/python2.7/site-packages/pandas/core/frame.pyc\u001b[0m in \u001b[0;36m_init_dict\u001b[0;34m(self, data, index, columns, dtype)\u001b[0m\n\u001b[1;32m    358\u001b[0m             \u001b[0marrays\u001b[0m \u001b[0;34m=\u001b[0m \u001b[0;34m[\u001b[0m\u001b[0mdata\u001b[0m\u001b[0;34m[\u001b[0m\u001b[0mk\u001b[0m\u001b[0;34m]\u001b[0m \u001b[0;32mfor\u001b[0m \u001b[0mk\u001b[0m \u001b[0;32min\u001b[0m \u001b[0mkeys\u001b[0m\u001b[0;34m]\u001b[0m\u001b[0;34m\u001b[0m\u001b[0m\n\u001b[1;32m    359\u001b[0m \u001b[0;34m\u001b[0m\u001b[0m\n\u001b[0;32m--> 360\u001b[0;31m         \u001b[0;32mreturn\u001b[0m \u001b[0m_arrays_to_mgr\u001b[0m\u001b[0;34m(\u001b[0m\u001b[0marrays\u001b[0m\u001b[0;34m,\u001b[0m \u001b[0mdata_names\u001b[0m\u001b[0;34m,\u001b[0m \u001b[0mindex\u001b[0m\u001b[0;34m,\u001b[0m \u001b[0mcolumns\u001b[0m\u001b[0;34m,\u001b[0m \u001b[0mdtype\u001b[0m\u001b[0;34m=\u001b[0m\u001b[0mdtype\u001b[0m\u001b[0;34m)\u001b[0m\u001b[0;34m\u001b[0m\u001b[0m\n\u001b[0m\u001b[1;32m    361\u001b[0m \u001b[0;34m\u001b[0m\u001b[0m\n\u001b[1;32m    362\u001b[0m     \u001b[0;32mdef\u001b[0m \u001b[0m_init_ndarray\u001b[0m\u001b[0;34m(\u001b[0m\u001b[0mself\u001b[0m\u001b[0;34m,\u001b[0m \u001b[0mvalues\u001b[0m\u001b[0;34m,\u001b[0m \u001b[0mindex\u001b[0m\u001b[0;34m,\u001b[0m \u001b[0mcolumns\u001b[0m\u001b[0;34m,\u001b[0m \u001b[0mdtype\u001b[0m\u001b[0;34m=\u001b[0m\u001b[0mNone\u001b[0m\u001b[0;34m,\u001b[0m \u001b[0mcopy\u001b[0m\u001b[0;34m=\u001b[0m\u001b[0mFalse\u001b[0m\u001b[0;34m)\u001b[0m\u001b[0;34m:\u001b[0m\u001b[0;34m\u001b[0m\u001b[0m\n",
      "\u001b[0;32m/Users/tjrempel/anaconda/lib/python2.7/site-packages/pandas/core/frame.pyc\u001b[0m in \u001b[0;36m_arrays_to_mgr\u001b[0;34m(arrays, arr_names, index, columns, dtype)\u001b[0m\n\u001b[1;32m   5229\u001b[0m     \u001b[0;31m# figure out the index, if necessary\u001b[0m\u001b[0;34m\u001b[0m\u001b[0;34m\u001b[0m\u001b[0m\n\u001b[1;32m   5230\u001b[0m     \u001b[0;32mif\u001b[0m \u001b[0mindex\u001b[0m \u001b[0;32mis\u001b[0m \u001b[0mNone\u001b[0m\u001b[0;34m:\u001b[0m\u001b[0;34m\u001b[0m\u001b[0m\n\u001b[0;32m-> 5231\u001b[0;31m         \u001b[0mindex\u001b[0m \u001b[0;34m=\u001b[0m \u001b[0mextract_index\u001b[0m\u001b[0;34m(\u001b[0m\u001b[0marrays\u001b[0m\u001b[0;34m)\u001b[0m\u001b[0;34m\u001b[0m\u001b[0m\n\u001b[0m\u001b[1;32m   5232\u001b[0m     \u001b[0;32melse\u001b[0m\u001b[0;34m:\u001b[0m\u001b[0;34m\u001b[0m\u001b[0m\n\u001b[1;32m   5233\u001b[0m         \u001b[0mindex\u001b[0m \u001b[0;34m=\u001b[0m \u001b[0m_ensure_index\u001b[0m\u001b[0;34m(\u001b[0m\u001b[0mindex\u001b[0m\u001b[0;34m)\u001b[0m\u001b[0;34m\u001b[0m\u001b[0m\n",
      "\u001b[0;32m/Users/tjrempel/anaconda/lib/python2.7/site-packages/pandas/core/frame.pyc\u001b[0m in \u001b[0;36mextract_index\u001b[0;34m(data)\u001b[0m\n\u001b[1;32m   5277\u001b[0m             \u001b[0mlengths\u001b[0m \u001b[0;34m=\u001b[0m \u001b[0mlist\u001b[0m\u001b[0;34m(\u001b[0m\u001b[0mset\u001b[0m\u001b[0;34m(\u001b[0m\u001b[0mraw_lengths\u001b[0m\u001b[0;34m)\u001b[0m\u001b[0;34m)\u001b[0m\u001b[0;34m\u001b[0m\u001b[0m\n\u001b[1;32m   5278\u001b[0m             \u001b[0;32mif\u001b[0m \u001b[0mlen\u001b[0m\u001b[0;34m(\u001b[0m\u001b[0mlengths\u001b[0m\u001b[0;34m)\u001b[0m \u001b[0;34m>\u001b[0m \u001b[0;36m1\u001b[0m\u001b[0;34m:\u001b[0m\u001b[0;34m\u001b[0m\u001b[0m\n\u001b[0;32m-> 5279\u001b[0;31m                 \u001b[0;32mraise\u001b[0m \u001b[0mValueError\u001b[0m\u001b[0;34m(\u001b[0m\u001b[0;34m'arrays must all be same length'\u001b[0m\u001b[0;34m)\u001b[0m\u001b[0;34m\u001b[0m\u001b[0m\n\u001b[0m\u001b[1;32m   5280\u001b[0m \u001b[0;34m\u001b[0m\u001b[0m\n\u001b[1;32m   5281\u001b[0m             \u001b[0;32mif\u001b[0m \u001b[0mhave_dicts\u001b[0m\u001b[0;34m:\u001b[0m\u001b[0;34m\u001b[0m\u001b[0m\n",
      "\u001b[0;31mValueError\u001b[0m: arrays must all be same length"
     ]
    }
   ],
   "source": [
    "pd.DataFrame(collect)"
   ]
  },
  {
   "cell_type": "code",
   "execution_count": 61,
   "metadata": {
    "collapsed": false
   },
   "outputs": [
    {
     "ename": "ValueError",
     "evalue": "Length of values does not match length of index",
     "output_type": "error",
     "traceback": [
      "\u001b[0;31m---------------------------------------------------------------------------\u001b[0m",
      "\u001b[0;31mValueError\u001b[0m                                Traceback (most recent call last)",
      "\u001b[0;32m<ipython-input-61-924d8a238377>\u001b[0m in \u001b[0;36m<module>\u001b[0;34m()\u001b[0m\n\u001b[0;32m----> 1\u001b[0;31m \u001b[0mnight\u001b[0m\u001b[0;34m[\u001b[0m\u001b[0mnight\u001b[0m\u001b[0;34m[\u001b[0m\u001b[0;34m\"Name\"\u001b[0m\u001b[0;34m]\u001b[0m\u001b[0;34m==\u001b[0m\u001b[0;34m\"the grain\"\u001b[0m\u001b[0;34m]\u001b[0m\u001b[0;34m[\u001b[0m\u001b[0;34m\"zips\"\u001b[0m\u001b[0;34m]\u001b[0m \u001b[0;34m=\u001b[0m \u001b[0;34m[\u001b[0m\u001b[0;36m1\u001b[0m\u001b[0;34m,\u001b[0m\u001b[0;36m2\u001b[0m\u001b[0;34m,\u001b[0m\u001b[0;36m3\u001b[0m\u001b[0;34m]\u001b[0m\u001b[0;34m\u001b[0m\u001b[0m\n\u001b[0m",
      "\u001b[0;32m/Users/tjrempel/anaconda/lib/python2.7/site-packages/pandas/core/frame.pyc\u001b[0m in \u001b[0;36m__setitem__\u001b[0;34m(self, key, value)\u001b[0m\n\u001b[1;32m   2355\u001b[0m         \u001b[0;32melse\u001b[0m\u001b[0;34m:\u001b[0m\u001b[0;34m\u001b[0m\u001b[0m\n\u001b[1;32m   2356\u001b[0m             \u001b[0;31m# set column\u001b[0m\u001b[0;34m\u001b[0m\u001b[0;34m\u001b[0m\u001b[0m\n\u001b[0;32m-> 2357\u001b[0;31m             \u001b[0mself\u001b[0m\u001b[0;34m.\u001b[0m\u001b[0m_set_item\u001b[0m\u001b[0;34m(\u001b[0m\u001b[0mkey\u001b[0m\u001b[0;34m,\u001b[0m \u001b[0mvalue\u001b[0m\u001b[0;34m)\u001b[0m\u001b[0;34m\u001b[0m\u001b[0m\n\u001b[0m\u001b[1;32m   2358\u001b[0m \u001b[0;34m\u001b[0m\u001b[0m\n\u001b[1;32m   2359\u001b[0m     \u001b[0;32mdef\u001b[0m \u001b[0m_setitem_slice\u001b[0m\u001b[0;34m(\u001b[0m\u001b[0mself\u001b[0m\u001b[0;34m,\u001b[0m \u001b[0mkey\u001b[0m\u001b[0;34m,\u001b[0m \u001b[0mvalue\u001b[0m\u001b[0;34m)\u001b[0m\u001b[0;34m:\u001b[0m\u001b[0;34m\u001b[0m\u001b[0m\n",
      "\u001b[0;32m/Users/tjrempel/anaconda/lib/python2.7/site-packages/pandas/core/frame.pyc\u001b[0m in \u001b[0;36m_set_item\u001b[0;34m(self, key, value)\u001b[0m\n\u001b[1;32m   2421\u001b[0m \u001b[0;34m\u001b[0m\u001b[0m\n\u001b[1;32m   2422\u001b[0m         \u001b[0mself\u001b[0m\u001b[0;34m.\u001b[0m\u001b[0m_ensure_valid_index\u001b[0m\u001b[0;34m(\u001b[0m\u001b[0mvalue\u001b[0m\u001b[0;34m)\u001b[0m\u001b[0;34m\u001b[0m\u001b[0m\n\u001b[0;32m-> 2423\u001b[0;31m         \u001b[0mvalue\u001b[0m \u001b[0;34m=\u001b[0m \u001b[0mself\u001b[0m\u001b[0;34m.\u001b[0m\u001b[0m_sanitize_column\u001b[0m\u001b[0;34m(\u001b[0m\u001b[0mkey\u001b[0m\u001b[0;34m,\u001b[0m \u001b[0mvalue\u001b[0m\u001b[0;34m)\u001b[0m\u001b[0;34m\u001b[0m\u001b[0m\n\u001b[0m\u001b[1;32m   2424\u001b[0m         \u001b[0mNDFrame\u001b[0m\u001b[0;34m.\u001b[0m\u001b[0m_set_item\u001b[0m\u001b[0;34m(\u001b[0m\u001b[0mself\u001b[0m\u001b[0;34m,\u001b[0m \u001b[0mkey\u001b[0m\u001b[0;34m,\u001b[0m \u001b[0mvalue\u001b[0m\u001b[0;34m)\u001b[0m\u001b[0;34m\u001b[0m\u001b[0m\n\u001b[1;32m   2425\u001b[0m \u001b[0;34m\u001b[0m\u001b[0m\n",
      "\u001b[0;32m/Users/tjrempel/anaconda/lib/python2.7/site-packages/pandas/core/frame.pyc\u001b[0m in \u001b[0;36m_sanitize_column\u001b[0;34m(self, key, value)\u001b[0m\n\u001b[1;32m   2576\u001b[0m \u001b[0;34m\u001b[0m\u001b[0m\n\u001b[1;32m   2577\u001b[0m             \u001b[0;31m# turn me into an ndarray\u001b[0m\u001b[0;34m\u001b[0m\u001b[0;34m\u001b[0m\u001b[0m\n\u001b[0;32m-> 2578\u001b[0;31m             \u001b[0mvalue\u001b[0m \u001b[0;34m=\u001b[0m \u001b[0m_sanitize_index\u001b[0m\u001b[0;34m(\u001b[0m\u001b[0mvalue\u001b[0m\u001b[0;34m,\u001b[0m \u001b[0mself\u001b[0m\u001b[0;34m.\u001b[0m\u001b[0mindex\u001b[0m\u001b[0;34m,\u001b[0m \u001b[0mcopy\u001b[0m\u001b[0;34m=\u001b[0m\u001b[0mFalse\u001b[0m\u001b[0;34m)\u001b[0m\u001b[0;34m\u001b[0m\u001b[0m\n\u001b[0m\u001b[1;32m   2579\u001b[0m             \u001b[0;32mif\u001b[0m \u001b[0;32mnot\u001b[0m \u001b[0misinstance\u001b[0m\u001b[0;34m(\u001b[0m\u001b[0mvalue\u001b[0m\u001b[0;34m,\u001b[0m \u001b[0;34m(\u001b[0m\u001b[0mnp\u001b[0m\u001b[0;34m.\u001b[0m\u001b[0mndarray\u001b[0m\u001b[0;34m,\u001b[0m \u001b[0mIndex\u001b[0m\u001b[0;34m)\u001b[0m\u001b[0;34m)\u001b[0m\u001b[0;34m:\u001b[0m\u001b[0;34m\u001b[0m\u001b[0m\n\u001b[1;32m   2580\u001b[0m                 \u001b[0;32mif\u001b[0m \u001b[0misinstance\u001b[0m\u001b[0;34m(\u001b[0m\u001b[0mvalue\u001b[0m\u001b[0;34m,\u001b[0m \u001b[0mlist\u001b[0m\u001b[0;34m)\u001b[0m \u001b[0;32mand\u001b[0m \u001b[0mlen\u001b[0m\u001b[0;34m(\u001b[0m\u001b[0mvalue\u001b[0m\u001b[0;34m)\u001b[0m \u001b[0;34m>\u001b[0m \u001b[0;36m0\u001b[0m\u001b[0;34m:\u001b[0m\u001b[0;34m\u001b[0m\u001b[0m\n",
      "\u001b[0;32m/Users/tjrempel/anaconda/lib/python2.7/site-packages/pandas/core/series.pyc\u001b[0m in \u001b[0;36m_sanitize_index\u001b[0;34m(data, index, copy)\u001b[0m\n\u001b[1;32m   2768\u001b[0m \u001b[0;34m\u001b[0m\u001b[0m\n\u001b[1;32m   2769\u001b[0m     \u001b[0;32mif\u001b[0m \u001b[0mlen\u001b[0m\u001b[0;34m(\u001b[0m\u001b[0mdata\u001b[0m\u001b[0;34m)\u001b[0m \u001b[0;34m!=\u001b[0m \u001b[0mlen\u001b[0m\u001b[0;34m(\u001b[0m\u001b[0mindex\u001b[0m\u001b[0;34m)\u001b[0m\u001b[0;34m:\u001b[0m\u001b[0;34m\u001b[0m\u001b[0m\n\u001b[0;32m-> 2770\u001b[0;31m         \u001b[0;32mraise\u001b[0m \u001b[0mValueError\u001b[0m\u001b[0;34m(\u001b[0m\u001b[0;34m'Length of values does not match length of '\u001b[0m \u001b[0;34m'index'\u001b[0m\u001b[0;34m)\u001b[0m\u001b[0;34m\u001b[0m\u001b[0m\n\u001b[0m\u001b[1;32m   2771\u001b[0m \u001b[0;34m\u001b[0m\u001b[0m\n\u001b[1;32m   2772\u001b[0m     \u001b[0;32mif\u001b[0m \u001b[0misinstance\u001b[0m\u001b[0;34m(\u001b[0m\u001b[0mdata\u001b[0m\u001b[0;34m,\u001b[0m \u001b[0mPeriodIndex\u001b[0m\u001b[0;34m)\u001b[0m\u001b[0;34m:\u001b[0m\u001b[0;34m\u001b[0m\u001b[0m\n",
      "\u001b[0;31mValueError\u001b[0m: Length of values does not match length of index"
     ]
    }
   ],
   "source": [
    "night[night[\"Name\"]==\"the grain\"][\"zips\"] = [1,2,3]"
   ]
  },
  {
   "cell_type": "code",
   "execution_count": 55,
   "metadata": {
    "collapsed": false
   },
   "outputs": [
    {
     "ename": "ValueError",
     "evalue": "Length of values does not match length of index",
     "output_type": "error",
     "traceback": [
      "\u001b[0;31m---------------------------------------------------------------------------\u001b[0m",
      "\u001b[0;31mValueError\u001b[0m                                Traceback (most recent call last)",
      "\u001b[0;32m<ipython-input-55-334525f8d444>\u001b[0m in \u001b[0;36m<module>\u001b[0;34m()\u001b[0m\n\u001b[1;32m      1\u001b[0m \u001b[0;32mfor\u001b[0m \u001b[0mitem\u001b[0m \u001b[0;32min\u001b[0m \u001b[0mcollect\u001b[0m\u001b[0;34m:\u001b[0m\u001b[0;34m\u001b[0m\u001b[0m\n\u001b[0;32m----> 2\u001b[0;31m     \u001b[0mnight\u001b[0m\u001b[0;34m[\u001b[0m\u001b[0mnight\u001b[0m\u001b[0;34m[\u001b[0m\u001b[0;34m\"grid\"\u001b[0m\u001b[0;34m]\u001b[0m\u001b[0;34m==\u001b[0m\u001b[0mitem\u001b[0m\u001b[0;34m]\u001b[0m\u001b[0;34m[\u001b[0m\u001b[0;34m\"zips\"\u001b[0m\u001b[0;34m]\u001b[0m \u001b[0;34m=\u001b[0m \u001b[0mcollect\u001b[0m\u001b[0;34m[\u001b[0m\u001b[0mitem\u001b[0m\u001b[0;34m]\u001b[0m\u001b[0;34m\u001b[0m\u001b[0m\n\u001b[0m\u001b[1;32m      3\u001b[0m \u001b[0;34m\u001b[0m\u001b[0m\n",
      "\u001b[0;32m/Users/tjrempel/anaconda/lib/python2.7/site-packages/pandas/core/frame.pyc\u001b[0m in \u001b[0;36m__setitem__\u001b[0;34m(self, key, value)\u001b[0m\n\u001b[1;32m   2355\u001b[0m         \u001b[0;32melse\u001b[0m\u001b[0;34m:\u001b[0m\u001b[0;34m\u001b[0m\u001b[0m\n\u001b[1;32m   2356\u001b[0m             \u001b[0;31m# set column\u001b[0m\u001b[0;34m\u001b[0m\u001b[0;34m\u001b[0m\u001b[0m\n\u001b[0;32m-> 2357\u001b[0;31m             \u001b[0mself\u001b[0m\u001b[0;34m.\u001b[0m\u001b[0m_set_item\u001b[0m\u001b[0;34m(\u001b[0m\u001b[0mkey\u001b[0m\u001b[0;34m,\u001b[0m \u001b[0mvalue\u001b[0m\u001b[0;34m)\u001b[0m\u001b[0;34m\u001b[0m\u001b[0m\n\u001b[0m\u001b[1;32m   2358\u001b[0m \u001b[0;34m\u001b[0m\u001b[0m\n\u001b[1;32m   2359\u001b[0m     \u001b[0;32mdef\u001b[0m \u001b[0m_setitem_slice\u001b[0m\u001b[0;34m(\u001b[0m\u001b[0mself\u001b[0m\u001b[0;34m,\u001b[0m \u001b[0mkey\u001b[0m\u001b[0;34m,\u001b[0m \u001b[0mvalue\u001b[0m\u001b[0;34m)\u001b[0m\u001b[0;34m:\u001b[0m\u001b[0;34m\u001b[0m\u001b[0m\n",
      "\u001b[0;32m/Users/tjrempel/anaconda/lib/python2.7/site-packages/pandas/core/frame.pyc\u001b[0m in \u001b[0;36m_set_item\u001b[0;34m(self, key, value)\u001b[0m\n\u001b[1;32m   2421\u001b[0m \u001b[0;34m\u001b[0m\u001b[0m\n\u001b[1;32m   2422\u001b[0m         \u001b[0mself\u001b[0m\u001b[0;34m.\u001b[0m\u001b[0m_ensure_valid_index\u001b[0m\u001b[0;34m(\u001b[0m\u001b[0mvalue\u001b[0m\u001b[0;34m)\u001b[0m\u001b[0;34m\u001b[0m\u001b[0m\n\u001b[0;32m-> 2423\u001b[0;31m         \u001b[0mvalue\u001b[0m \u001b[0;34m=\u001b[0m \u001b[0mself\u001b[0m\u001b[0;34m.\u001b[0m\u001b[0m_sanitize_column\u001b[0m\u001b[0;34m(\u001b[0m\u001b[0mkey\u001b[0m\u001b[0;34m,\u001b[0m \u001b[0mvalue\u001b[0m\u001b[0;34m)\u001b[0m\u001b[0;34m\u001b[0m\u001b[0m\n\u001b[0m\u001b[1;32m   2424\u001b[0m         \u001b[0mNDFrame\u001b[0m\u001b[0;34m.\u001b[0m\u001b[0m_set_item\u001b[0m\u001b[0;34m(\u001b[0m\u001b[0mself\u001b[0m\u001b[0;34m,\u001b[0m \u001b[0mkey\u001b[0m\u001b[0;34m,\u001b[0m \u001b[0mvalue\u001b[0m\u001b[0;34m)\u001b[0m\u001b[0;34m\u001b[0m\u001b[0m\n\u001b[1;32m   2425\u001b[0m \u001b[0;34m\u001b[0m\u001b[0m\n",
      "\u001b[0;32m/Users/tjrempel/anaconda/lib/python2.7/site-packages/pandas/core/frame.pyc\u001b[0m in \u001b[0;36m_sanitize_column\u001b[0;34m(self, key, value)\u001b[0m\n\u001b[1;32m   2576\u001b[0m \u001b[0;34m\u001b[0m\u001b[0m\n\u001b[1;32m   2577\u001b[0m             \u001b[0;31m# turn me into an ndarray\u001b[0m\u001b[0;34m\u001b[0m\u001b[0;34m\u001b[0m\u001b[0m\n\u001b[0;32m-> 2578\u001b[0;31m             \u001b[0mvalue\u001b[0m \u001b[0;34m=\u001b[0m \u001b[0m_sanitize_index\u001b[0m\u001b[0;34m(\u001b[0m\u001b[0mvalue\u001b[0m\u001b[0;34m,\u001b[0m \u001b[0mself\u001b[0m\u001b[0;34m.\u001b[0m\u001b[0mindex\u001b[0m\u001b[0;34m,\u001b[0m \u001b[0mcopy\u001b[0m\u001b[0;34m=\u001b[0m\u001b[0mFalse\u001b[0m\u001b[0;34m)\u001b[0m\u001b[0;34m\u001b[0m\u001b[0m\n\u001b[0m\u001b[1;32m   2579\u001b[0m             \u001b[0;32mif\u001b[0m \u001b[0;32mnot\u001b[0m \u001b[0misinstance\u001b[0m\u001b[0;34m(\u001b[0m\u001b[0mvalue\u001b[0m\u001b[0;34m,\u001b[0m \u001b[0;34m(\u001b[0m\u001b[0mnp\u001b[0m\u001b[0;34m.\u001b[0m\u001b[0mndarray\u001b[0m\u001b[0;34m,\u001b[0m \u001b[0mIndex\u001b[0m\u001b[0;34m)\u001b[0m\u001b[0;34m)\u001b[0m\u001b[0;34m:\u001b[0m\u001b[0;34m\u001b[0m\u001b[0m\n\u001b[1;32m   2580\u001b[0m                 \u001b[0;32mif\u001b[0m \u001b[0misinstance\u001b[0m\u001b[0;34m(\u001b[0m\u001b[0mvalue\u001b[0m\u001b[0;34m,\u001b[0m \u001b[0mlist\u001b[0m\u001b[0;34m)\u001b[0m \u001b[0;32mand\u001b[0m \u001b[0mlen\u001b[0m\u001b[0;34m(\u001b[0m\u001b[0mvalue\u001b[0m\u001b[0;34m)\u001b[0m \u001b[0;34m>\u001b[0m \u001b[0;36m0\u001b[0m\u001b[0;34m:\u001b[0m\u001b[0;34m\u001b[0m\u001b[0m\n",
      "\u001b[0;32m/Users/tjrempel/anaconda/lib/python2.7/site-packages/pandas/core/series.pyc\u001b[0m in \u001b[0;36m_sanitize_index\u001b[0;34m(data, index, copy)\u001b[0m\n\u001b[1;32m   2768\u001b[0m \u001b[0;34m\u001b[0m\u001b[0m\n\u001b[1;32m   2769\u001b[0m     \u001b[0;32mif\u001b[0m \u001b[0mlen\u001b[0m\u001b[0;34m(\u001b[0m\u001b[0mdata\u001b[0m\u001b[0;34m)\u001b[0m \u001b[0;34m!=\u001b[0m \u001b[0mlen\u001b[0m\u001b[0;34m(\u001b[0m\u001b[0mindex\u001b[0m\u001b[0;34m)\u001b[0m\u001b[0;34m:\u001b[0m\u001b[0;34m\u001b[0m\u001b[0m\n\u001b[0;32m-> 2770\u001b[0;31m         \u001b[0;32mraise\u001b[0m \u001b[0mValueError\u001b[0m\u001b[0;34m(\u001b[0m\u001b[0;34m'Length of values does not match length of '\u001b[0m \u001b[0;34m'index'\u001b[0m\u001b[0;34m)\u001b[0m\u001b[0;34m\u001b[0m\u001b[0m\n\u001b[0m\u001b[1;32m   2771\u001b[0m \u001b[0;34m\u001b[0m\u001b[0m\n\u001b[1;32m   2772\u001b[0m     \u001b[0;32mif\u001b[0m \u001b[0misinstance\u001b[0m\u001b[0;34m(\u001b[0m\u001b[0mdata\u001b[0m\u001b[0;34m,\u001b[0m \u001b[0mPeriodIndex\u001b[0m\u001b[0;34m)\u001b[0m\u001b[0;34m:\u001b[0m\u001b[0;34m\u001b[0m\u001b[0m\n",
      "\u001b[0;31mValueError\u001b[0m: Length of values does not match length of index"
     ]
    }
   ],
   "source": [
    "for item in collect:\n",
    "    night[night[\"grid\"]==item][\"zips\"] = collect[item]\n",
    "    "
   ]
  },
  {
   "cell_type": "code",
   "execution_count": 322,
   "metadata": {
    "collapsed": true
   },
   "outputs": [],
   "source": [
    "aa = [1,2,3]\n",
    "bb =[\"hi\",\"bye\",\"ab\"]"
   ]
  },
  {
   "cell_type": "code",
   "execution_count": 323,
   "metadata": {
    "collapsed": false
   },
   "outputs": [
    {
     "data": {
      "text/plain": [
       "[(1, 'hi'), (2, 'bye'), (3, 'ab')]"
      ]
     },
     "execution_count": 323,
     "metadata": {},
     "output_type": "execute_result"
    }
   ],
   "source": [
    "zip(aa,bb)"
   ]
  },
  {
   "cell_type": "code",
   "execution_count": 324,
   "metadata": {
    "collapsed": false
   },
   "outputs": [],
   "source": [
    "a,b= zip(*zip(aa,bb))"
   ]
  },
  {
   "cell_type": "code",
   "execution_count": 325,
   "metadata": {
    "collapsed": false
   },
   "outputs": [
    {
     "data": {
      "text/plain": [
       "(1, 2, 3)"
      ]
     },
     "execution_count": 325,
     "metadata": {},
     "output_type": "execute_result"
    }
   ],
   "source": [
    "a"
   ]
  },
  {
   "cell_type": "code",
   "execution_count": 80,
   "metadata": {
    "collapsed": true
   },
   "outputs": [],
   "source": [
    "with open(\"agg_data_heat.dill\", \"r\") as f:\n",
    "    heat = dill.load(f)"
   ]
  },
  {
   "cell_type": "code",
   "execution_count": 84,
   "metadata": {
    "collapsed": false
   },
   "outputs": [
    {
     "data": {
      "text/plain": [
       "[0.0,\n",
       " 0.5,\n",
       " 1.0,\n",
       " 1.5,\n",
       " 2.0,\n",
       " 2.5,\n",
       " 3.0,\n",
       " 3.5,\n",
       " 4.0,\n",
       " 4.5,\n",
       " 5.0,\n",
       " 5.5,\n",
       " 6.0,\n",
       " 6.5,\n",
       " 7.0,\n",
       " 7.5,\n",
       " 8.0,\n",
       " 8.5,\n",
       " 9.0,\n",
       " 9.5,\n",
       " 10.0,\n",
       " 10.5,\n",
       " 11.0,\n",
       " 11.5,\n",
       " 12.0,\n",
       " 12.5,\n",
       " 13.0,\n",
       " 13.5,\n",
       " 14.0,\n",
       " 14.5,\n",
       " 15.0,\n",
       " 15.5,\n",
       " 16.0,\n",
       " 16.5,\n",
       " 17.0,\n",
       " 17.5,\n",
       " 18.0,\n",
       " 18.5,\n",
       " 19.0,\n",
       " 19.5,\n",
       " 20.0,\n",
       " 20.5,\n",
       " 21.0,\n",
       " 21.5,\n",
       " 22.0,\n",
       " 22.5,\n",
       " 23.0,\n",
       " 23.5]"
      ]
     },
     "execution_count": 84,
     "metadata": {},
     "output_type": "execute_result"
    }
   ],
   "source": [
    "sorted(heat.heat_map.keys())"
   ]
  },
  {
   "cell_type": "code",
   "execution_count": 85,
   "metadata": {
    "collapsed": false
   },
   "outputs": [
    {
     "data": {
      "text/plain": [
       "(64, 81)"
      ]
     },
     "execution_count": 85,
     "metadata": {},
     "output_type": "execute_result"
    }
   ],
   "source": [
    "4**3,3**4"
   ]
  },
  {
   "cell_type": "code",
   "execution_count": 87,
   "metadata": {
    "collapsed": false
   },
   "outputs": [
    {
     "data": {
      "text/plain": [
       "145"
      ]
     },
     "execution_count": 87,
     "metadata": {},
     "output_type": "execute_result"
    }
   ],
   "source": [
    "sum([4**3,3**4])"
   ]
  },
  {
   "cell_type": "code",
   "execution_count": 88,
   "metadata": {
    "collapsed": false
   },
   "outputs": [
    {
     "data": {
      "text/plain": [
       "35.0"
      ]
     },
     "execution_count": 88,
     "metadata": {},
     "output_type": "execute_result"
    }
   ],
   "source": [
    "14/0.4"
   ]
  },
  {
   "cell_type": "code",
   "execution_count": null,
   "metadata": {
    "collapsed": true
   },
   "outputs": [],
   "source": []
  }
 ],
 "metadata": {
  "kernelspec": {
   "display_name": "Python 2",
   "language": "python",
   "name": "python2"
  },
  "language_info": {
   "codemirror_mode": {
    "name": "ipython",
    "version": 2
   },
   "file_extension": ".py",
   "mimetype": "text/x-python",
   "name": "python",
   "nbconvert_exporter": "python",
   "pygments_lexer": "ipython2",
   "version": "2.7.11"
  }
 },
 "nbformat": 4,
 "nbformat_minor": 0
}
